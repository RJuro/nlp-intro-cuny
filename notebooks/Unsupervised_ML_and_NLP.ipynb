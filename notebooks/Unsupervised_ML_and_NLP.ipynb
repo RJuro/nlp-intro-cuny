{
  "nbformat": 4,
  "nbformat_minor": 0,
  "metadata": {
    "colab": {
      "name": "Unsupervised ML and NLP",
      "provenance": [],
      "collapsed_sections": []
    },
    "kernelspec": {
      "name": "python3",
      "display_name": "Python 3"
    }
  },
  "cells": [
    {
      "cell_type": "markdown",
      "metadata": {
        "id": "dDq-VGAB_WG_"
      },
      "source": [
        "# Moving on to text-vectorization\n",
        "\n",
        "Before we dive into text-vectorization and representation: A bit something on SpaCy and part-of-speech tagging. Also: We will be using SpaCy as our main pre-processing tool, as it combines most of the things that we need in one convinient api.\n"
      ]
    },
    {
      "cell_type": "code",
      "metadata": {
        "id": "BZMq7F2oBopo"
      },
      "source": [
        "import pandas as pd\n",
        "import numpy as np"
      ],
      "execution_count": null,
      "outputs": []
    },
    {
      "cell_type": "code",
      "metadata": {
        "id": "vTqqjxP9_uAR"
      },
      "source": [
        "# Here is a long article text - again\n",
        "article = \"\"\"President Trump has said he came up with the term \"fake news. \" But the phrase has been in general circulation since the end of the 19th century, according to Merriam-Webster.\n",
        "\n",
        "Trump was, however, the first US President to deploy it against his opponents. And over the last four years, he has brought the phrase into the mainstream, popularizing it as a smear for unfavorable, but factual coverage.\n",
        "\n",
        "According to a database maintained by Stephanie Sugars of the US Press Freedom Tracker, Trump has used the phrase \"fake news\" nearly 900 times in tweets aimed to denigrate the media, insult particular news outlets, discredit supposed leaks and leakers, and allege falsehoods. As election day nears, he's redoubled his efforts bashing the fourth estate, research by Sugars has shown\n",
        "\n",
        "This has given cover and conferred legitimacy to other politicians hoping to do the same. \"Fake news\" has been invoked by dozens of leaders, governments and state media around the world, including Syrian President Bashar al-Assad, Venezuelan President Nicolas Maduro, Philippine President Rodrigo Duterte, Polish President Andrzej Duda, former Spanish Foreign Minister Alfonso Dastis, Chinese Ambassador to the United Kingdom Liu Xiaoming and former Malaysia Prime Minister Najib Razak, just to name a few.\n",
        "\n",
        "\"It [fake news rhetoric] has emboldened authoritarians, who are capable of taking even more brutal action against domestic opponents than President Trump can in the US.\" Allie Funk, a senior research analyst at Freedom House\n",
        "\n",
        "\"There is no question that the fact that the President of the United States is using this term to attack independent media gives an element of license to other politicians elsewhere, including some authoritarian leaders to dress up their own attacks on independent media and point to the example of the US,\" said Rasmus Kleis Nielsen, director of the Reuters Institute for the Study of Journalism.\"\"\""
      ],
      "execution_count": null,
      "outputs": []
    },
    {
      "cell_type": "code",
      "metadata": {
        "id": "t0D7XFT4BOlK"
      },
      "source": [
        "import spacy\n",
        "nlp = spacy.load(\"en\")\n",
        "\n",
        "# Let's apply the model to the article (as easy as that)\n",
        "article_nlp = nlp(article)"
      ],
      "execution_count": null,
      "outputs": []
    },
    {
      "cell_type": "code",
      "metadata": {
        "id": "kZctG-sGDltL",
        "outputId": "a6c9073b-279c-40f8-888e-836f0f1c80e8",
        "colab": {
          "base_uri": "https://localhost:8080/",
          "height": 292
        }
      },
      "source": [
        "# spaCy also splits sentences\n",
        "[sentance for sentance in article_nlp.sents][:10]"
      ],
      "execution_count": null,
      "outputs": [
        {
          "output_type": "execute_result",
          "data": {
            "text/plain": [
              "[President Trump has said he came up with the term \"fake news.,\n",
              " \" But the phrase has been in general circulation since the end of the 19th century, according to Merriam-Webster.\n",
              " ,\n",
              " Trump was, however, the first US President to deploy it against his opponents.,\n",
              " And over the last four years, he has brought the phrase into the mainstream, popularizing it as a smear for unfavorable, but factual coverage.\n",
              " ,\n",
              " According to a database maintained by Stephanie Sugars of the US Press Freedom Tracker, Trump has used the phrase \"fake news\" nearly 900 times in tweets aimed to denigrate the media, insult particular news outlets, discredit supposed leaks and leakers, and allege falsehoods.,\n",
              " As election day nears, he's redoubled his efforts bashing the fourth estate,\n",
              " , research by Sugars has shown\n",
              " \n",
              " This has given cover and conferred legitimacy to other politicians hoping to do the same.,\n",
              " \",\n",
              " Fake news\" has been invoked by dozens of leaders, governments and state media around the world, including,\n",
              " Syrian President Bashar al-Assad, Venezuelan President Nicolas Maduro, Philippine President Rodrigo Duterte, Polish President Andrzej Duda, former Spanish Foreign Minister Alfonso Dastis, Chinese Ambassador to the United Kingdom Liu Xiaoming and former Malaysia Prime Minister Najib Razak, just to name a few.\n",
              " ]"
            ]
          },
          "metadata": {
            "tags": []
          },
          "execution_count": 4
        }
      ]
    },
    {
      "cell_type": "code",
      "metadata": {
        "id": "A3m4lIm44qv6",
        "outputId": "fda1b277-bfc2-478c-d614-620c46460fef",
        "colab": {
          "base_uri": "https://localhost:8080/",
          "height": 867
        }
      },
      "source": [
        "# And: it will also annotate them with POS-labels\n",
        "sentance = [sentance for sentance in article_nlp.sents][4]\n",
        "[(token.text, token.pos_) for token in sentance]"
      ],
      "execution_count": null,
      "outputs": [
        {
          "output_type": "execute_result",
          "data": {
            "text/plain": [
              "[('According', 'VERB'),\n",
              " ('to', 'ADP'),\n",
              " ('a', 'DET'),\n",
              " ('database', 'NOUN'),\n",
              " ('maintained', 'VERB'),\n",
              " ('by', 'ADP'),\n",
              " ('Stephanie', 'PROPN'),\n",
              " ('Sugars', 'PROPN'),\n",
              " ('of', 'ADP'),\n",
              " ('the', 'DET'),\n",
              " ('US', 'PROPN'),\n",
              " ('Press', 'PROPN'),\n",
              " ('Freedom', 'PROPN'),\n",
              " ('Tracker', 'PROPN'),\n",
              " (',', 'PUNCT'),\n",
              " ('Trump', 'PROPN'),\n",
              " ('has', 'AUX'),\n",
              " ('used', 'VERB'),\n",
              " ('the', 'DET'),\n",
              " ('phrase', 'NOUN'),\n",
              " ('\"', 'PUNCT'),\n",
              " ('fake', 'ADJ'),\n",
              " ('news', 'NOUN'),\n",
              " ('\"', 'PUNCT'),\n",
              " ('nearly', 'ADV'),\n",
              " ('900', 'NUM'),\n",
              " ('times', 'NOUN'),\n",
              " ('in', 'ADP'),\n",
              " ('tweets', 'NOUN'),\n",
              " ('aimed', 'VERB'),\n",
              " ('to', 'PART'),\n",
              " ('denigrate', 'VERB'),\n",
              " ('the', 'DET'),\n",
              " ('media', 'NOUN'),\n",
              " (',', 'PUNCT'),\n",
              " ('insult', 'PROPN'),\n",
              " ('particular', 'ADJ'),\n",
              " ('news', 'NOUN'),\n",
              " ('outlets', 'NOUN'),\n",
              " (',', 'PUNCT'),\n",
              " ('discredit', 'NOUN'),\n",
              " ('supposed', 'VERB'),\n",
              " ('leaks', 'NOUN'),\n",
              " ('and', 'CCONJ'),\n",
              " ('leakers', 'NOUN'),\n",
              " (',', 'PUNCT'),\n",
              " ('and', 'CCONJ'),\n",
              " ('allege', 'VERB'),\n",
              " ('falsehoods', 'NOUN'),\n",
              " ('.', 'PUNCT')]"
            ]
          },
          "metadata": {
            "tags": []
          },
          "execution_count": 5
        }
      ]
    },
    {
      "cell_type": "code",
      "metadata": {
        "id": "Ou1jGUv74843",
        "outputId": "b7cfc184-f6d7-4f07-b845-e2276a226f13",
        "colab": {
          "base_uri": "https://localhost:8080/",
          "height": 391
        }
      },
      "source": [
        "# We can use this to extract only tokens that we think bear most of the meaning\n",
        "[token.text for token in sentance if token.pos_ in ['NOUN', 'PROPN', 'ADJ', 'ADV'] and not token.is_stop] "
      ],
      "execution_count": null,
      "outputs": [
        {
          "output_type": "execute_result",
          "data": {
            "text/plain": [
              "['database',\n",
              " 'Stephanie',\n",
              " 'Sugars',\n",
              " 'Press',\n",
              " 'Freedom',\n",
              " 'Tracker',\n",
              " 'Trump',\n",
              " 'phrase',\n",
              " 'fake',\n",
              " 'news',\n",
              " 'nearly',\n",
              " 'times',\n",
              " 'tweets',\n",
              " 'media',\n",
              " 'insult',\n",
              " 'particular',\n",
              " 'news',\n",
              " 'outlets',\n",
              " 'discredit',\n",
              " 'leaks',\n",
              " 'leakers',\n",
              " 'falsehoods']"
            ]
          },
          "metadata": {
            "tags": []
          },
          "execution_count": 6
        }
      ]
    },
    {
      "cell_type": "code",
      "metadata": {
        "id": "jFiFOnvEW5Oe",
        "outputId": "6347043f-e120-4cae-934a-0554668a68f7",
        "colab": {
          "base_uri": "https://localhost:8080/",
          "height": 204
        }
      },
      "source": [
        "# Also, we can create lemmas, thus reducing heterogeneity in the vocabulary without sacrificing much meaning\n",
        "\n",
        "[tok.lemma_ for tok in nlp(\"a text about innovations and all kinds things which goes nowhere\")]"
      ],
      "execution_count": null,
      "outputs": [
        {
          "output_type": "execute_result",
          "data": {
            "text/plain": [
              "['a',\n",
              " 'text',\n",
              " 'about',\n",
              " 'innovation',\n",
              " 'and',\n",
              " 'all',\n",
              " 'kind',\n",
              " 'thing',\n",
              " 'which',\n",
              " 'go',\n",
              " 'nowhere']"
            ]
          },
          "metadata": {
            "tags": []
          },
          "execution_count": 7
        }
      ]
    },
    {
      "cell_type": "code",
      "metadata": {
        "id": "Uvo7rxqOTIF9",
        "outputId": "2e7318de-d399-405c-ebf2-78cc19c6429a",
        "colab": {
          "base_uri": "https://localhost:8080/",
          "height": 391
        }
      },
      "source": [
        "# Isn't that great?\n",
        "\n",
        "[token.lemma_.lower() for token in sentance if token.pos_ in ['NOUN', 'PROPN', 'ADJ', 'ADV'] and not token.is_stop] "
      ],
      "execution_count": null,
      "outputs": [
        {
          "output_type": "execute_result",
          "data": {
            "text/plain": [
              "['database',\n",
              " 'stephanie',\n",
              " 'sugars',\n",
              " 'press',\n",
              " 'freedom',\n",
              " 'tracker',\n",
              " 'trump',\n",
              " 'phrase',\n",
              " 'fake',\n",
              " 'news',\n",
              " 'nearly',\n",
              " 'time',\n",
              " 'tweet',\n",
              " 'medium',\n",
              " 'insult',\n",
              " 'particular',\n",
              " 'news',\n",
              " 'outlet',\n",
              " 'discredit',\n",
              " 'leak',\n",
              " 'leaker',\n",
              " 'falsehood']"
            ]
          },
          "metadata": {
            "tags": []
          },
          "execution_count": 8
        }
      ]
    },
    {
      "cell_type": "markdown",
      "metadata": {
        "id": "AJ33e5O8ic-c"
      },
      "source": [
        "Thus we have created a representation of a text that is probably as \"minimal\" as possible - Maximising meaning and minimising \"noise\"\n",
        "\n",
        "In the last part of this notebook we will try to use such representations to explore the content of text collections"
      ]
    },
    {
      "cell_type": "markdown",
      "metadata": {
        "id": "Sf1JFlnmaSUB"
      },
      "source": [
        "### Bag of words model\n",
        "\n",
        "In order for a computer to understand text we need to somehow find a useful representation.\n",
        "If you need to compare different texts e.g. articles, you will probably go for keywords. These keywords may come from a keyword-list with for example 200 different keywords\n",
        "In that case you could represent each document with a (sparse) vector with 1 for \"keyword present\" and 0 for \"keyword absent\"\n",
        "We can also get a bit more sophoistocated and count the number of times a word from our dictionary occurs.\n",
        "For a corpus of documents that would give us a document-term matrix\n",
        "![example](https://i.stack.imgur.com/C1UMs.png)\n",
        "\n",
        "Let's try creating a bag of words model from our initial example."
      ]
    },
    {
      "cell_type": "code",
      "metadata": {
        "id": "64CPbz3xaWpp"
      },
      "source": [
        "from sklearn.feature_extraction.text import CountVectorizer\n",
        "corpus = [\n",
        "    \n",
        "     'A text about cats.',\n",
        "     'A text about dogs.',\n",
        "     'And another text about a dog.',\n",
        "     'Why always writing about cats and dogs, always dogs?',\n",
        "   ]\n",
        "vectorizer = CountVectorizer()\n",
        "X = vectorizer.fit_transform(corpus)"
      ],
      "execution_count": null,
      "outputs": []
    },
    {
      "cell_type": "code",
      "metadata": {
        "id": "-pCTn2y6a2ra",
        "outputId": "a1fe9de7-302a-48b0-8a4f-825f0ff8b47d",
        "colab": {
          "base_uri": "https://localhost:8080/",
          "height": 173
        }
      },
      "source": [
        "pd.DataFrame(X.A, columns=vectorizer.get_feature_names())"
      ],
      "execution_count": null,
      "outputs": [
        {
          "output_type": "execute_result",
          "data": {
            "text/html": [
              "<div>\n",
              "<style scoped>\n",
              "    .dataframe tbody tr th:only-of-type {\n",
              "        vertical-align: middle;\n",
              "    }\n",
              "\n",
              "    .dataframe tbody tr th {\n",
              "        vertical-align: top;\n",
              "    }\n",
              "\n",
              "    .dataframe thead th {\n",
              "        text-align: right;\n",
              "    }\n",
              "</style>\n",
              "<table border=\"1\" class=\"dataframe\">\n",
              "  <thead>\n",
              "    <tr style=\"text-align: right;\">\n",
              "      <th></th>\n",
              "      <th>about</th>\n",
              "      <th>always</th>\n",
              "      <th>and</th>\n",
              "      <th>another</th>\n",
              "      <th>cats</th>\n",
              "      <th>dog</th>\n",
              "      <th>dogs</th>\n",
              "      <th>text</th>\n",
              "      <th>why</th>\n",
              "      <th>writing</th>\n",
              "    </tr>\n",
              "  </thead>\n",
              "  <tbody>\n",
              "    <tr>\n",
              "      <th>0</th>\n",
              "      <td>1</td>\n",
              "      <td>0</td>\n",
              "      <td>0</td>\n",
              "      <td>0</td>\n",
              "      <td>1</td>\n",
              "      <td>0</td>\n",
              "      <td>0</td>\n",
              "      <td>1</td>\n",
              "      <td>0</td>\n",
              "      <td>0</td>\n",
              "    </tr>\n",
              "    <tr>\n",
              "      <th>1</th>\n",
              "      <td>1</td>\n",
              "      <td>0</td>\n",
              "      <td>0</td>\n",
              "      <td>0</td>\n",
              "      <td>0</td>\n",
              "      <td>0</td>\n",
              "      <td>1</td>\n",
              "      <td>1</td>\n",
              "      <td>0</td>\n",
              "      <td>0</td>\n",
              "    </tr>\n",
              "    <tr>\n",
              "      <th>2</th>\n",
              "      <td>1</td>\n",
              "      <td>0</td>\n",
              "      <td>1</td>\n",
              "      <td>1</td>\n",
              "      <td>0</td>\n",
              "      <td>1</td>\n",
              "      <td>0</td>\n",
              "      <td>1</td>\n",
              "      <td>0</td>\n",
              "      <td>0</td>\n",
              "    </tr>\n",
              "    <tr>\n",
              "      <th>3</th>\n",
              "      <td>1</td>\n",
              "      <td>2</td>\n",
              "      <td>1</td>\n",
              "      <td>0</td>\n",
              "      <td>1</td>\n",
              "      <td>0</td>\n",
              "      <td>2</td>\n",
              "      <td>0</td>\n",
              "      <td>1</td>\n",
              "      <td>1</td>\n",
              "    </tr>\n",
              "  </tbody>\n",
              "</table>\n",
              "</div>"
            ],
            "text/plain": [
              "   about  always  and  another  cats  dog  dogs  text  why  writing\n",
              "0      1       0    0        0     1    0     0     1    0        0\n",
              "1      1       0    0        0     0    0     1     1    0        0\n",
              "2      1       0    1        1     0    1     0     1    0        0\n",
              "3      1       2    1        0     1    0     2     0    1        1"
            ]
          },
          "metadata": {
            "tags": []
          },
          "execution_count": 10
        }
      ]
    },
    {
      "cell_type": "markdown",
      "metadata": {
        "id": "roRMrE7HpNHp"
      },
      "source": [
        "#### TF-IDF - Term Frequency - Inverse Document Frequency\n",
        "\n",
        "A token is importan for a document if appears very often\n",
        "A token becomes less important for comparaison across a corpus if it appears all over the place in the corpus\n",
        "\n",
        "*Innovation* in a corpus of abstracts talking about innovation is not that important\n",
        "\n",
        "\\begin{equation*}\n",
        "w_{i,j} = tf_{i,j}*log(\\frac{N}{df_i})\n",
        "\\end{equation*}\n",
        "\n",
        "- $w_{i,j}$ = the TF-IDF score for a term i in a document j\n",
        "- $tf_{i,j}$ = number of occurence of term i in document j\n",
        "- $N$ = number of documents in the corpus\n",
        "- $df_i$ = number of documents with term i\n",
        "\n",
        "\n",
        "We will use TF-IDF to transform our corpus. However, first we need to fir the TF-IDF model."
      ]
    },
    {
      "cell_type": "code",
      "metadata": {
        "id": "Z2TjxKuHnEzJ"
      },
      "source": [
        "from sklearn.feature_extraction.text import TfidfVectorizer\n",
        "\n",
        "vectorizer = TfidfVectorizer()\n",
        "X = vectorizer.fit_transform(corpus)"
      ],
      "execution_count": null,
      "outputs": []
    },
    {
      "cell_type": "code",
      "metadata": {
        "id": "fDln35hvo7qx",
        "outputId": "b517ff82-e2d3-4216-ec4f-4417bdae8bd2",
        "colab": {
          "base_uri": "https://localhost:8080/",
          "height": 173
        }
      },
      "source": [
        "pd.DataFrame(X.A, columns=vectorizer.get_feature_names())"
      ],
      "execution_count": null,
      "outputs": [
        {
          "output_type": "execute_result",
          "data": {
            "text/html": [
              "<div>\n",
              "<style scoped>\n",
              "    .dataframe tbody tr th:only-of-type {\n",
              "        vertical-align: middle;\n",
              "    }\n",
              "\n",
              "    .dataframe tbody tr th {\n",
              "        vertical-align: top;\n",
              "    }\n",
              "\n",
              "    .dataframe thead th {\n",
              "        text-align: right;\n",
              "    }\n",
              "</style>\n",
              "<table border=\"1\" class=\"dataframe\">\n",
              "  <thead>\n",
              "    <tr style=\"text-align: right;\">\n",
              "      <th></th>\n",
              "      <th>about</th>\n",
              "      <th>always</th>\n",
              "      <th>and</th>\n",
              "      <th>another</th>\n",
              "      <th>cats</th>\n",
              "      <th>dog</th>\n",
              "      <th>dogs</th>\n",
              "      <th>text</th>\n",
              "      <th>why</th>\n",
              "      <th>writing</th>\n",
              "    </tr>\n",
              "  </thead>\n",
              "  <tbody>\n",
              "    <tr>\n",
              "      <th>0</th>\n",
              "      <td>0.457453</td>\n",
              "      <td>0.000000</td>\n",
              "      <td>0.000000</td>\n",
              "      <td>0.000000</td>\n",
              "      <td>0.691131</td>\n",
              "      <td>0.000000</td>\n",
              "      <td>0.000000</td>\n",
              "      <td>0.559530</td>\n",
              "      <td>0.000000</td>\n",
              "      <td>0.000000</td>\n",
              "    </tr>\n",
              "    <tr>\n",
              "      <th>1</th>\n",
              "      <td>0.457453</td>\n",
              "      <td>0.000000</td>\n",
              "      <td>0.000000</td>\n",
              "      <td>0.000000</td>\n",
              "      <td>0.000000</td>\n",
              "      <td>0.000000</td>\n",
              "      <td>0.691131</td>\n",
              "      <td>0.559530</td>\n",
              "      <td>0.000000</td>\n",
              "      <td>0.000000</td>\n",
              "    </tr>\n",
              "    <tr>\n",
              "      <th>2</th>\n",
              "      <td>0.287207</td>\n",
              "      <td>0.000000</td>\n",
              "      <td>0.433919</td>\n",
              "      <td>0.550372</td>\n",
              "      <td>0.000000</td>\n",
              "      <td>0.550372</td>\n",
              "      <td>0.000000</td>\n",
              "      <td>0.351295</td>\n",
              "      <td>0.000000</td>\n",
              "      <td>0.000000</td>\n",
              "    </tr>\n",
              "    <tr>\n",
              "      <th>3</th>\n",
              "      <td>0.165005</td>\n",
              "      <td>0.632396</td>\n",
              "      <td>0.249294</td>\n",
              "      <td>0.000000</td>\n",
              "      <td>0.249294</td>\n",
              "      <td>0.000000</td>\n",
              "      <td>0.498588</td>\n",
              "      <td>0.000000</td>\n",
              "      <td>0.316198</td>\n",
              "      <td>0.316198</td>\n",
              "    </tr>\n",
              "  </tbody>\n",
              "</table>\n",
              "</div>"
            ],
            "text/plain": [
              "      about    always       and  ...      text       why   writing\n",
              "0  0.457453  0.000000  0.000000  ...  0.559530  0.000000  0.000000\n",
              "1  0.457453  0.000000  0.000000  ...  0.559530  0.000000  0.000000\n",
              "2  0.287207  0.000000  0.433919  ...  0.351295  0.000000  0.000000\n",
              "3  0.165005  0.632396  0.249294  ...  0.000000  0.316198  0.316198\n",
              "\n",
              "[4 rows x 10 columns]"
            ]
          },
          "metadata": {
            "tags": []
          },
          "execution_count": 12
        }
      ]
    },
    {
      "cell_type": "code",
      "metadata": {
        "id": "WHV7quvyL0cd"
      },
      "source": [
        "# let's fist install this nice visualizer\n",
        "!pip install -qq pyLDAvis"
      ],
      "execution_count": null,
      "outputs": []
    },
    {
      "cell_type": "code",
      "metadata": {
        "id": "fuGZe88uMxCh"
      },
      "source": [
        "# and import it\n",
        "import pyLDAvis.gensim\n",
        "%matplotlib inline\n",
        "pyLDAvis.enable_notebook()"
      ],
      "execution_count": null,
      "outputs": []
    },
    {
      "cell_type": "markdown",
      "metadata": {
        "id": "qmAhAMcrjJjU"
      },
      "source": [
        "We will be using a dataset from EU Cordis which describes H2020 research projects. No tweets for now.\n",
        "\n",
        "http://data.europa.eu/euodp/en/data/dataset/cordisH2020projects"
      ]
    },
    {
      "cell_type": "code",
      "metadata": {
        "id": "QZyun0T2US-a"
      },
      "source": [
        "# I put a little sample (500 observations) of the data on github\n",
        "\n",
        "reports = pd.read_csv('https://github.com/SDS-AAU/SDS-master/raw/master/M2/data/cordis-h2020reports.gz')"
      ],
      "execution_count": null,
      "outputs": []
    },
    {
      "cell_type": "code",
      "metadata": {
        "id": "F5aD1YE3dHNe",
        "outputId": "6ac08f2f-f06a-4ca0-aedd-cf55dd7ee2f8",
        "colab": {
          "base_uri": "https://localhost:8080/",
          "height": 391
        }
      },
      "source": [
        "reports.info()"
      ],
      "execution_count": null,
      "outputs": [
        {
          "output_type": "stream",
          "text": [
            "<class 'pandas.core.frame.DataFrame'>\n",
            "RangeIndex: 500 entries, 0 to 499\n",
            "Data columns (total 15 columns):\n",
            " #   Column          Non-Null Count  Dtype  \n",
            "---  ------          --------------  -----  \n",
            " 0   Unnamed: 0      500 non-null    int64  \n",
            " 1   rcn             500 non-null    int64  \n",
            " 2   language        500 non-null    object \n",
            " 3   title           500 non-null    object \n",
            " 4   teaser          500 non-null    object \n",
            " 5   summary         500 non-null    object \n",
            " 6   workPerformed   499 non-null    object \n",
            " 7   finalResults    499 non-null    object \n",
            " 8   lastUpdateDate  499 non-null    object \n",
            " 9   country         0 non-null      float64\n",
            " 10  projectID       499 non-null    float64\n",
            " 11  projectAcronym  499 non-null    object \n",
            " 12  programme       499 non-null    object \n",
            " 13  topics          499 non-null    object \n",
            " 14  url             457 non-null    object \n",
            "dtypes: float64(2), int64(2), object(11)\n",
            "memory usage: 58.7+ KB\n"
          ],
          "name": "stdout"
        }
      ]
    },
    {
      "cell_type": "code",
      "metadata": {
        "id": "FLXIRn3Pl3_h"
      },
      "source": [
        "# reindec\n",
        "reports.index = range(len(reports))"
      ],
      "execution_count": null,
      "outputs": []
    },
    {
      "cell_type": "code",
      "metadata": {
        "id": "P9ZYojgcX8xx"
      },
      "source": [
        "# now, let's combine everything that we learned about preprocessing in a few lines of code\n",
        "\n",
        "tokens = []\n",
        "\n",
        "for summary in nlp.pipe(reports['summary']):\n",
        "  proj_tok = [token.lemma_.lower() for token in summary if token.pos_ in ['NOUN', 'PROPN', 'ADJ', 'ADV'] and not token.is_stop] \n",
        "  tokens.append(proj_tok)"
      ],
      "execution_count": null,
      "outputs": []
    },
    {
      "cell_type": "code",
      "metadata": {
        "id": "swYK2bBvbbol"
      },
      "source": [
        "# Let's bring the tokens back in\n",
        "\n",
        "reports['tokens'] = tokens"
      ],
      "execution_count": null,
      "outputs": []
    },
    {
      "cell_type": "code",
      "metadata": {
        "id": "-b0TwvW8DTxB"
      },
      "source": [
        "reports['tokens'][3]"
      ],
      "execution_count": null,
      "outputs": []
    },
    {
      "cell_type": "markdown",
      "metadata": {
        "id": "fPG-IPHRkkV9"
      },
      "source": [
        "Another library that you have to know when doing NLP (once you progress to DeepLearning and recent stuff probably not any more but for now) is gensim\n",
        "\n",
        "https://radimrehurek.com/gensim/\n",
        "\n",
        "This is the library that handles all kinds of statistical NLP tasks and goes as far as implementing (super efficient) embedding model training (next class)\n",
        "But: With NLP today being all BERT, ELMO and transformers probably declining in importance. Back in 2013 gensim was a major discovery and breakthrough helper when I was working on my PhD. One more reason to have a look at it.\n",
        "\n"
      ]
    },
    {
      "cell_type": "code",
      "metadata": {
        "id": "motjLUBpDmdL"
      },
      "source": [
        "!pip install -qq -U gensim"
      ],
      "execution_count": null,
      "outputs": []
    },
    {
      "cell_type": "code",
      "metadata": {
        "id": "EWU7zITlkwPs"
      },
      "source": [
        "# Import the dictionary builder\n",
        "from gensim.corpora.dictionary import Dictionary"
      ],
      "execution_count": null,
      "outputs": []
    },
    {
      "cell_type": "code",
      "metadata": {
        "id": "iOmNmWMvZ8Vy"
      },
      "source": [
        "# Create a Dictionary from the articles: dictionary\n",
        "dictionary = Dictionary(reports['tokens'])"
      ],
      "execution_count": null,
      "outputs": []
    },
    {
      "cell_type": "code",
      "metadata": {
        "id": "wZW6Idn_btnL"
      },
      "source": [
        "# filter out low-frequency / high-frequency stuff, also limit the vocabulary to max 1000 words\n",
        "dictionary.filter_extremes(no_below=5, no_above=0.5, keep_n=1000)"
      ],
      "execution_count": null,
      "outputs": []
    },
    {
      "cell_type": "code",
      "metadata": {
        "id": "UB6aB8E-bkW9"
      },
      "source": [
        "# construct corpus using this dictionary\n",
        "corpus = [dictionary.doc2bow(doc) for doc in reports['tokens']]"
      ],
      "execution_count": null,
      "outputs": []
    },
    {
      "cell_type": "code",
      "metadata": {
        "id": "WNOI_-xNl5PG",
        "outputId": "d0cb5c47-b7c0-42b5-802d-c9eff35515d6",
        "colab": {
          "base_uri": "https://localhost:8080/",
          "height": 187
        }
      },
      "source": [
        "# That's how the corpus looks\n",
        "corpus[3][:10]"
      ],
      "execution_count": null,
      "outputs": [
        {
          "output_type": "execute_result",
          "data": {
            "text/plain": [
              "[(7, 1),\n",
              " (15, 1),\n",
              " (21, 1),\n",
              " (22, 4),\n",
              " (23, 1),\n",
              " (26, 2),\n",
              " (27, 1),\n",
              " (35, 1),\n",
              " (36, 1),\n",
              " (40, 1)]"
            ]
          },
          "metadata": {
            "tags": []
          },
          "execution_count": 30
        }
      ]
    },
    {
      "cell_type": "markdown",
      "metadata": {
        "id": "T4krg3HfmAhp"
      },
      "source": [
        "### Topic modelling - NLP meets unsupervised ML\n",
        "\n",
        "The corpus is a list of tuples, with word-ids and the number of their occurrence in documents: LDA - https://youtu.be/DWJYZq_fQ2A\n",
        "\n",
        "We will start with a topic modelling approach that is good for interpretable topics but not too much for further processing\n",
        "\n",
        "![alt text](https://miro.medium.com/max/1600/1*pZo_IcxW1GVuH2vQKdoIMQ.jpeg)\n"
      ]
    },
    {
      "cell_type": "code",
      "metadata": {
        "id": "G3vcFRRqbsFR"
      },
      "source": [
        "# we'll use the faster multicore version of LDA\n",
        "\n",
        "from gensim.models import LdaMulticore"
      ],
      "execution_count": null,
      "outputs": []
    },
    {
      "cell_type": "code",
      "metadata": {
        "id": "Sv_Z6JXIb526"
      },
      "source": [
        "# Training the model\n",
        "lda_model = LdaMulticore(corpus, id2word=dictionary, num_topics=10, workers = 4, passes=10)"
      ],
      "execution_count": null,
      "outputs": []
    },
    {
      "cell_type": "code",
      "metadata": {
        "id": "cXPrQHO9nDhB",
        "outputId": "600818ca-281c-4a88-a775-faae168e2868",
        "colab": {
          "base_uri": "https://localhost:8080/",
          "height": 357
        }
      },
      "source": [
        "# Check out topics\n",
        "lda_model.print_topics(-1)"
      ],
      "execution_count": null,
      "outputs": [
        {
          "output_type": "execute_result",
          "data": {
            "text/plain": [
              "[(0,\n",
              "  '0.027*\"datum\" + 0.017*\"service\" + 0.016*\"-\" + 0.013*\"research\" + 0.011*\"european\" + 0.011*\"data\" + 0.009*\"application\" + 0.009*\"science\" + 0.009*\"platform\" + 0.008*\"public\"'),\n",
              " (1,\n",
              "  '0.037*\"child\" + 0.033*\"human\" + 0.019*\"study\" + 0.016*\"change\" + 0.013*\"language\" + 0.013*\"social\" + 0.011*\"analysis\" + 0.011*\"communication\" + 0.011*\"interaction\" + 0.010*\"concept\"'),\n",
              " (2,\n",
              "  '0.024*\"disease\" + 0.023*\"patient\" + 0.023*\"clinical\" + 0.014*\"care\" + 0.014*\"health\" + 0.013*\"system\" + 0.013*\"treatment\" + 0.011*\"study\" + 0.011*\"cell\" + 0.011*\"model\"'),\n",
              " (3,\n",
              "  '0.037*\"energy\" + 0.015*\"people\" + 0.015*\"user\" + 0.014*\"%\" + 0.014*\"plan\" + 0.014*\"building\" + 0.012*\"market\" + 0.011*\"cost\" + 0.011*\"phase\" + 0.010*\"business\"'),\n",
              " (4,\n",
              "  '0.024*\"sme\" + 0.024*\"innovation\" + 0.017*\"food\" + 0.015*\"market\" + 0.014*\"eu\" + 0.014*\"service\" + 0.011*\"phase\" + 0.011*\"management\" + 0.011*\"business\" + 0.011*\"product\"'),\n",
              " (5,\n",
              "  '0.022*\"system\" + 0.020*\"market\" + 0.016*\"process\" + 0.016*\"technology\" + 0.014*\"energy\" + 0.014*\"cost\" + 0.012*\"new\" + 0.011*\"production\" + 0.011*\"solution\" + 0.011*\"high\"'),\n",
              " (6,\n",
              "  '0.046*\"cell\" + 0.016*\"protein\" + 0.015*\"mechanism\" + 0.014*\"-\" + 0.014*\"new\" + 0.012*\"cancer\" + 0.011*\"plant\" + 0.011*\"role\" + 0.010*\"function\" + 0.010*\"process\"'),\n",
              " (7,\n",
              "  '0.025*\"system\" + 0.020*\"water\" + 0.018*\"product\" + 0.015*\"new\" + 0.014*\"quantum\" + 0.013*\"-\" + 0.010*\"technology\" + 0.009*\"property\" + 0.008*\"process\" + 0.008*\"optical\"'),\n",
              " (8,\n",
              "  '0.037*\"research\" + 0.015*\"european\" + 0.012*\"knowledge\" + 0.011*\"health\" + 0.011*\"new\" + 0.009*\"activity\" + 0.009*\"country\" + 0.008*\"innovation\" + 0.008*\"-\" + 0.008*\"international\"'),\n",
              " (9,\n",
              "  '0.031*\"material\" + 0.017*\"high\" + 0.014*\"system\" + 0.013*\"power\" + 0.012*\"design\" + 0.011*\"low\" + 0.011*\"technology\" + 0.011*\"-\" + 0.010*\"electrical\" + 0.010*\"performance\"')]"
            ]
          },
          "metadata": {
            "tags": []
          },
          "execution_count": 33
        }
      ]
    },
    {
      "cell_type": "code",
      "metadata": {
        "id": "d80U1-IrnK77",
        "outputId": "154a02fa-c98d-4ee7-c32c-003da6d4d936",
        "colab": {
          "base_uri": "https://localhost:8080/",
          "height": 34
        }
      },
      "source": [
        "# Where does a text belong to?\n",
        "lda_model[corpus][0]"
      ],
      "execution_count": null,
      "outputs": [
        {
          "output_type": "execute_result",
          "data": {
            "text/plain": [
              "[(5, 0.30025846), (9, 0.6893487)]"
            ]
          },
          "metadata": {
            "tags": []
          },
          "execution_count": 34
        }
      ]
    },
    {
      "cell_type": "code",
      "metadata": {
        "id": "67BsAOEMtAO9",
        "outputId": "22f33875-33d5-4392-e279-237372b34ba1",
        "colab": {
          "base_uri": "https://localhost:8080/",
          "height": 103
        }
      },
      "source": [
        "reports['summary'][0]"
      ],
      "execution_count": null,
      "outputs": [
        {
          "output_type": "execute_result",
          "data": {
            "application/vnd.google.colaboratory.intrinsic+json": {
              "type": "string"
            },
            "text/plain": [
              "'Polyaniline has historically been one of the most promising conductive polymers from a cost/performance perspective, but processing issues have limited its uptake. Building upon seminal work on polyaniline performed at the CEA, RESCOLL (an independent research company based in France specialized in chemistry materials) has developed and patented a new electrically conductive polyaniline formulation under the trade name of PANIPLAST™. \\n\\nPANIPLAST polymers are safe-by-design, REACh compliant, low cost, easily produced materials which can be used to produce highly concentrated dispersions which exhibit very high electrical conductivities and improved stability. \\n\\nThe unique and versatile nature of PANIPLAST technology opens up new opportunities to create a vast range of products based upon its excellent electrical conductivity such as conductive resins, conductive coatings, ultrathin films, inks etc.\\nPANIPLAST is a material with great market potential and is an innovative response to many market needs for which there is no commercial solution available today for cost or performance reasons.\\n\\nSensing a significant market interest, and that end-users are prepared to integrate technology into their products, RESCOLL purchased STILZ Chimie in 2015, a producer of paint and ink formulations, in order to acquire pilot and industrial scale production capability. \\nThe challenge is now to transfer the technology at the industrial scale in order to bridge the performance capabilities and cost of PANIPLAST conductive polymers with the increasing market demand for conductive materials.'"
            ]
          },
          "metadata": {
            "tags": []
          },
          "execution_count": 35
        }
      ]
    },
    {
      "cell_type": "code",
      "metadata": {
        "id": "SDIH34Lvb7Cz"
      },
      "source": [
        "# Let's try to visualize\n",
        "lda_display = pyLDAvis.gensim.prepare(lda_model, corpus, dictionary)\n"
      ],
      "execution_count": null,
      "outputs": []
    },
    {
      "cell_type": "code",
      "metadata": {
        "id": "bmDFJBBFcBHV",
        "outputId": "6cab4300-6ad5-4c8a-bc79-f8b01d064daf",
        "colab": {
          "base_uri": "https://localhost:8080/",
          "height": 861
        }
      },
      "source": [
        "# Let's Visualize\n",
        "pyLDAvis.display(lda_display)"
      ],
      "execution_count": null,
      "outputs": [
        {
          "output_type": "execute_result",
          "data": {
            "text/html": [
              "\n",
              "<link rel=\"stylesheet\" type=\"text/css\" href=\"https://cdn.rawgit.com/bmabey/pyLDAvis/files/ldavis.v1.0.0.css\">\n",
              "\n",
              "\n",
              "<div id=\"ldavis_el6101400659292796724257863570\"></div>\n",
              "<script type=\"text/javascript\">\n",
              "\n",
              "var ldavis_el6101400659292796724257863570_data = {\"mdsDat\": {\"x\": [0.09880434966457896, 0.01641672839256424, 0.04757735066077624, 0.10193770916048915, -0.20407401820354795, 0.00213357495334806, 0.021346455724388213, -0.06812820444666798, 0.1069199641638268, -0.1229339100697562], \"y\": [-0.07948205896340628, 0.10509464852130741, 0.0523725782348325, 0.04932090552467878, -0.06676148356580007, -0.09550743097706665, -0.14876430670202598, 0.055935447241222805, 0.03430113149518739, 0.09349056919106997], \"topics\": [1, 2, 3, 4, 5, 6, 7, 8, 9, 10], \"cluster\": [1, 1, 1, 1, 1, 1, 1, 1, 1, 1], \"Freq\": [18.50656083219792, 12.476945095399007, 12.055000316711718, 11.372927992053167, 10.8328413190827, 9.691145895237776, 9.119023055414525, 8.62620461702097, 4.140986487503773, 3.178364389378445]}, \"tinfo\": {\"Term\": [\"cell\", \"energy\", \"material\", \"research\", \"human\", \"sme\", \"disease\", \"innovation\", \"patient\", \"clinical\", \"child\", \"datum\", \"water\", \"study\", \"protein\", \"food\", \"market\", \"system\", \"social\", \"service\", \"product\", \"quantum\", \"people\", \"health\", \"plan\", \"care\", \"building\", \"cancer\", \"cost\", \"user\", \"iot\", \"car\", \"battery\", \"sensor\", \"raw\", \"intelligent\", \"manufacturer\", \"operator\", \"vehicle\", \"eco\", \"renewable\", \"driver\", \"\\u20ac\", \"comfort\", \"manufacturing\", \"configuration\", \"environmentally\", \"transportation\", \"machine\", \"air\", \"electric\", \"prototype\", \"recovery\", \"supplier\", \"electricity\", \"free\", \"launch\", \"organic\", \"realistic\", \"metal\", \"production\", \"emission\", \"industrial\", \"reduction\", \"smart\", \"market\", \"energy\", \"device\", \"cost\", \"process\", \"system\", \"solution\", \"technology\", \"storage\", \"product\", \"industry\", \"quality\", \"high\", \"new\", \"material\", \"business\", \"%\", \"efficiency\", \"development\", \"feasibility\", \"current\", \"innovative\", \"application\", \"datum\", \"time\", \"-\", \"use\", \"design\", \"year\", \"cooperation\", \"institute\", \"excellence\", \"university\", \"transfer\", \"participation\", \"government\", \"centre\", \"noise\", \"political\", \"italy\", \"era\", \"authority\", \"regional\", \"academia\", \"coordination\", \"student\", \"disability\", \"organization\", \"exposure\", \"training\", \"international\", \"visit\", \"academic\", \"workshop\", \"healthy\", \"germany\", \"institution\", \"country\", \"joint\", \"research\", \"partnership\", \"knowledge\", \"national\", \"scientific\", \"member\", \"policy\", \"health\", \"initiative\", \"european\", \"city\", \"researcher\", \"partner\", \"activity\", \"citizen\", \"programme\", \"public\", \"europe\", \"new\", \"innovation\", \"world\", \"society\", \"social\", \"level\", \"-\", \"study\", \"industry\", \"people\", \"eu\", \"high\", \"technology\", \"data\", \"content\", \"interactive\", \"hardware\", \"learning\", \"access\", \"scientist\", \"compliance\", \"young\", \"entity\", \"infrastructure\", \"open\", \"union\", \"science\", \"record\", \"datum\", \"trade\", \"recognition\", \"agency\", \"job\", \"biodiversity\", \"database\", \"employment\", \"cross\", \"earth\", \"set\", \"co\", \"evolution\", \"observation\", \"medium\", \"community\", \"public\", \"service\", \"researcher\", \"platform\", \"software\", \"european\", \"-\", \"large\", \"people\", \"social\", \"research\", \"application\", \"tool\", \"work\", \"security\", \"environment\", \"impact\", \"new\", \"time\", \"europe\", \"network\", \"high\", \"business\", \"innovation\", \"smes\", \"beneficiary\", \"sme\", \"food\", \"consumer\", \"instrument\", \"app\", \"agriculture\", \"ict\", \"actor\", \"internet\", \"enterprise\", \"package\", \"h2020\", \"location\", \"practical\", \"big\", \"spectrum\", \"innovation\", \"task\", \"waste\", \"intelligence\", \"agricultural\", \"effectively\", \"affordable\", \"marketing\", \"mobile\", \"viability\", \"secure\", \"one\", \"web\", \"capacity\", \"support\", \"eu\", \"management\", \"phase\", \"economic\", \"final\", \"service\", \"feasibility\", \"economy\", \"plan\", \"company\", \"business\", \"action\", \"market\", \"customer\", \"potential\", \"product\", \"innovative\", \"solution\", \"technology\", \"network\", \"development\", \"model\", \"industry\", \"quality\", \"analysis\", \"study\", \"system\", \"protein\", \"vivo\", \"cellular\", \"progression\", \"organism\", \"expression\", \"unknown\", \"cell\", \"cancer\", \"imaging\", \"mouse\", \"differentiation\", \"reaction\", \"hypothesis\", \"brain\", \"immune\", \"molecular\", \"synthesis\", \"mechanism\", \"plant\", \"microscopy\", \"developmental\", \"stress\", \"tissue\", \"gene\", \"pathway\", \"magnetic\", \"function\", \"biology\", \"formation\", \"response\", \"role\", \"functional\", \"structure\", \"disease\", \"-\", \"understanding\", \"new\", \"process\", \"drug\", \"development\", \"level\", \"high\", \"research\", \"result\", \"treatment\", \"study\", \"potential\", \"important\", \"quantum\", \"water\", \"optical\", \"oil\", \"theory\", \"prediction\", \"physics\", \"difficult\", \"chemical\", \"circuit\", \"matter\", \"half\", \"fluid\", \"object\", \"additive\", \"crop\", \"composition\", \"property\", \"automation\", \"near\", \"threat\", \"rule\", \"ecological\", \"report\", \"robust\", \"phenomenon\", \"continuous\", \"traditional\", \"party\", \"liquid\", \"characteristic\", \"customer\", \"class\", \"product\", \"fuel\", \"fundamental\", \"system\", \"variety\", \"information\", \"company\", \"chain\", \"range\", \"new\", \"-\", \"value\", \"large\", \"goal\", \"%\", \"time\", \"technology\", \"field\", \"year\", \"process\", \"industry\", \"high\", \"method\", \"phase\", \"development\", \"scale\", \"use\", \"application\", \"composite\", \"strain\", \"polymer\", \"electrical\", \"speed\", \"motor\", \"weight\", \"simulation\", \"road\", \"thermal\", \"modelling\", \"reliability\", \"material\", \"aircraft\", \"structural\", \"carbon\", \"power\", \"hybrid\", \"volume\", \"typical\", \"heat\", \"memory\", \"electronic\", \"characterization\", \"dynamic\", \"accident\", \"inter\", \"limit\", \"block\", \"film\", \"performance\", \"design\", \"computational\", \"mechanical\", \"low\", \"high\", \"component\", \"rate\", \"problem\", \"system\", \"application\", \"novel\", \"technology\", \"method\", \"-\", \"property\", \"new\", \"cost\", \"level\", \"development\", \"energy\", \"generation\", \"use\", \"safety\", \"order\", \"process\", \"pathology\", \"cardiovascular\", \"care\", \"clinical\", \"injury\", \"death\", \"heart\", \"stem\", \"hospital\", \"patient\", \"symptom\", \"biomarker\", \"candidate\", \"mortality\", \"trial\", \"chronic\", \"blood\", \"severe\", \"animal\", \"prevention\", \"disease\", \"medical\", \"setting\", \"pharmaceutical\", \"screening\", \"drug\", \"therapy\", \"efficacy\", \"culture\", \"intervention\", \"treatment\", \"safe\", \"health\", \"model\", \"study\", \"diagnostic\", \"human\", \"novel\", \"need\", \"cell\", \"early\", \"system\", \"development\", \"cost\", \"life\", \"effect\", \"%\", \"market\", \"year\", \"risk\", \"technology\", \"tool\", \"roadmap\", \"protocol\", \"residential\", \"clearly\", \"saving\", \"ambition\", \"segment\", \"player\", \"healthcare\", \"owner\", \"privacy\", \"accident\", \"sharing\", \"revenue\", \"staff\", \"sale\", \"person\", \"c\", \"building\", \"series\", \"holistic\", \"immediate\", \"budget\", \"energy\", \"test\", \"cross\", \"foundation\", \"testing\", \"heavy\", \"city\", \"plan\", \"people\", \"user\", \"consumption\", \"efficiency\", \"risk\", \"%\", \"security\", \"benefit\", \"smart\", \"phase\", \"end\", \"business\", \"cost\", \"case\", \"market\", \"strategy\", \"innovation\", \"-\", \"model\", \"patient\", \"use\", \"development\", \"new\", \"child\", \"language\", \"perception\", \"link\", \"disorder\", \"behavior\", \"cognitive\", \"specie\", \"family\", \"age\", \"adaptation\", \"climate\", \"investigation\", \"school\", \"geometry\", \"human\", \"analytic\", \"change\", \"measure\", \"influence\", \"behaviour\", \"green\", \"evidence\", \"poorly\", \"applicable\", \"signal\", \"communication\", \"online\", \"optimal\", \"likely\", \"interaction\", \"concept\", \"study\", \"social\", \"condition\", \"analysis\", \"experience\", \"understanding\", \"network\", \"complex\", \"model\", \"development\", \"result\", \"life\", \"research\", \"method\"], \"Freq\": [290.0, 257.0, 222.0, 402.0, 154.0, 154.0, 176.0, 249.0, 130.0, 126.0, 57.0, 279.0, 111.0, 225.0, 90.0, 109.0, 386.0, 522.0, 137.0, 249.0, 265.0, 64.0, 131.0, 160.0, 116.0, 76.0, 88.0, 81.0, 263.0, 166.0, 35.382566581082635, 23.02022920872286, 26.84800027994667, 63.28706671069946, 36.4485302336057, 13.95005889232395, 9.563986352318102, 21.309378231091582, 35.9675941673352, 20.238846628400893, 17.788864192609537, 20.11753919510088, 12.8513668564329, 8.723374220637448, 49.27737183689829, 11.792176762521809, 9.42819862010074, 14.238126409801755, 39.356773967228314, 48.91830414408383, 14.287886132428994, 20.110459387911067, 13.759414512495484, 9.295529055221275, 14.631691922211655, 27.95942277018747, 7.263219153728914, 14.314861785777756, 7.184363753927943, 24.91677200079771, 99.90727762852808, 30.05256271326859, 68.89968130315, 30.921459014948727, 42.219585672773, 180.2369353980876, 124.46155855173559, 67.38310122470148, 122.68143971395537, 145.97926418239027, 196.2717397228122, 94.0475070289497, 140.84268567896498, 26.50348197242906, 82.28669548272553, 60.37157612520823, 58.965158919018734, 93.85390843304218, 101.89550526419295, 67.1039303830806, 65.27698954051232, 64.46342008627995, 41.68818149070028, 77.09411370401727, 45.120405198448246, 48.87793707565, 52.518195339203146, 59.0584317181975, 62.15372012193409, 53.504039414294205, 63.3516243233618, 50.94457672091899, 47.14068066508592, 48.24127412312349, 23.388853649249068, 25.804231015789572, 24.87203288763673, 43.19666655134396, 25.799798518440628, 20.91776279423005, 19.41670062582291, 25.256553423026862, 19.248855243149, 14.885190907459908, 10.59715501501018, 26.587662408891525, 12.397884175219835, 16.843539979279228, 7.679350319969837, 8.303040793085144, 20.544953339508098, 14.668133403184415, 16.587959512630096, 14.645058834174671, 35.52174177687653, 46.25104374743302, 7.786262072604188, 21.27716630809927, 8.843309107813814, 17.33361457167597, 8.127763191283638, 20.930430448981063, 53.70894855759623, 18.263015276784245, 223.35602183209105, 17.605260755661064, 72.71448500100962, 30.019296851113857, 45.19587301560244, 23.55798929463936, 32.09239866327122, 68.49819007921845, 20.22983169767981, 90.46768800272285, 28.8951943898084, 38.87338827289914, 45.20511619075168, 54.62033007649299, 32.826035370032194, 26.56156239627096, 37.08718638638787, 44.00570298559338, 65.30842150080647, 49.60634135325435, 35.81957834748711, 33.040294060893814, 37.00907543875185, 39.70056902659766, 46.42255970507594, 37.96671176373539, 35.78604820129291, 32.29858208920101, 30.63267773582188, 32.313431233393835, 31.198847240360294, 61.370030185136656, 26.21191798663962, 10.472025386912145, 18.64265737983598, 23.228754389169488, 43.63546387620829, 21.561944691530204, 7.857446765267031, 30.54961617362142, 10.726938784403075, 45.41493495308801, 27.747592557783154, 10.854253423900994, 51.10345739727205, 9.363577714645546, 157.02595968588594, 12.058436267189801, 13.235713156160926, 12.560588504429541, 20.903199504624595, 14.801892515893302, 10.655328161816339, 8.547254902627724, 15.519127155641879, 12.449962300224874, 21.80153516885914, 15.403689072243745, 15.711748748515104, 10.325214039241594, 28.832342195194382, 41.933818430036084, 48.14098407432391, 98.19579033158475, 35.056603309782616, 50.897108112193905, 30.85437389594037, 65.89572212472885, 92.28781288110216, 45.48136091689552, 38.90315935496567, 39.32992548484111, 73.50102749493814, 51.11886293345035, 41.90458713711318, 30.931307542341763, 23.531529327097157, 32.024179072998024, 34.3061812117776, 47.29073496162742, 33.29036422901001, 31.744259889564386, 30.781806136579387, 32.66464798507753, 30.95356416279887, 31.166788712453275, 14.947590489925288, 18.64037982074644, 131.54034652539585, 91.06062792227245, 38.93828216794961, 41.33222987563846, 13.311363129212646, 16.899466119739866, 15.342308293680187, 8.348215077271664, 16.719683365343336, 11.939457910275287, 17.718049350706686, 7.959195247996646, 8.427812460316721, 12.435525139999047, 24.067334250682404, 6.654825474356955, 128.38773430013748, 27.45057249995115, 25.776186706495025, 8.856676922300856, 11.131553312085932, 8.690854585582956, 6.230815570034115, 8.075929585264104, 16.619643104774326, 14.158843049706986, 12.137203985463147, 5.971391709256328, 11.135200725465179, 33.94270470765044, 43.38916824664122, 75.12144666308022, 58.47139746317216, 62.293192180616074, 43.86863454938278, 17.752199177293615, 74.2738019879857, 40.412006997137865, 17.81317232013203, 39.24504509472983, 44.51045763919473, 58.214958195343684, 28.44573083998341, 82.47618833294217, 27.751918802414867, 46.636674052227775, 57.28952400210526, 39.74709798581224, 41.34847974858798, 51.41545980555892, 34.861612084035805, 45.31500758025592, 37.20082577886054, 33.986554778158414, 33.04364645855687, 32.27696979804655, 34.388145383426746, 34.04394260742841, 85.22806372417016, 20.175223976783215, 39.962626563136745, 12.620194867453492, 15.947723595043062, 22.381937442168617, 11.51091279736359, 237.6843669701514, 64.61692878460475, 20.036557682229578, 24.810619587310605, 13.350613870190953, 16.239963384215127, 14.50312549259443, 39.25366238805752, 22.639629562812516, 45.63931587102351, 15.475350410384026, 76.51556157108574, 58.84884067959224, 9.538994070580706, 12.889946501308769, 29.160289235821942, 38.16606088426155, 36.717400693529, 21.391251449750232, 17.772626112068796, 53.043272718104575, 23.833258210190237, 21.02626466912099, 40.71046848421052, 55.53106699967646, 24.475782796868284, 35.62799328064752, 48.85892342337682, 72.97551138600106, 32.69630992590165, 70.01580988294327, 51.61199802379548, 29.03883219255373, 43.39388521172135, 35.81979386283999, 38.66812533888525, 37.82525831661296, 27.842513996083422, 26.518164571264908, 27.509364813195607, 26.67497687208415, 25.92351830420544, 63.22254205550561, 93.53625994572498, 34.945425518283564, 23.531817177058368, 29.866800343552704, 10.73223397779938, 16.98486249056145, 18.658111556150725, 33.844307976486824, 16.831811065930943, 6.939183317499128, 7.3317542874414405, 9.595412752410635, 20.412172050407904, 9.428763884263388, 9.520775303933759, 7.587450697589953, 40.824128114102805, 11.257631376567144, 6.31675280798381, 7.720470974490319, 5.23137151812926, 5.5418335192253405, 7.366374797667762, 9.628885293257376, 6.813435313225378, 6.727502839592314, 10.763647085337691, 8.939854200855807, 9.212985598444236, 12.745712873236792, 28.124675275055754, 11.246269395529925, 81.59609111728253, 18.443818178983427, 19.171749558329356, 116.04972136967287, 13.617820783176175, 28.39298476927652, 34.843157969546525, 17.663813483067443, 19.660553408247573, 70.36927888479296, 60.53954214745167, 25.022766977276618, 30.37103428424744, 24.51680946261217, 34.60726376121237, 32.81571229331315, 45.65205319132356, 23.329534821000845, 30.63045160549411, 36.83737193011815, 27.432967027346585, 34.75014113172715, 25.140779957391157, 25.097217597246754, 29.39520847479324, 22.674753821612804, 24.449942136135366, 23.494846731394638, 30.408986266829064, 17.628669464911468, 15.811115422147559, 44.342422366330254, 26.115192976980435, 16.29480240616147, 11.872551894833286, 32.329131710457865, 17.533827445205034, 20.53196810429278, 14.688845287061804, 12.93028958165417, 134.91471393431678, 34.949830966129845, 17.30789630037357, 14.949906756575809, 56.11115734840813, 9.803005780252626, 14.169506678531326, 7.642738251866078, 20.740301060965024, 11.98947853304441, 16.232854101128428, 12.846728165178796, 20.82146124643103, 8.212110974583496, 8.239246002786265, 7.677330509760868, 9.248616109002674, 8.504779168050048, 43.94493784804832, 54.055671086660986, 17.869755903553216, 15.334954259909097, 49.358078742139305, 75.97271354256202, 25.23305610462158, 22.887251563377067, 32.20938924019978, 62.8787876381531, 39.572766670873186, 31.451209948647826, 48.28146959485505, 31.088320228708216, 46.9275614535969, 23.155671185129254, 39.86941777798393, 32.24423198622145, 29.146814702211493, 32.24317922476325, 29.46125097441997, 22.872206016900257, 26.1950890357534, 22.61001760486006, 23.20317958637765, 23.815880657970617, 18.22049161735824, 17.00305360554716, 58.38683516821661, 95.49402662931581, 20.31180884494934, 27.134589081288766, 21.716281478816562, 41.20362380720351, 17.140527494075506, 96.49093196945718, 14.831088439294449, 22.327965015972335, 10.68819446755819, 9.179522020787449, 32.38683871570699, 12.164611776163655, 20.776298214717368, 8.34126428183623, 18.354512653665164, 12.190545657032706, 97.59124600407827, 32.85780314465194, 9.555379211762718, 10.746236413544107, 11.728798767049673, 40.93252107716399, 17.08911344788543, 10.210765553315635, 12.550363234375855, 14.205457955345647, 52.796252156663655, 23.061763401346376, 57.51016444830211, 43.90792996541272, 45.69906437237345, 20.26510305883179, 34.55486463129062, 33.798759205646476, 32.025381225811024, 44.850266398286415, 24.17292431360291, 52.93931866607848, 38.149126146858634, 33.792441793397266, 25.757239409080658, 23.568165706125054, 28.162597006752005, 29.802607608273444, 26.41257768754586, 23.105523881448775, 24.16372696113784, 23.221707744643055, 12.909080813707504, 12.49596206807463, 6.218077615954025, 6.073321778377459, 12.279656847227715, 6.939444337288395, 9.650443007737076, 5.006974647869898, 12.264926404006648, 4.665322224302569, 9.953676393924027, 6.165665534270795, 6.487432643956618, 5.590681265773759, 6.393552717225523, 9.493595765996561, 5.51344218997425, 8.400477086278002, 27.46228249854765, 4.813107950049973, 4.461163320305003, 3.213560720848206, 5.066930994205129, 72.75488929758414, 14.84969142409919, 7.889687592816951, 4.169293168386543, 8.435818706020346, 5.720533615952578, 14.461576869819513, 27.502465663627863, 29.80344930879656, 29.263442575094135, 15.65369989115451, 17.46695921653429, 17.48002012953877, 28.3703555803966, 12.829618927777181, 12.062323513245767, 13.37943980427848, 20.870257339695755, 13.837606332886324, 20.47607470295392, 21.102121770007237, 12.122903741519313, 23.215706416503508, 14.581254222409694, 16.67780209289814, 18.43473115498357, 14.877224367687568, 12.581200399348019, 13.385842900266686, 12.764331897898007, 12.322455517357016, 56.1588919084423, 19.795243742818116, 12.275975326137084, 14.145319998439964, 15.031794638657406, 11.702032365923873, 11.308597182913898, 14.095975463545381, 14.41625167125565, 13.62510279546304, 7.624546674865109, 11.436331950504062, 6.005128600826821, 10.497071550147737, 5.913502968156537, 49.64311254081069, 6.0529629067751625, 23.743810992473787, 6.586556828054546, 3.9841847809692195, 8.854530397548382, 5.055861162795278, 9.32343240103014, 3.1450531972750624, 2.8116965438968404, 5.857189208361576, 17.177933392199566, 8.042722836489256, 5.502299927426767, 4.766965415834795, 16.78342929010897, 15.303155579175447, 29.369345814422704, 19.786749059176774, 14.459351281952262, 17.44137342273783, 9.957666930910555, 12.316741590609999, 15.130629631130873, 10.623287588441118, 13.403311649128938, 15.154080681550338, 11.207936031799056, 10.634112784855976, 11.303300047801327, 10.38617243516796], \"Total\": [290.0, 257.0, 222.0, 402.0, 154.0, 154.0, 176.0, 249.0, 130.0, 126.0, 57.0, 279.0, 111.0, 225.0, 90.0, 109.0, 386.0, 522.0, 137.0, 249.0, 265.0, 64.0, 131.0, 160.0, 116.0, 76.0, 88.0, 81.0, 263.0, 166.0, 37.710034012779424, 25.752804080245294, 30.777411476196356, 73.42348577478663, 42.61862911596525, 16.850557337443444, 11.859414985582909, 26.771001363979153, 45.440935707763074, 25.621087671309287, 22.615795842546813, 25.824418307032104, 16.69457282204138, 11.810388784872567, 67.88081824342638, 16.653672255138012, 13.642271304393132, 20.76365485789057, 58.889006248301804, 73.61472621352918, 21.518018149249887, 30.766212484205965, 21.73423569489857, 14.859393540848075, 23.459264146765282, 45.36018628901971, 11.912967548616596, 23.57116850803169, 11.866552249352111, 41.209876276665696, 167.2015171354428, 51.09869784226204, 122.276699627142, 52.999746986725945, 74.52762466037689, 386.0637542031507, 257.79918390762685, 129.96038339726783, 263.67995238516335, 327.4215173025383, 522.3820292323666, 211.25099302047576, 397.4245584533196, 45.575188516783776, 265.0284087455369, 174.0120993666062, 168.18272908067343, 362.67147528061884, 460.82568234677785, 222.6316721259979, 211.91018414765375, 221.8701248329952, 95.99600997102365, 336.9255621988555, 115.44623932826106, 140.40158206021778, 167.41298808943785, 226.49947744852628, 279.97910442693376, 201.20515858535555, 439.9747111827325, 200.75456822977253, 140.91070671001341, 192.9896839521092, 28.260254609966953, 31.300969214872246, 31.266120735477006, 54.720284965423886, 33.25808932186953, 27.304169790906894, 25.356178393158757, 33.00178064790183, 26.10218569478693, 20.332484533594783, 14.68406194624923, 36.943178511986225, 17.587032542139212, 25.577768089636866, 11.692655786176164, 12.69175811965851, 32.21238604057056, 23.334463590523896, 26.48457920616246, 23.428542548574857, 57.900844161236414, 75.47459222547772, 12.758698271130752, 35.22763568837877, 14.675393304846455, 29.1636779683052, 13.695573149880612, 35.35658456057509, 91.23204773450102, 31.303081521704986, 402.36354047935106, 30.344789456594153, 139.20777884177255, 53.96896100459267, 88.91380203773126, 42.06542428487886, 61.11151104736883, 160.93511022044572, 35.41559870689091, 257.3702080711239, 58.45578180241411, 89.16954723958148, 117.71535593417887, 162.38016189044822, 74.67919145833879, 53.970579427781175, 110.19127143099861, 176.3761512748849, 460.82568234677785, 249.70507799111581, 123.03569687252772, 101.226600407299, 137.46033128037902, 200.4609072383718, 439.9747111827325, 225.55757651131398, 174.0120993666062, 131.17939015048, 191.65931122920858, 362.67147528061884, 397.4245584533196, 75.44574839182734, 34.513794980797435, 13.816007050477454, 26.62435381013942, 33.51613874149784, 65.12271571092222, 33.411147216037, 12.822181976038243, 50.226164661347205, 17.665261787749373, 75.753744888771, 46.37601879953714, 18.553641744773632, 89.94039924707987, 16.547092412759273, 279.97910442693376, 21.564828064598096, 23.75627790305859, 22.582776703897373, 38.27372358503621, 27.400351943154128, 20.72767487213049, 16.71286702396291, 30.393596710053192, 24.546839933961333, 44.080595237139775, 31.497814927944145, 32.46538265319576, 21.41774939448117, 60.26437833572073, 91.53676026389213, 110.19127143099861, 249.0891046906282, 89.16954723958148, 161.35619430403952, 84.85195299425399, 257.3702080711239, 439.9747111827325, 161.74435144071853, 131.17939015048, 137.46033128037902, 402.36354047935106, 226.49947744852628, 175.1214568401174, 110.49221431038967, 67.76717997863666, 134.02620340173567, 165.8709376976071, 460.82568234677785, 201.20515858535555, 176.3761512748849, 163.88723716158592, 362.67147528061884, 211.91018414765375, 249.70507799111581, 16.042491710320842, 21.039542872890465, 154.2293146794153, 109.95660835307402, 51.88109494458325, 59.884014093710256, 19.980856015829808, 26.713150613130896, 24.841295934253285, 13.928838826526412, 29.635458529161156, 21.76981445187202, 32.54214125569504, 14.888383252987659, 15.937619958196022, 23.879895396111575, 46.533952849732884, 12.904735109350066, 249.70507799111581, 54.38134946004976, 51.1159173056817, 17.902916111209592, 22.748640761403184, 17.913612947769728, 12.922185172440628, 16.766774639738795, 34.63978312507972, 29.61944553497491, 25.639589828812507, 12.724058971465741, 23.81393471414347, 74.44766853620553, 103.8243625826063, 191.65931122920858, 148.17462570968016, 162.60742347797648, 110.12858212546163, 40.38417063271793, 249.0891046906282, 115.44623932826106, 41.4362618639373, 116.41854921984343, 137.48962461760138, 211.91018414765375, 79.95581509654028, 386.0637542031507, 78.4462958856492, 184.78939305805548, 265.0284087455369, 167.41298808943785, 211.25099302047576, 397.4245584533196, 163.88723716158592, 336.9255621988555, 204.88397195351067, 174.0120993666062, 168.18272908067343, 151.79230199005494, 225.55757651131398, 522.3820292323666, 90.84745606501154, 21.71136668996324, 43.39606203594541, 14.76947543355385, 18.76178693219265, 26.67284363156811, 13.833571508200714, 290.9746004483593, 81.14424258066789, 25.536834964045056, 31.70878011994099, 17.570219378668977, 21.448056013085527, 19.58889179327252, 53.09747668418407, 30.718357746303194, 63.00352434973908, 21.591076842470432, 107.4429867135198, 83.83048221249491, 13.645591894329634, 18.824432696763097, 43.2426608760794, 57.62585914376939, 56.56853940166027, 33.50051903139184, 28.07431198245205, 83.98326691511198, 38.419599551191645, 34.43922697105097, 68.88130729618351, 99.62986129663645, 45.429867026930395, 85.22670253004304, 176.59922420458759, 439.9747111827325, 94.21028496823226, 460.82568234677785, 327.4215173025383, 85.7146989088964, 336.9255621988555, 200.4609072383718, 362.67147528061884, 402.36354047935106, 146.5100459264463, 122.00843026464656, 225.55757651131398, 184.78939305805548, 137.92817027679257, 64.6012546828068, 111.73232231871242, 41.91783782809475, 28.920969921695946, 40.237412226470624, 15.932412330381037, 26.276260577347596, 29.09169421147362, 55.84520741713886, 29.139630717419305, 12.336241845568845, 13.29648254394121, 17.97968705408136, 38.948526633458684, 18.830176162316434, 19.036505838216552, 15.242770981966776, 88.99408754130046, 24.96659932146649, 14.394982241580468, 18.149032721077994, 12.415028752486265, 13.267391426555076, 18.150163232235144, 23.96477963682801, 17.15137330721206, 17.238925928178833, 27.691604907060547, 23.003170612294245, 23.91037039709775, 33.478995765242, 78.4462958856492, 29.696505734944445, 265.0284087455369, 52.438996545860476, 55.64047241760217, 522.3820292323666, 38.36936977923055, 101.86625828071385, 137.48962461760138, 56.116665038474686, 66.16485562389438, 460.82568234677785, 439.9747111827325, 106.12638328438912, 161.74435144071853, 113.52652530728443, 221.8701248329952, 201.20515858535555, 397.4245584533196, 109.34331161934355, 192.9896839521092, 327.4215173025383, 174.0120993666062, 362.67147528061884, 153.2810669710503, 162.60742347797648, 336.9255621988555, 106.09139789892753, 200.75456822977253, 226.49947744852628, 34.28729043928099, 21.978816431515835, 19.889445317647986, 56.34664567866222, 34.44592863367176, 22.86145106342405, 17.2502328342409, 47.01535609554691, 25.982635021587907, 31.69656803660258, 22.73720694892353, 20.93584792504202, 222.6316721259979, 59.89391670207767, 29.890009646980904, 26.08104264812263, 101.28312098746441, 17.911833403044376, 25.996397986683093, 14.427340635442516, 41.617551377608955, 24.08577054492671, 32.616614645878215, 26.126139219011957, 43.521045674605375, 17.28204506225647, 17.366400209239327, 16.306231053903765, 19.910413229546034, 18.35433816096788, 108.88142711480302, 140.91070671001341, 41.74496703401995, 36.52613702314604, 156.96131423492452, 362.67147528061884, 80.61611613058402, 72.17865842801437, 141.44568706552295, 522.3820292323666, 226.49947744852628, 149.9005578400488, 397.4245584533196, 153.2810669710503, 439.9747111827325, 88.99408754130046, 460.82568234677785, 263.67995238516335, 200.4609072383718, 336.9255621988555, 257.79918390762685, 88.794248647571, 200.75456822977253, 90.82173892118459, 142.52908929464556, 327.4215173025383, 21.085686517387774, 21.084929654557655, 76.12835839758662, 126.36207266565361, 26.977747414235562, 36.16318815321653, 28.992284322768953, 55.27120239857429, 23.052091276622317, 130.21047435331923, 20.05798876459093, 31.05770727070988, 16.028393713688835, 13.996951669797395, 53.95900859564816, 20.8566077855815, 35.91534281135967, 14.943594323879182, 32.911731432102854, 21.982765387660134, 176.59922420458759, 59.54149838932187, 17.726777972459807, 20.49056321227161, 22.889999016069503, 85.7146989088964, 35.903698724511834, 21.942605862674903, 27.899062897616677, 31.76162990104422, 122.00843026464656, 54.30072635690543, 160.93511022044572, 204.88397195351067, 225.55757651131398, 59.71948524887277, 154.41418796653258, 149.9005578400488, 147.3405058179188, 290.9746004483593, 85.09885254343388, 522.3820292323666, 336.9255621988555, 263.67995238516335, 138.09941870352446, 94.11123353552861, 221.8701248329952, 386.0637542031507, 192.9896839521092, 101.46782167764387, 397.4245584533196, 175.1214568401174, 26.235724333204793, 27.219910416896486, 13.591271916138803, 13.547269069655588, 29.1218557724369, 17.495937087179822, 24.500760109333843, 12.724840394527277, 32.76254382428664, 12.624907761928407, 27.42539549686918, 17.28204506225647, 18.643167693113117, 16.528912781566305, 19.26957657156442, 29.50356363752249, 17.489523488533628, 26.7166261787255, 88.5573045176091, 15.593710983180792, 14.471069714585653, 10.572818563079656, 16.681707830213107, 257.79918390762685, 52.90759341277198, 30.393596710053192, 16.44417307513407, 33.276249484688115, 22.91883726852811, 58.45578180241411, 116.41854921984343, 131.17939015048, 166.23020355895287, 79.51409267680033, 95.99600997102365, 101.46782167764387, 221.8701248329952, 67.76717997863666, 61.762407579868714, 74.52762466037689, 162.60742347797648, 87.76918584907236, 211.91018414765375, 263.67995238516335, 77.68237331453535, 386.0637542031507, 131.95475176059867, 249.70507799111581, 439.9747111827325, 204.88397195351067, 130.21047435331923, 200.75456822977253, 336.9255621988555, 460.82568234677785, 57.767510076977814, 33.76069899752242, 21.783623769719064, 25.55783600102972, 27.73739180879301, 21.71237877554499, 21.822474114988196, 28.61269836408209, 30.800962731315238, 29.760489564359194, 18.932729408911126, 29.626459279027156, 15.619494977806447, 27.644762140966463, 16.56592333246754, 154.41418796653258, 19.725595029787762, 79.42844266583654, 22.544508424329777, 13.890543783656142, 30.953411148864973, 18.566291157846408, 35.60348098417464, 12.83443591896714, 11.630827906311119, 24.910805492355127, 79.68298521529252, 37.437934397459756, 25.754110375071527, 22.764682825321323, 82.0641737928118, 90.1858997174887, 225.55757651131398, 137.46033128037902, 100.541728756334, 151.79230199005494, 61.20272383210224, 94.21028496823226, 163.88723716158592, 81.72739044045824, 204.88397195351067, 336.9255621988555, 146.5100459264463, 138.09941870352446, 402.36354047935106, 153.2810669710503], \"Category\": [\"Default\", \"Default\", \"Default\", \"Default\", \"Default\", \"Default\", \"Default\", \"Default\", \"Default\", \"Default\", \"Default\", \"Default\", \"Default\", \"Default\", \"Default\", \"Default\", \"Default\", \"Default\", \"Default\", \"Default\", \"Default\", \"Default\", \"Default\", \"Default\", \"Default\", \"Default\", \"Default\", \"Default\", \"Default\", \"Default\", \"Topic1\", \"Topic1\", \"Topic1\", \"Topic1\", \"Topic1\", \"Topic1\", \"Topic1\", \"Topic1\", \"Topic1\", \"Topic1\", \"Topic1\", \"Topic1\", \"Topic1\", \"Topic1\", \"Topic1\", \"Topic1\", \"Topic1\", \"Topic1\", \"Topic1\", \"Topic1\", \"Topic1\", \"Topic1\", \"Topic1\", \"Topic1\", \"Topic1\", \"Topic1\", \"Topic1\", \"Topic1\", \"Topic1\", \"Topic1\", \"Topic1\", \"Topic1\", \"Topic1\", \"Topic1\", \"Topic1\", \"Topic1\", \"Topic1\", \"Topic1\", \"Topic1\", \"Topic1\", \"Topic1\", \"Topic1\", \"Topic1\", \"Topic1\", \"Topic1\", \"Topic1\", \"Topic1\", \"Topic1\", \"Topic1\", \"Topic1\", \"Topic1\", \"Topic1\", \"Topic1\", \"Topic1\", \"Topic1\", \"Topic1\", \"Topic1\", \"Topic1\", \"Topic1\", \"Topic1\", \"Topic1\", \"Topic1\", \"Topic1\", \"Topic1\", \"Topic2\", \"Topic2\", \"Topic2\", \"Topic2\", \"Topic2\", \"Topic2\", \"Topic2\", \"Topic2\", \"Topic2\", \"Topic2\", \"Topic2\", \"Topic2\", \"Topic2\", \"Topic2\", \"Topic2\", \"Topic2\", \"Topic2\", \"Topic2\", \"Topic2\", \"Topic2\", \"Topic2\", \"Topic2\", \"Topic2\", \"Topic2\", \"Topic2\", \"Topic2\", \"Topic2\", \"Topic2\", \"Topic2\", \"Topic2\", \"Topic2\", \"Topic2\", \"Topic2\", \"Topic2\", \"Topic2\", \"Topic2\", \"Topic2\", \"Topic2\", \"Topic2\", \"Topic2\", \"Topic2\", \"Topic2\", \"Topic2\", \"Topic2\", \"Topic2\", \"Topic2\", \"Topic2\", \"Topic2\", \"Topic2\", \"Topic2\", \"Topic2\", \"Topic2\", \"Topic2\", \"Topic2\", \"Topic2\", \"Topic2\", \"Topic2\", \"Topic2\", \"Topic2\", \"Topic2\", \"Topic2\", \"Topic3\", \"Topic3\", \"Topic3\", \"Topic3\", \"Topic3\", \"Topic3\", \"Topic3\", \"Topic3\", \"Topic3\", \"Topic3\", \"Topic3\", \"Topic3\", \"Topic3\", \"Topic3\", \"Topic3\", \"Topic3\", \"Topic3\", \"Topic3\", \"Topic3\", \"Topic3\", \"Topic3\", \"Topic3\", \"Topic3\", \"Topic3\", \"Topic3\", \"Topic3\", \"Topic3\", \"Topic3\", \"Topic3\", \"Topic3\", \"Topic3\", \"Topic3\", \"Topic3\", \"Topic3\", \"Topic3\", \"Topic3\", \"Topic3\", \"Topic3\", \"Topic3\", \"Topic3\", \"Topic3\", \"Topic3\", \"Topic3\", \"Topic3\", \"Topic3\", \"Topic3\", \"Topic3\", \"Topic3\", \"Topic3\", \"Topic3\", \"Topic3\", \"Topic3\", \"Topic3\", \"Topic3\", \"Topic3\", \"Topic4\", \"Topic4\", \"Topic4\", \"Topic4\", \"Topic4\", \"Topic4\", \"Topic4\", \"Topic4\", \"Topic4\", \"Topic4\", \"Topic4\", \"Topic4\", \"Topic4\", \"Topic4\", \"Topic4\", \"Topic4\", \"Topic4\", \"Topic4\", \"Topic4\", \"Topic4\", \"Topic4\", \"Topic4\", \"Topic4\", \"Topic4\", \"Topic4\", \"Topic4\", \"Topic4\", \"Topic4\", \"Topic4\", \"Topic4\", \"Topic4\", \"Topic4\", \"Topic4\", \"Topic4\", \"Topic4\", \"Topic4\", \"Topic4\", \"Topic4\", \"Topic4\", \"Topic4\", \"Topic4\", \"Topic4\", \"Topic4\", \"Topic4\", \"Topic4\", \"Topic4\", \"Topic4\", \"Topic4\", \"Topic4\", \"Topic4\", \"Topic4\", \"Topic4\", \"Topic4\", \"Topic4\", \"Topic4\", \"Topic4\", \"Topic4\", \"Topic4\", \"Topic4\", \"Topic4\", \"Topic5\", \"Topic5\", \"Topic5\", \"Topic5\", \"Topic5\", \"Topic5\", \"Topic5\", \"Topic5\", \"Topic5\", \"Topic5\", \"Topic5\", \"Topic5\", \"Topic5\", \"Topic5\", \"Topic5\", \"Topic5\", \"Topic5\", \"Topic5\", \"Topic5\", \"Topic5\", \"Topic5\", \"Topic5\", \"Topic5\", \"Topic5\", \"Topic5\", \"Topic5\", \"Topic5\", \"Topic5\", \"Topic5\", \"Topic5\", \"Topic5\", \"Topic5\", \"Topic5\", \"Topic5\", \"Topic5\", \"Topic5\", \"Topic5\", \"Topic5\", \"Topic5\", \"Topic5\", \"Topic5\", \"Topic5\", \"Topic5\", \"Topic5\", \"Topic5\", \"Topic5\", \"Topic5\", \"Topic5\", \"Topic5\", \"Topic6\", \"Topic6\", \"Topic6\", \"Topic6\", \"Topic6\", \"Topic6\", \"Topic6\", \"Topic6\", \"Topic6\", \"Topic6\", \"Topic6\", \"Topic6\", \"Topic6\", \"Topic6\", \"Topic6\", \"Topic6\", \"Topic6\", \"Topic6\", \"Topic6\", \"Topic6\", \"Topic6\", \"Topic6\", \"Topic6\", \"Topic6\", \"Topic6\", \"Topic6\", \"Topic6\", \"Topic6\", \"Topic6\", \"Topic6\", \"Topic6\", \"Topic6\", \"Topic6\", \"Topic6\", \"Topic6\", \"Topic6\", \"Topic6\", \"Topic6\", \"Topic6\", \"Topic6\", \"Topic6\", \"Topic6\", \"Topic6\", \"Topic6\", \"Topic6\", \"Topic6\", \"Topic6\", \"Topic6\", \"Topic6\", \"Topic6\", \"Topic6\", \"Topic6\", \"Topic6\", \"Topic6\", \"Topic6\", \"Topic6\", \"Topic6\", \"Topic6\", \"Topic6\", \"Topic6\", \"Topic6\", \"Topic7\", \"Topic7\", \"Topic7\", \"Topic7\", \"Topic7\", \"Topic7\", \"Topic7\", \"Topic7\", \"Topic7\", \"Topic7\", \"Topic7\", \"Topic7\", \"Topic7\", \"Topic7\", \"Topic7\", \"Topic7\", \"Topic7\", \"Topic7\", \"Topic7\", \"Topic7\", \"Topic7\", \"Topic7\", \"Topic7\", \"Topic7\", \"Topic7\", \"Topic7\", \"Topic7\", \"Topic7\", \"Topic7\", \"Topic7\", \"Topic7\", \"Topic7\", \"Topic7\", \"Topic7\", \"Topic7\", \"Topic7\", \"Topic7\", \"Topic7\", \"Topic7\", \"Topic7\", \"Topic7\", \"Topic7\", \"Topic7\", \"Topic7\", \"Topic7\", \"Topic7\", \"Topic7\", \"Topic7\", \"Topic7\", \"Topic7\", \"Topic7\", \"Topic7\", \"Topic7\", \"Topic7\", \"Topic7\", \"Topic7\", \"Topic8\", \"Topic8\", \"Topic8\", \"Topic8\", \"Topic8\", \"Topic8\", \"Topic8\", \"Topic8\", \"Topic8\", \"Topic8\", \"Topic8\", \"Topic8\", \"Topic8\", \"Topic8\", \"Topic8\", \"Topic8\", \"Topic8\", \"Topic8\", \"Topic8\", \"Topic8\", \"Topic8\", \"Topic8\", \"Topic8\", \"Topic8\", \"Topic8\", \"Topic8\", \"Topic8\", \"Topic8\", \"Topic8\", \"Topic8\", \"Topic8\", \"Topic8\", \"Topic8\", \"Topic8\", \"Topic8\", \"Topic8\", \"Topic8\", \"Topic8\", \"Topic8\", \"Topic8\", \"Topic8\", \"Topic8\", \"Topic8\", \"Topic8\", \"Topic8\", \"Topic8\", \"Topic8\", \"Topic8\", \"Topic8\", \"Topic8\", \"Topic8\", \"Topic8\", \"Topic9\", \"Topic9\", \"Topic9\", \"Topic9\", \"Topic9\", \"Topic9\", \"Topic9\", \"Topic9\", \"Topic9\", \"Topic9\", \"Topic9\", \"Topic9\", \"Topic9\", \"Topic9\", \"Topic9\", \"Topic9\", \"Topic9\", \"Topic9\", \"Topic9\", \"Topic9\", \"Topic9\", \"Topic9\", \"Topic9\", \"Topic9\", \"Topic9\", \"Topic9\", \"Topic9\", \"Topic9\", \"Topic9\", \"Topic9\", \"Topic9\", \"Topic9\", \"Topic9\", \"Topic9\", \"Topic9\", \"Topic9\", \"Topic9\", \"Topic9\", \"Topic9\", \"Topic9\", \"Topic9\", \"Topic9\", \"Topic9\", \"Topic9\", \"Topic9\", \"Topic9\", \"Topic9\", \"Topic9\", \"Topic9\", \"Topic9\", \"Topic9\", \"Topic9\", \"Topic9\", \"Topic9\", \"Topic10\", \"Topic10\", \"Topic10\", \"Topic10\", \"Topic10\", \"Topic10\", \"Topic10\", \"Topic10\", \"Topic10\", \"Topic10\", \"Topic10\", \"Topic10\", \"Topic10\", \"Topic10\", \"Topic10\", \"Topic10\", \"Topic10\", \"Topic10\", \"Topic10\", \"Topic10\", \"Topic10\", \"Topic10\", \"Topic10\", \"Topic10\", \"Topic10\", \"Topic10\", \"Topic10\", \"Topic10\", \"Topic10\", \"Topic10\", \"Topic10\", \"Topic10\", \"Topic10\", \"Topic10\", \"Topic10\", \"Topic10\", \"Topic10\", \"Topic10\", \"Topic10\", \"Topic10\", \"Topic10\", \"Topic10\", \"Topic10\", \"Topic10\", \"Topic10\", \"Topic10\"], \"logprob\": [30.0, 29.0, 28.0, 27.0, 26.0, 25.0, 24.0, 23.0, 22.0, 21.0, 20.0, 19.0, 18.0, 17.0, 16.0, 15.0, 14.0, 13.0, 12.0, 11.0, 10.0, 9.0, 8.0, 7.0, 6.0, 5.0, 4.0, 3.0, 2.0, 1.0, -5.522799968719482, -5.952600002288818, -5.798799991607666, -4.941299915313721, -5.493100166320801, -6.453499794006348, -6.830999851226807, -6.029900074005127, -5.506400108337402, -6.081399917602539, -6.210400104522705, -6.087399959564209, -6.535600185394287, -6.922999858856201, -5.191500186920166, -6.621600151062012, -6.845300197601318, -6.43310022354126, -5.416299819946289, -5.19890022277832, -6.429599761962891, -6.087800025939941, -6.467299938201904, -6.859499931335449, -6.405799865722656, -5.758299827575684, -7.106200218200684, -6.427700042724609, -7.117099761962891, -5.873499870300293, -4.484799861907959, -5.686100006103516, -4.856400012969971, -5.657599925994873, -5.346099853515625, -3.894700050354004, -4.264999866485596, -4.878600120544434, -4.279399871826172, -4.105500221252441, -3.809499979019165, -4.545199871063232, -4.14139986038208, -5.811699867248535, -4.678800106048584, -4.988500118255615, -5.0121002197265625, -4.547299861907959, -4.465099811553955, -4.882800102233887, -4.910399913787842, -4.922900199890137, -5.358799934387207, -4.74399995803833, -5.279699802398682, -5.199699878692627, -5.127900123596191, -5.010499954223633, -4.959400177001953, -5.109300136566162, -4.940299987792969, -5.158299922943115, -5.235899925231934, -5.212800025939941, -5.542500019073486, -5.444200038909912, -5.480999946594238, -4.928999900817871, -5.444399833679199, -5.654200077056885, -5.728600025177002, -5.465700149536133, -5.737299919128418, -5.9944000244140625, -6.334199905395508, -5.414299964904785, -6.177199840545654, -5.870800018310547, -6.656199932098389, -6.578100204467773, -5.6722002029418945, -6.009099960327148, -5.886099815368652, -6.010700225830078, -5.124599933624268, -4.8607001304626465, -6.642399787902832, -5.6371002197265625, -6.515100002288818, -5.842100143432617, -6.5995001792907715, -5.653600215911865, -4.71120023727417, -5.789899826049805, -3.2860000133514404, -5.826600074768066, -4.408199787139893, -5.292900085449219, -4.883800029754639, -5.535299777984619, -5.226099967956543, -4.4679999351501465, -5.687600135803223, -4.189799785614014, -5.331099987030029, -5.0345001220703125, -4.883600234985352, -4.694399833679199, -5.203499794006348, -5.415299892425537, -5.081500053405762, -4.910399913787842, -4.515600204467773, -4.790599822998047, -5.116300106048584, -5.197000026702881, -5.083600044250488, -5.013400077819824, -4.85699987411499, -5.05810022354126, -5.117199897766113, -5.219699859619141, -5.27269983291626, -5.219299793243408, -5.25439977645874, -4.543399810791016, -5.394199848175049, -6.311699867248535, -5.734899997711182, -5.514999866485596, -4.884500026702881, -5.589399814605713, -6.598899841308594, -5.241000175476074, -6.287600040435791, -4.8445000648498535, -5.337200164794922, -6.2758002281188965, -4.726500034332275, -6.423500061035156, -3.6040000915527344, -6.170599937438965, -6.077400207519531, -6.129799842834473, -5.620500087738037, -5.96560001373291, -6.294300079345703, -6.514800071716309, -5.918300151824951, -6.138599872589111, -5.578400135040283, -5.92579984664917, -5.906000137329102, -6.325799942016602, -5.298900127410889, -4.924300193786621, -4.786200046539307, -4.073400020599365, -5.103400230407715, -4.730599880218506, -5.231100082397461, -4.472300052642822, -4.135499954223633, -4.843100070953369, -4.999300003051758, -4.988399982452393, -4.363100051879883, -4.726200103759766, -4.925000190734863, -5.228600025177002, -5.501999855041504, -5.193900108337402, -5.125, -4.804100036621094, -5.155099868774414, -5.202700138092041, -5.233399868011475, -5.174099922180176, -5.22790002822876, -5.2210001945495605, -5.897600173950195, -5.676799774169922, -3.7228000164031982, -4.09060001373291, -4.940100193023682, -4.880499839782715, -6.013500213623047, -5.774799823760986, -5.871500015258789, -6.480100154876709, -5.7855000495910645, -6.122300148010254, -5.727499961853027, -6.5278000831604, -6.470600128173828, -6.081600189208984, -5.421299934387207, -6.7067999839782715, -3.7471001148223877, -5.289700031280518, -5.352700233459473, -6.421000003814697, -6.192299842834473, -6.439899921417236, -6.772600173950195, -6.513199806213379, -5.791500091552734, -5.9517998695373535, -6.105800151824951, -6.815100193023682, -6.191999912261963, -5.077400207519531, -4.831900119781494, -4.2829999923706055, -4.533599853515625, -4.470300197601318, -4.820899963378906, -5.725599765777588, -4.294400215148926, -4.9029998779296875, -5.7221999168396, -4.932300090789795, -4.806399822235107, -4.538000106811523, -5.2540998458862305, -4.189599990844727, -5.278800010681152, -4.759699821472168, -4.553999900817871, -4.919600009918213, -4.880099773406982, -4.662199974060059, -5.0507001876831055, -4.78849983215332, -4.985799789428711, -5.076200008392334, -5.104300022125244, -5.127799987792969, -5.0644001960754395, -5.07450008392334, -4.108099937438965, -5.548999786376953, -4.865499973297119, -6.018199920654297, -5.784200191497803, -5.445199966430664, -6.110199928283691, -3.0824999809265137, -4.385000228881836, -5.5559000968933105, -5.342199802398682, -5.961900234222412, -5.765999794006348, -5.8790998458862305, -4.883399963378906, -5.433800220489502, -4.732699871063232, -5.814199924468994, -4.216000080108643, -4.478499889373779, -6.298099994659424, -5.997000217437744, -5.180699825286865, -4.911499977111816, -4.950200080871582, -5.490499973297119, -5.67579984664917, -4.582399845123291, -5.382400035858154, -5.507699966430664, -4.8470001220703125, -4.536499977111816, -5.355800151824951, -4.980299949645996, -4.6645002365112305, -4.263299942016602, -5.066199779510498, -4.304699897766113, -4.6097002029418945, -5.184800148010254, -4.783100128173828, -4.974999904632568, -4.898499965667725, -4.920499801635742, -5.226900100708008, -5.275599956512451, -5.238900184631348, -5.269700050354004, -5.298299789428711, -4.295400142669678, -3.903700113296509, -4.888299942016602, -5.283699989318848, -5.045400142669678, -6.06879997253418, -5.609799861907959, -5.5157999992370605, -4.920300006866455, -5.618800163269043, -6.504899978637695, -6.449900150299072, -6.180799961090088, -5.426000118255615, -6.198299884796143, -6.188600063323975, -6.415599822998047, -4.732800006866455, -6.021100044250488, -6.598899841308594, -6.398200035095215, -6.787399768829346, -6.729800224304199, -6.445199966430664, -6.177299976348877, -6.523200035095215, -6.535900115966797, -6.065899848937988, -6.2515997886657715, -6.221499919891357, -5.896900177001953, -5.105500221252441, -6.02209997177124, -4.040299892425537, -5.527400016784668, -5.488699913024902, -3.6881000995635986, -5.830699920654297, -5.0960001945495605, -4.891200065612793, -5.5706000328063965, -5.463500022888184, -4.188300132751465, -4.338799953460693, -5.222300052642822, -5.028600215911865, -5.242700099945068, -4.8979997634887695, -4.951200008392334, -4.621099948883057, -5.292399883270264, -5.020100116729736, -4.835599899291992, -5.13040018081665, -4.893899917602539, -5.217599868774414, -5.219299793243408, -5.061299800872803, -5.320799827575684, -5.245500087738037, -5.285299777984619, -4.9664998054504395, -5.51170015335083, -5.620500087738037, -4.589300155639648, -5.11870002746582, -5.590400218963623, -5.9070000648498535, -4.905300140380859, -5.517099857330322, -5.359300136566162, -5.694200038909912, -5.821700096130371, -3.476599931716919, -4.827300071716309, -5.530099868774414, -5.676499843597412, -4.353899955749512, -6.098599910736084, -5.730199813842773, -6.347499847412109, -5.3491997718811035, -5.897200107574463, -5.594200134277344, -5.828199863433838, -5.345300197601318, -6.275599956512451, -6.272299766540527, -6.3429999351501465, -6.156799793243408, -6.240600109100342, -4.598299980163574, -4.391200065612793, -5.4980998039245605, -5.651100158691406, -4.482100009918213, -4.050899982452393, -5.15310001373291, -5.250699996948242, -4.908999919891357, -4.239999771118164, -4.703100204467773, -4.932799816131592, -4.504199981689453, -4.944399833679199, -4.532599925994873, -5.238999843597412, -4.6956000328063965, -4.907899856567383, -5.008900165557861, -4.907899856567383, -4.998199939727783, -5.251299858093262, -5.115699768066406, -5.262899875640869, -5.236999988555908, -5.210899829864502, -5.423099994659424, -5.492300033569336, -4.258600234985352, -3.7665998935699463, -5.314499855041504, -5.024899959564209, -5.247600078582764, -4.6072001457214355, -5.4842000007629395, -3.756200075149536, -5.629000186920166, -5.219900131225586, -5.956600189208984, -6.108699798583984, -4.847899913787842, -5.827199935913086, -5.291900157928467, -6.204500198364258, -5.415800094604492, -5.824999809265137, -3.7448999881744385, -4.833499908447266, -6.068600177764893, -5.951099872589111, -5.86359977722168, -4.613800048828125, -5.487199783325195, -6.002200126647949, -5.795899868011475, -5.672100067138672, -4.359300136566162, -5.1875, -4.27370023727417, -4.543600082397461, -4.503600120544434, -5.316800117492676, -4.783100128173828, -4.805300235748291, -4.8592000007629395, -4.52239990234375, -5.140500068664551, -4.356500148773193, -4.684199810028076, -4.805500030517578, -5.077000141143799, -5.165800094604492, -4.98769998550415, -4.931099891662598, -5.0518999099731445, -5.1855998039245605, -5.1407999992370605, -5.180600166320801, -5.033899784088135, -5.066400051116943, -5.764400005340576, -5.787899971008301, -5.083899974822998, -5.654600143432617, -5.32480001449585, -5.980999946594238, -5.085100173950195, -6.051700115203857, -5.293900012969971, -5.772799968719482, -5.7220001220703125, -5.870699882507324, -5.736499786376953, -5.34119987487793, -5.8846001625061035, -5.463500022888184, -4.2789998054504395, -6.020500183105469, -6.096399784088135, -6.4243998527526855, -5.969099998474121, -3.3046998977661133, -4.893799781799316, -5.526299953460693, -6.164100170135498, -5.4593000411987305, -5.847799777984619, -4.920300006866455, -4.277500152587891, -4.197199821472168, -4.2154998779296875, -4.841100215911865, -4.731500148773193, -4.730800151824951, -4.246500015258789, -5.04010009765625, -5.1016998291015625, -4.9980998039245605, -4.553500175476074, -4.964399814605713, -4.5725998878479, -4.542399883270264, -5.096700191497803, -4.447000026702881, -4.912099838256836, -4.777699947357178, -4.677599906921387, -4.892000198364258, -5.059599876403809, -4.997600078582764, -5.045199871063232, -5.080399990081787, -3.299099922180176, -4.341800212860107, -4.8196001052856445, -4.6778998374938965, -4.617099761962891, -4.867499828338623, -4.901700019836426, -4.681399822235107, -4.658899784088135, -4.7153000831604, -5.295899868011475, -4.890500068664551, -5.534599781036377, -4.976200103759766, -5.550000190734863, -3.4223999977111816, -5.526700019836426, -4.159900188446045, -5.442200183868408, -5.944900035858154, -5.146299839019775, -5.706699848175049, -5.094699859619141, -6.181399822235107, -6.293499946594238, -5.559599876403809, -4.48360013961792, -5.242499828338623, -5.622099876403809, -5.765500068664551, -4.506899833679199, -4.5991997718811035, -3.9472999572753906, -4.342199802398682, -4.655900001525879, -4.468400001525879, -5.028900146484375, -4.816299915313721, -4.610499858856201, -4.964200019836426, -4.731800079345703, -4.609000205993652, -4.910600185394287, -4.963200092315674, -4.902200222015381, -4.986800193786621], \"loglift\": [30.0, 29.0, 28.0, 27.0, 26.0, 25.0, 24.0, 23.0, 22.0, 21.0, 20.0, 19.0, 18.0, 17.0, 16.0, 15.0, 14.0, 13.0, 12.0, 11.0, 10.0, 9.0, 8.0, 7.0, 6.0, 5.0, 4.0, 3.0, 2.0, 1.0, 1.6233, 1.5749, 1.5505, 1.5385, 1.5307, 1.4981, 1.4719, 1.4589, 1.4532, 1.4512, 1.447, 1.4373, 1.4254, 1.3841, 1.3668, 1.3419, 1.3176, 1.3098, 1.2841, 1.2784, 1.2776, 1.2619, 1.2299, 1.2179, 1.215, 1.2032, 1.1922, 1.1883, 1.1852, 1.1839, 1.1721, 1.1562, 1.1134, 1.1482, 1.1188, 0.9253, 0.9589, 1.0302, 0.9219, 0.8793, 0.7081, 0.8778, 0.6497, 1.145, 0.5174, 0.6284, 0.6389, 0.3353, 0.178, 0.4878, 0.5095, 0.4511, 0.853, 0.2122, 0.7476, 0.6319, 0.5277, 0.3428, 0.1819, 0.3625, -0.251, 0.3157, 0.5921, 0.3006, 1.8921, 1.8882, 1.8525, 1.8448, 1.8274, 1.8148, 1.8144, 1.8138, 1.7767, 1.7694, 1.7551, 1.7524, 1.7317, 1.6635, 1.6609, 1.657, 1.6316, 1.617, 1.6134, 1.6114, 1.5927, 1.5916, 1.5874, 1.5771, 1.5748, 1.561, 1.5595, 1.557, 1.5515, 1.5424, 1.4927, 1.5369, 1.4319, 1.4947, 1.4046, 1.5015, 1.4372, 1.2271, 1.5213, 1.0358, 1.3767, 1.2511, 1.1242, 0.9918, 1.2593, 1.3723, 0.9923, 0.693, 0.1274, 0.4651, 0.8473, 0.9617, 0.7691, 0.462, -0.1676, 0.2994, 0.4997, 0.6797, 0.2476, -0.3367, -0.4633, 1.9092, 1.8405, 1.8386, 1.7593, 1.7491, 1.7153, 1.6777, 1.626, 1.6185, 1.6168, 1.604, 1.6021, 1.5796, 1.5504, 1.5463, 1.5374, 1.5344, 1.5308, 1.5291, 1.5108, 1.4999, 1.4503, 1.4451, 1.4435, 1.4368, 1.4117, 1.4004, 1.3899, 1.3861, 1.3784, 1.335, 1.2876, 1.1848, 1.1821, 0.9619, 1.1041, 0.7532, 0.5539, 0.847, 0.9002, 0.8643, 0.4156, 0.6271, 0.6856, 0.8425, 1.058, 0.6841, 0.5398, -0.161, 0.3166, 0.4008, 0.4434, -0.2915, 0.192, 0.0348, 2.1032, 2.0529, 2.0148, 1.9854, 1.887, 1.8032, 1.7678, 1.7161, 1.692, 1.662, 1.6015, 1.5733, 1.566, 1.5477, 1.5368, 1.5215, 1.5146, 1.5117, 1.5087, 1.4903, 1.4893, 1.4701, 1.4592, 1.4506, 1.4445, 1.4434, 1.4395, 1.4358, 1.4261, 1.4174, 1.4138, 1.3885, 1.3014, 1.2373, 1.2441, 1.2144, 1.2535, 1.352, 0.9639, 1.1243, 1.3297, 1.0866, 1.0461, 0.8819, 1.1405, 0.6304, 1.1348, 0.7971, 0.6422, 0.736, 0.5429, 0.1289, 0.6261, 0.1677, 0.4678, 0.5408, 0.5467, 0.6258, 0.2931, -0.5568, 2.1587, 2.1492, 2.1402, 2.0653, 2.0601, 2.0472, 2.0388, 2.0203, 1.9948, 1.98, 1.9773, 1.9479, 1.9444, 1.922, 1.9205, 1.9174, 1.9002, 1.8896, 1.8831, 1.8688, 1.8646, 1.8439, 1.8286, 1.8106, 1.7904, 1.774, 1.7654, 1.7631, 1.7451, 1.7292, 1.6967, 1.6381, 1.6041, 1.3504, 0.9376, 0.426, 1.1643, 0.3383, 0.3751, 1.1402, 0.173, 0.5005, -0.0159, -0.1418, 0.5621, 0.6963, 0.1185, 0.2871, 0.551, 2.3124, 2.1562, 2.152, 2.1277, 2.0359, 1.9389, 1.8976, 1.8898, 1.8331, 1.7851, 1.7586, 1.7387, 1.706, 1.6878, 1.6423, 1.6411, 1.6363, 1.5547, 1.5375, 1.5103, 1.4792, 1.4697, 1.461, 1.4322, 1.4221, 1.4108, 1.393, 1.389, 1.3888, 1.3803, 1.3682, 1.3082, 1.363, 1.1559, 1.289, 1.2685, 0.8296, 1.2981, 1.0564, 0.9613, 1.178, 1.1204, 0.4547, 0.3505, 0.8891, 0.6614, 0.8013, 0.4759, 0.5205, 0.17, 0.7892, 0.4933, 0.1492, 0.4866, -0.0114, 0.5262, 0.4654, -0.1051, 0.7909, 0.2285, 0.068, 2.2748, 2.1743, 2.1653, 2.1552, 2.1179, 2.0562, 2.0212, 2.0203, 2.0015, 1.9606, 1.9579, 1.9129, 1.8939, 1.8561, 1.8484, 1.8383, 1.8042, 1.792, 1.7879, 1.7594, 1.6984, 1.6972, 1.697, 1.685, 1.6575, 1.6507, 1.6492, 1.6415, 1.628, 1.6256, 1.4875, 1.4367, 1.5463, 1.5269, 1.2379, 0.8317, 1.2333, 1.2462, 0.9151, 0.2776, 0.6502, 0.8333, 0.2869, 0.7994, 0.1567, 1.0485, -0.0526, 0.2934, 0.4665, 0.0483, 0.2257, 1.0384, 0.3583, 1.0043, 0.5796, -0.2261, 2.3043, 2.2352, 2.185, 2.1703, 2.1666, 2.1631, 2.1614, 2.1566, 2.1541, 2.1507, 2.1485, 2.1204, 2.0451, 2.0285, 1.9399, 1.9112, 1.903, 1.8673, 1.8664, 1.8608, 1.8573, 1.8559, 1.8324, 1.805, 1.7817, 1.7113, 1.708, 1.6854, 1.6515, 1.6457, 1.6127, 1.594, 1.4213, 0.91, 0.8539, 1.3696, 0.9533, 0.9608, 0.9241, 0.5805, 1.1918, 0.1611, 0.272, 0.3959, 0.7711, 1.0658, 0.3863, -0.111, 0.4616, 0.9707, -0.3498, 0.43, 2.475, 2.4057, 2.4023, 2.382, 2.3207, 2.2595, 2.2525, 2.2515, 2.2017, 2.1887, 2.1707, 2.1536, 2.1286, 2.1002, 2.081, 2.0503, 2.0298, 2.0272, 2.0134, 2.0087, 2.0075, 1.9933, 1.9927, 1.9192, 1.9137, 1.8356, 1.812, 1.8119, 1.7963, 1.7875, 1.7413, 1.7023, 1.4472, 1.559, 1.4802, 1.4256, 1.1275, 1.5199, 1.551, 1.4668, 1.1312, 1.3369, 0.8473, 0.6589, 1.3267, 0.3731, 0.9815, 0.478, 0.0118, 0.5616, 0.8473, 0.4764, -0.089, -0.4374, 3.4206, 2.9149, 2.8753, 2.8572, 2.8362, 2.8307, 2.7914, 2.7408, 2.6896, 2.6675, 2.5393, 2.4969, 2.4929, 2.4805, 2.4187, 2.314, 2.2674, 2.2413, 2.2183, 2.1999, 2.1972, 2.148, 2.1089, 2.0425, 2.0289, 2.0012, 1.9144, 1.9109, 1.9054, 1.8853, 1.8617, 1.675, 1.4102, 1.5105, 1.5096, 1.2851, 1.633, 1.4142, 1.0663, 1.4085, 0.7219, 0.3472, 0.8783, 0.8849, -0.1235, 0.757]}, \"token.table\": {\"Topic\": [1, 2, 3, 4, 5, 6, 7, 8, 9, 10, 1, 2, 3, 4, 5, 6, 7, 8, 9, 10, 2, 4, 6, 2, 3, 4, 5, 7, 1, 2, 3, 4, 6, 8, 10, 1, 3, 7, 9, 1, 2, 3, 4, 5, 6, 7, 9, 10, 1, 2, 3, 4, 5, 6, 7, 8, 9, 10, 2, 3, 4, 1, 2, 5, 8, 10, 1, 4, 6, 7, 1, 4, 6, 8, 1, 2, 3, 4, 8, 10, 1, 2, 3, 1, 2, 3, 4, 5, 6, 1, 3, 4, 6, 1, 2, 3, 6, 7, 1, 3, 6, 7, 1, 3, 4, 6, 7, 9, 1, 2, 3, 4, 5, 6, 7, 8, 9, 10, 1, 2, 3, 4, 6, 10, 2, 3, 4, 8, 9, 10, 4, 8, 9, 2, 7, 9, 10, 1, 2, 3, 4, 5, 6, 7, 8, 10, 1, 2, 3, 9, 1, 2, 6, 8, 1, 3, 1, 7, 8, 9, 10, 2, 5, 6, 7, 8, 9, 10, 3, 4, 1, 2, 3, 4, 5, 6, 7, 8, 9, 1, 2, 3, 4, 6, 7, 9, 3, 4, 6, 7, 2, 3, 5, 8, 2, 5, 8, 9, 10, 5, 6, 7, 10, 2, 5, 8, 9, 1, 2, 5, 6, 2, 3, 4, 8, 9, 10, 1, 2, 3, 4, 6, 7, 9, 10, 1, 2, 3, 4, 6, 7, 8, 9, 10, 4, 5, 6, 7, 9, 10, 2, 3, 4, 5, 8, 1, 2, 5, 8, 1, 2, 3, 4, 7, 8, 9, 10, 1, 7, 1, 2, 3, 7, 10, 2, 8, 1, 2, 3, 4, 7, 8, 9, 1, 2, 3, 4, 5, 6, 7, 8, 9, 10, 1, 5, 6, 7, 8, 9, 10, 5, 6, 10, 1, 2, 3, 6, 7, 1, 2, 3, 4, 5, 6, 7, 9, 1, 2, 3, 4, 5, 6, 7, 8, 9, 10, 1, 2, 4, 5, 6, 7, 9, 5, 7, 1, 2, 4, 5, 6, 7, 10, 10, 2, 5, 7, 8, 9, 1, 5, 6, 7, 1, 2, 3, 4, 7, 9, 10, 1, 2, 3, 6, 9, 2, 3, 5, 6, 7, 8, 2, 3, 6, 7, 9, 1, 4, 5, 6, 7, 10, 1, 2, 4, 5, 6, 8, 9, 1, 2, 3, 4, 5, 6, 8, 9, 10, 1, 3, 7, 8, 10, 1, 7, 1, 2, 3, 4, 5, 6, 7, 8, 9, 10, 1, 2, 3, 4, 5, 6, 8, 9, 10, 1, 2, 3, 4, 6, 7, 8, 9, 10, 1, 2, 3, 4, 5, 6, 7, 8, 9, 10, 1, 3, 7, 8, 1, 2, 3, 4, 5, 6, 7, 8, 10, 1, 7, 9, 5, 6, 1, 3, 4, 5, 7, 10, 1, 2, 3, 4, 5, 6, 7, 8, 10, 1, 2, 3, 4, 5, 6, 7, 8, 9, 10, 1, 6, 8, 1, 4, 6, 1, 3, 4, 5, 6, 7, 8, 9, 10, 1, 3, 5, 10, 1, 2, 3, 6, 7, 9, 2, 3, 6, 10, 2, 4, 9, 1, 2, 3, 4, 5, 6, 7, 8, 9, 10, 1, 2, 3, 4, 6, 7, 8, 9, 2, 5, 6, 1, 2, 3, 4, 8, 9, 1, 4, 5, 8, 9, 1, 2, 3, 4, 5, 6, 7, 8, 9, 1, 4, 6, 7, 8, 9, 1, 3, 6, 7, 9, 1, 3, 7, 10, 1, 2, 3, 4, 5, 6, 7, 8, 9, 10, 2, 4, 5, 8, 1, 2, 3, 4, 6, 7, 8, 9, 10, 1, 2, 3, 4, 5, 6, 7, 8, 9, 10, 5, 8, 10, 1, 2, 3, 4, 5, 6, 7, 8, 9, 10, 1, 2, 4, 8, 9, 5, 6, 8, 1, 3, 6, 7, 9, 2, 4, 7, 9, 1, 2, 4, 5, 6, 7, 8, 9, 2, 7, 8, 9, 10, 1, 4, 7, 1, 2, 4, 5, 8, 9, 10, 1, 2, 3, 5, 6, 7, 8, 10, 1, 2, 3, 4, 5, 6, 7, 8, 10, 1, 3, 5, 6, 8, 1, 2, 6, 9, 2, 4, 6, 7, 9, 1, 2, 3, 4, 5, 6, 7, 8, 9, 10, 1, 2, 3, 4, 6, 7, 8, 9, 1, 2, 3, 4, 5, 6, 7, 8, 10, 1, 2, 4, 6, 8, 10, 1, 2, 5, 8, 1, 2, 3, 4, 6, 7, 8, 9, 1, 6, 7, 9, 1, 2, 6, 7, 1, 7, 1, 2, 3, 5, 6, 7, 9, 10, 1, 3, 4, 5, 6, 7, 9, 10, 1, 2, 3, 4, 7, 1, 2, 3, 4, 5, 6, 7, 8, 9, 10, 1, 2, 3, 4, 5, 6, 7, 9, 10, 1, 2, 3, 4, 6, 9, 2, 3, 4, 5, 6, 1, 2, 3, 4, 5, 6, 7, 8, 9, 10, 1, 6, 1, 2, 3, 5, 6, 7, 1, 2, 3, 4, 6, 7, 8, 9, 10, 1, 2, 3, 4, 6, 7, 8, 9, 10, 1, 2, 3, 4, 5, 6, 7, 8, 9, 10, 1, 2, 3, 5, 8, 9, 10, 1, 2, 3, 4, 5, 6, 8, 9, 10, 2, 3, 1, 2, 3, 4, 6, 7, 8, 9, 10, 2, 5, 7, 9, 1, 5, 8, 2, 3, 4, 5, 6, 8, 9, 10, 1, 2, 4, 6, 7, 8, 9, 10, 1, 2, 3, 4, 5, 6, 7, 1, 3, 6, 7, 8, 1, 2, 3, 4, 6, 7, 2, 5, 6, 7, 10, 1, 2, 4, 5, 6, 9, 1, 2, 3, 4, 5, 6, 7, 2, 4, 5, 6, 8, 9, 1, 3, 5, 6, 7, 8, 9, 1, 3, 4, 6, 7, 9, 1, 2, 3, 5, 6, 7, 8, 10, 5, 6, 7, 8, 2, 4, 5, 6, 7, 8, 10, 2, 5, 8, 10, 1, 2, 3, 4, 5, 6, 7, 8, 10, 1, 6, 7, 10, 1, 2, 3, 7, 1, 2, 3, 4, 5, 6, 7, 8, 9, 10, 2, 4, 6, 8, 1, 5, 6, 7, 9, 10, 1, 2, 3, 4, 9, 2, 3, 6, 10, 1, 3, 4, 6, 8, 1, 2, 4, 5, 6, 7, 8, 9, 10, 1, 2, 4, 6, 9, 10, 2, 4, 5, 6, 7, 2, 3, 6, 7, 8, 9, 10, 1, 6, 7, 1, 6, 7, 9, 1, 2, 3, 4, 5, 6, 7, 8, 9, 10, 1, 2, 3, 6, 9, 1, 2, 8, 9, 1, 2, 3, 4, 5, 6, 8, 9, 10, 3, 6, 7, 2, 5, 6, 8, 3, 4, 9, 2, 5, 7, 4, 6, 7, 9, 10, 2, 5, 8, 1, 2, 3, 4, 5, 6, 7, 8, 9, 10, 1, 2, 3, 4, 5, 6, 7, 8, 9, 10, 1, 2, 3, 4, 6, 7, 9, 1, 2, 3, 4, 5, 6, 7, 8, 9, 10, 2, 3, 5, 8, 10, 1, 2, 3, 4, 5, 6, 7, 8, 9, 10, 1, 2, 3, 4, 6, 10, 1, 2, 3, 4, 8, 9, 1, 7, 8, 9, 1, 2, 3, 4, 6, 7, 8, 9, 1, 2, 3, 4, 5, 6, 7, 8, 9, 1, 2, 3, 4, 2, 3, 4, 8, 9, 1, 2, 3, 4, 7, 8, 1, 2, 3, 4, 9, 1, 4, 7, 1, 2, 3, 7, 1, 2, 3, 4, 5, 6, 7, 8, 9, 10, 1, 3, 10, 1, 2, 4, 6, 7, 8, 9, 1, 4, 6, 10, 2, 3, 8, 9, 10, 1, 3, 6, 7, 10, 1, 7, 1, 2, 1, 2, 3, 4, 7, 9, 1, 2, 3, 4, 7, 9, 1, 2, 3, 4, 5, 6, 7, 8, 9, 10, 2, 3, 4, 10, 1, 2, 3, 4, 5, 6, 7, 8, 9, 10, 1, 4, 8, 9, 3, 4, 5, 6, 8, 9, 10, 1, 2, 3, 4, 5, 6, 7, 8, 9, 10, 1, 2, 3, 4, 5, 6, 7, 8, 9, 10, 3, 4, 5, 7, 8, 10, 1, 4, 5, 6, 7, 10, 2, 5, 6, 7, 10, 3, 5, 6, 7, 2, 3, 4, 8, 1, 2, 3, 4, 5, 6, 7, 8, 9, 1, 3, 4, 6, 7, 10, 2, 5, 6, 7, 1, 2, 3, 4, 5, 6, 7, 8, 9, 1, 7, 9, 1, 4, 6, 7, 1, 2, 3, 4, 6, 7, 8, 9, 10, 1, 4, 6, 9, 1, 2, 3, 4, 5, 6, 7, 9, 1, 2, 6, 1, 2, 3, 4, 7, 9, 10, 1, 5, 6, 7, 1, 3, 4, 5, 6, 7, 8, 9, 10, 1, 2, 3, 4, 5, 6, 8, 1, 2, 3, 4, 5, 6, 8, 1, 2, 3, 4, 6, 7, 9, 3, 5, 6, 7, 1, 5, 7, 1, 2, 3, 4, 5, 6, 7, 8, 9, 10, 5, 6, 7, 1, 3, 4, 6, 8, 9, 1, 2, 3, 4, 5, 6, 7, 8, 9, 10, 5, 6, 7, 2, 5, 6, 7, 8, 2, 5, 8, 2, 6, 7, 5, 8, 1, 2, 3, 4, 6, 7, 8, 10, 1, 6, 7, 8, 1, 2, 3, 4, 5, 6, 7, 8, 9, 10, 1, 2, 3, 4, 5, 6, 7, 8, 10, 1, 2, 3, 4, 5, 6, 7, 8, 9, 10, 2, 6, 7, 10, 1, 2, 3, 4, 5, 6, 7, 8, 9, 10, 1, 3, 4, 6, 7, 1, 3, 5, 6, 1, 3, 6, 7, 1, 2, 4, 6, 1, 2, 3, 4, 8, 9, 10, 1, 2, 3, 4, 6, 8, 1, 3, 4, 1, 3, 5, 6, 7, 1, 3, 4, 5, 6, 8, 9, 10, 1, 2, 3, 4, 5, 6, 7, 8, 9, 10, 1, 4, 6, 7, 1, 5, 8, 2, 4, 5, 3, 4, 6, 9, 2, 3, 4, 7, 8, 9, 1, 2, 3, 7, 1, 2, 3, 4, 6, 7, 8, 9, 10, 1, 2, 3, 4, 7, 2, 4, 6, 10, 6, 8, 9, 3, 4, 5, 6, 7, 8, 1, 2, 4, 5, 6, 8, 9, 1, 2, 3, 4, 6, 7, 8, 9, 10, 2, 3, 4, 9, 10, 1, 3, 4, 6, 7, 10, 2, 3, 4, 6, 9, 10, 1, 2, 5, 6, 8, 1, 2, 3, 4, 5, 6, 7, 8, 9, 10, 5, 6, 7, 8, 10, 3, 5, 6, 7, 1, 2, 3, 4, 6, 7, 8, 9, 1, 2, 5, 6, 1, 2, 3, 4, 6, 8, 9, 10, 1, 3, 4, 9, 2, 3, 4, 10, 1, 2, 6, 1, 6, 7, 2, 5, 7, 8, 10, 1, 2, 3, 4, 5, 6, 7, 8, 10, 1, 2, 3, 4, 5, 6, 7, 8, 1, 2, 3, 4, 8, 9, 10, 5, 6, 7, 1, 2, 4, 8, 10, 3, 4, 8, 9, 1, 2, 3, 4, 5, 6, 7, 8, 9, 10, 1, 2, 3, 4, 5, 6, 7, 8, 9, 10, 1, 2, 3, 4, 5, 6, 7, 8, 9, 10, 1, 2, 3, 4, 5, 6, 7, 8, 9, 10, 1, 2, 3, 4, 7, 10, 2, 5, 1, 2, 3, 4, 5, 6, 7, 8, 9, 1, 4, 5, 8, 1, 4, 5, 6, 9, 1, 3, 4, 6, 8, 1, 2, 3, 4, 8, 9, 1, 2, 3, 4, 5, 6, 7, 8, 9, 6, 1, 2, 3, 4, 6, 7, 8, 1, 2, 3, 4, 5, 6, 7, 8, 9, 10, 1, 3, 7, 1, 5, 6, 1, 2, 4, 5, 2, 3, 4, 5, 8, 10, 1, 3, 4, 5, 6, 7, 1, 5, 7, 9, 1, 2, 3, 4, 5, 6, 7, 8, 9, 10, 2, 4, 1, 6, 7, 1, 6, 7, 1, 3, 4, 6, 9, 1, 2, 3, 4, 5, 6, 7, 8, 9, 10, 2, 3, 5, 6, 8, 1, 6, 7, 9, 1, 2, 3, 4, 5, 6, 7, 10, 1, 2, 3, 4, 5, 6, 7, 8, 9, 10, 1, 3, 4, 6, 7, 9, 1, 2, 3, 4, 6, 7, 8, 9, 10, 1, 3, 4, 7, 1, 2, 3, 6, 8, 9, 2, 3, 4, 5, 6, 8, 9, 10, 1, 2, 3, 4, 5, 6, 7, 8, 10, 2, 3, 6, 9, 10, 1, 3, 4, 6, 7, 8, 1, 2, 3, 4, 6, 7, 8, 9, 10, 1, 3, 4, 6, 9, 1, 4, 7, 9, 1, 2, 3, 4, 5, 6, 7, 9, 1, 2, 3, 8, 10, 2, 3, 5, 6, 7, 10, 1, 2, 3, 4, 5, 6, 7, 9, 2, 3, 5, 5, 6, 7, 8, 1, 2, 3, 4, 6, 8, 1, 2, 3, 4, 7, 9, 10, 1, 9, 1, 3, 4, 5, 6, 7, 8, 10, 1, 2, 3, 4, 5, 6, 9, 1, 2, 3, 4, 6, 7, 8, 9, 10, 1, 2, 3, 4, 5, 6, 7, 8, 10, 1, 2, 6, 8, 3, 6, 7, 8, 10, 1, 2, 3, 4, 9, 10, 3, 5, 6, 7, 10, 1, 2, 4, 5, 6, 7, 1, 2, 3, 6, 7, 9, 1, 2, 3, 4, 6, 8, 9, 4, 1, 2, 3, 4, 7, 8, 9, 10, 1, 2, 3, 4, 5, 6, 7, 8, 9, 1, 2, 3, 4, 6, 7, 8, 9, 1, 2, 3, 4, 6, 7, 8, 9, 1, 2, 4, 6, 8, 10, 2, 3, 4, 5, 1, 3, 4, 5, 6, 7, 2, 4, 6, 8, 9, 5, 8, 1, 3, 4, 5, 1, 5, 7, 1, 2, 3, 4, 5, 6, 7, 8, 9, 10, 2, 4, 5, 7, 10, 3, 5, 7, 10, 1, 2, 3, 5, 6, 7, 10, 2, 3, 8, 9, 1, 2, 3, 4, 5, 6, 7, 8, 9, 10, 1, 2, 3, 4, 6, 1, 2, 3, 4, 6, 7, 8, 9, 2, 5, 8, 2, 5, 9, 1, 2, 3, 4, 5, 6, 7, 8, 9, 10, 1, 2, 3, 4, 5, 6, 7, 8, 9, 1, 2, 3, 4, 5, 6, 7, 8, 9, 10, 1, 2, 3, 4, 5, 6, 7, 8, 9, 1, 4, 5, 6, 7, 8, 9, 2, 3, 5, 6, 7, 10, 2, 5, 8, 1, 4, 6, 7, 9, 1, 2, 3, 6, 1, 2, 3, 4, 5, 6, 7, 8, 9, 10, 5, 7, 8, 1, 2, 3, 4, 5, 6, 7, 8, 9, 10, 1, 3, 4, 7, 2, 3, 4, 6, 7, 9, 10, 1, 2, 3, 4, 5, 8, 1, 2, 5, 8, 1, 4, 7, 1, 2, 4, 5, 6, 8, 10, 1, 2, 6, 7, 8, 1, 6, 7, 10, 1, 2, 3, 4, 5, 6, 7, 8, 10, 3, 4, 6, 8, 2, 3, 4, 9, 10, 5, 8, 1, 2, 3, 4, 5, 6, 7, 8, 9, 10, 1, 2, 3, 4, 6, 7, 8, 9, 10, 1, 2, 3, 4, 6, 7, 8, 9, 1, 2, 3, 4, 6, 7, 8, 10, 1, 7, 9, 1, 4, 5, 6, 9, 1, 2, 3, 8, 5, 8, 1, 3, 6, 7, 1, 2, 4, 6, 7, 1, 2, 3, 4, 5, 6, 7, 9, 1, 2, 3, 4, 6, 8, 10, 1, 5, 7, 9, 1, 2, 3, 4, 5, 6, 7, 8, 9, 1, 2, 3, 1, 2, 3, 4, 5, 6, 7, 8, 9, 10, 1, 2, 3, 4, 5, 6, 7, 8, 9, 10, 1, 2, 3, 4, 7, 8, 9, 10, 1, 3, 6], \"Freq\": [0.28845704237185477, 0.040564271583542075, 0.036057130296481846, 0.12619995603768647, 0.013521423861180692, 0.15774994504710807, 0.06309997801884323, 0.12619995603768647, 0.12619995603768647, 0.018028565148240923, 0.14319004797035828, 0.10455146359740446, 0.2091029271948089, 0.038638584372953824, 0.1659186270132723, 0.1386443321617755, 0.10682432150169587, 0.03409286856437102, 0.040911442277245226, 0.01591000533003981, 0.6841901571632796, 0.1710475392908199, 0.08552376964540995, 0.5961228901582992, 0.14193402146626174, 0.056773608586504695, 0.17032082575951407, 0.028386804293252348, 0.09213374986746284, 0.061422499911641885, 0.6756474990280608, 0.061422499911641885, 0.030711249955820943, 0.04606687493373142, 0.030711249955820943, 0.11572704461741899, 0.057863522308709496, 0.46290817846967597, 0.347181133852257, 0.03752072311910946, 0.17509670788917747, 0.22512433871465676, 0.35019341577835494, 0.10005526165095856, 0.02501381541273964, 0.06253453853184911, 0.02501381541273964, 0.01250690770636982, 0.05542548975946927, 0.33871132630786777, 0.17859324478051208, 0.18475163253156424, 0.14780130602525138, 0.024633551004208564, 0.012316775502104282, 0.018475163253156422, 0.024633551004208564, 0.018475163253156422, 0.1435869870352116, 0.21538048055281742, 0.5743479481408464, 0.1056371723698039, 0.05281858618490195, 0.1056371723698039, 0.26409293092450975, 0.4225486894792156, 0.05310624772598956, 0.10621249545197912, 0.4779562295339061, 0.37174373408192696, 0.1547725847688234, 0.4643177543064702, 0.0773862923844117, 0.1547725847688234, 0.03360159777739638, 0.1680079888869819, 0.13440639110958552, 0.03360159777739638, 0.13440639110958552, 0.4704223688835493, 0.08856306849346993, 0.30997073972714473, 0.5756599452075545, 0.08791734068759526, 0.26375202206278575, 0.04395867034379763, 0.48354537378177387, 0.04395867034379763, 0.04395867034379763, 0.11230423709456962, 0.11230423709456962, 0.6363906768692279, 0.11230423709456962, 0.6656276878333971, 0.12225814674490969, 0.04075271558163656, 0.06792119263606093, 0.09508966969048531, 0.350619915282173, 0.03339237288401648, 0.01669618644200824, 0.5843665254702883, 0.05715612687775105, 0.1143122537555021, 0.2286245075110042, 0.05715612687775105, 0.17146838063325315, 0.4000928881442573, 0.10540718989193722, 0.059291544314214684, 0.13175898736492153, 0.21081437978387443, 0.11199513926018329, 0.059291544314214684, 0.05270359494596861, 0.08564334178719898, 0.07246744305070683, 0.11199513926018329, 0.15208666686453204, 0.10139111124302135, 0.3041733337290641, 0.05069555562151067, 0.05069555562151067, 0.3041733337290641, 0.18230581433790696, 0.03038430238965116, 0.03038430238965116, 0.5469174430137209, 0.06076860477930232, 0.09115290716895348, 0.6506227756058482, 0.15014371744750343, 0.10009581163166896, 0.25793520669084447, 0.34391360892112594, 0.08597840223028148, 0.25793520669084447, 0.2604862521742824, 0.07947038201927259, 0.225166082387939, 0.0838854032425655, 0.013245063669878765, 0.1015454881357372, 0.17660084893171688, 0.048565233456222136, 0.008830042446585843, 0.11372015120844989, 0.6823209072506993, 0.11372015120844989, 0.056860075604224944, 0.36048161321921507, 0.040053512579912784, 0.4405886383790406, 0.12016053773973835, 0.8772667584758435, 0.09747408427509371, 0.13817002876621465, 0.18422670502161953, 0.09211335251080977, 0.04605667625540488, 0.5526801150648586, 0.1292264681512065, 0.032306617037801626, 0.09691985111340488, 0.3553727874158179, 0.032306617037801626, 0.06461323407560325, 0.29075955334021464, 0.09505909952905907, 0.9030614455260612, 0.11333755069291745, 0.11333755069291745, 0.09714647202250068, 0.27524833739708526, 0.01619107867041678, 0.04857323601125034, 0.09714647202250068, 0.04857323601125034, 0.19429294404500136, 0.10744842623075596, 0.02148968524615119, 0.2148968524615119, 0.5157524459076286, 0.04297937049230238, 0.06446905573845357, 0.04297937049230238, 0.5474382238271831, 0.21897528953087322, 0.14598352635391548, 0.07299176317695774, 0.2342554348597017, 0.05205676330215594, 0.6246811596258712, 0.0780851449532339, 0.0965943807072089, 0.032198126902402965, 0.7083587918528652, 0.06439625380480593, 0.032198126902402965, 0.1506749239914395, 0.301349847982879, 0.4520247719743185, 0.05022497466381316, 0.02784325365491736, 0.27843253654917355, 0.5847083267532645, 0.11137301461966943, 0.018833286672883757, 0.2259994400746051, 0.7344981802424666, 0.018833286672883757, 0.2397836025371091, 0.05994590063427727, 0.2397836025371091, 0.05994590063427727, 0.29972950317138636, 0.05994590063427727, 0.37264006825589574, 0.03387636984144507, 0.01129212328048169, 0.02258424656096338, 0.05646061640240845, 0.13550547936578028, 0.3048873285730056, 0.03387636984144507, 0.30673372429665585, 0.07078470560692059, 0.14628839158763587, 0.27370086168009294, 0.018875921495178822, 0.018875921495178822, 0.06606572523312589, 0.0943796074758941, 0.0047189803737947055, 0.07485975162509867, 0.037429875812549335, 0.224579254875296, 0.2994390065003947, 0.2994390065003947, 0.037429875812549335, 0.036971199737524336, 0.012323733245841446, 0.012323733245841446, 0.801042660979694, 0.1355610657042559, 0.06238928353413002, 0.12477856706826004, 0.12477856706826004, 0.6862821188754302, 0.12089028678746472, 0.17461930313744906, 0.1343225408749608, 0.45669663897486673, 0.026864508174992162, 0.04029676226248824, 0.026864508174992162, 0.013432254087496081, 0.8931066274698629, 0.07766144586694461, 0.07668405082509093, 0.038342025412545465, 0.07668405082509093, 0.575130381188182, 0.19171012706272733, 0.14228171728102157, 0.8062630645924556, 0.013135709491821926, 0.06567854745910963, 0.013135709491821926, 0.013135709491821926, 0.013135709491821926, 0.7618711505256717, 0.1050856759345754, 0.07723759900725541, 0.06436466583937951, 0.21883986385389032, 0.11585639851088311, 0.07723759900725541, 0.038618799503627704, 0.06436466583937951, 0.15447519801451082, 0.15447519801451082, 0.038618799503627704, 0.003436726086947493, 0.8179408086935033, 0.003436726086947493, 0.013746904347789971, 0.15465267391263718, 0.003436726086947493, 0.003436726086947493, 0.9217426218735604, 0.02304356554683901, 0.04608713109367802, 0.03030139526921489, 0.7575348817303722, 0.03030139526921489, 0.06060279053842978, 0.09090418580764466, 0.28512029339288225, 0.01782001833705514, 0.01782001833705514, 0.14256014669644113, 0.14256014669644113, 0.3207603300669925, 0.05346005501116542, 0.01782001833705514, 0.08812963927103172, 0.10071958773832197, 0.12589948467290246, 0.050359793869160986, 0.1384894331401927, 0.11330953620561222, 0.025179896934580493, 0.025179896934580493, 0.025179896934580493, 0.30215876321496593, 0.1792168451548723, 0.11947789676991485, 0.029869474192478714, 0.14934737096239356, 0.3883031645022233, 0.08960842257743615, 0.05973894838495743, 0.45931011464823, 0.4975859575355825, 0.08953319776668074, 0.01790663955333615, 0.0358132791066723, 0.16115975598002535, 0.6088257448134291, 0.0358132791066723, 0.05371991866000845, 0.9694030420452167, 0.1917857420114724, 0.0479464355028681, 0.0958928710057362, 0.5753572260344172, 0.0479464355028681, 0.03431752480659313, 0.1372700992263725, 0.5833979217120832, 0.24022267364615188, 0.08034366579005095, 0.44189016184528024, 0.17407794254511041, 0.1606873315801019, 0.013390610965008492, 0.08034366579005095, 0.05356244386003397, 0.10264168598891636, 0.4961014822797624, 0.13685558131855513, 0.01710694766481939, 0.2394972673074715, 0.2693919638695487, 0.13469598193477436, 0.06734799096738718, 0.37041395032062946, 0.03367399548369359, 0.06734799096738718, 0.1476312303030714, 0.2952624606061428, 0.0738156151515357, 0.0738156151515357, 0.4428936909092142, 0.06750722322784682, 0.3375361161392341, 0.03375361161392341, 0.10126083484177023, 0.06750722322784682, 0.3712897277531575, 0.03956883497178538, 0.15036157289278443, 0.007913766994357075, 0.01582753398871415, 0.007913766994357075, 0.7518078644639222, 0.01582753398871415, 0.1587411701871457, 0.06349646807485829, 0.47622351056143714, 0.03174823403742914, 0.06349646807485829, 0.03174823403742914, 0.06349646807485829, 0.06349646807485829, 0.03174823403742914, 0.09164863660561531, 0.09164863660561531, 0.09164863660561531, 0.18329727321123063, 0.5040675013308843, 0.7620409593567083, 0.16934243541260185, 0.07529838376146201, 0.050198922507641346, 0.26354434316511705, 0.20079569003056538, 0.03764919188073101, 0.11294757564219303, 0.012549730626910336, 0.012549730626910336, 0.012549730626910336, 0.21334542065747572, 0.05462286392467306, 0.2512651740534961, 0.4588320569672537, 0.07647200949454228, 0.04369829113973845, 0.010924572784934613, 0.021849145569869225, 0.03277371835480383, 0.05462286392467306, 0.1745586262727168, 0.07273276094696532, 0.0436396565681792, 0.32729742426134395, 0.25456466331437866, 0.02909310437878613, 0.0654594848522688, 0.0218198282840896, 0.007273276094696532, 0.14682959941982357, 0.03670739985495589, 0.024471599903303925, 0.03670739985495589, 0.23248019908138728, 0.20800859917808337, 0.08565059966156374, 0.08565059966156374, 0.024471599903303925, 0.1345937994681716, 0.07798984617975113, 0.6239187694380091, 0.07798984617975113, 0.15597969235950226, 0.32251615741304807, 0.024808935185619083, 0.04961787037123817, 0.012404467592809542, 0.06202233796404771, 0.11164020833528587, 0.31011168982023857, 0.07442680555685725, 0.024808935185619083, 0.05833065180644063, 0.8749597770966094, 0.029165325903220313, 0.45923408599928917, 0.524838955427759, 0.023954983583650998, 0.215594852252859, 0.07186495075095299, 0.23954983583651, 0.431189704505718, 0.023954983583650998, 0.2550287802422387, 0.022176415673238147, 0.05544103918309536, 0.14414670187604794, 0.06652924701971444, 0.09979387052957166, 0.14414670187604794, 0.022176415673238147, 0.1663231175492861, 0.2387068563159954, 0.04973059506583237, 0.04973059506583237, 0.12929954717116415, 0.08951507111849827, 0.05967671407899885, 0.08951507111849827, 0.10940730914483121, 0.029838357039499424, 0.13924566618433065, 0.7205617965910038, 0.18014044914775096, 0.06004681638258365, 0.17347359398666012, 0.7517189072755271, 0.05782453132888671, 0.4527499313402044, 0.012576386981672344, 0.012576386981672344, 0.02515277396334469, 0.17606941774341284, 0.1131874828350511, 0.012576386981672344, 0.2012221917067575, 0.012576386981672344, 0.057947843785731104, 0.7533219692145043, 0.11589568757146221, 0.028973921892865552, 0.2900412717608453, 0.05800825435216907, 0.05800825435216907, 0.4060577804651835, 0.05800825435216907, 0.11601650870433813, 0.8138638634872121, 0.07077077073801843, 0.03538538536900922, 0.03538538536900922, 0.6303303233937814, 0.07879129042422267, 0.15758258084844534, 0.4664745987982093, 0.030339811303948572, 0.02275485847796143, 0.08722695749885215, 0.0037924764129935716, 0.05688714619490357, 0.12135924521579429, 0.12894419804178142, 0.079642004672865, 0.0037924764129935716, 0.043844242229886164, 0.5918972701034632, 0.15345484780460156, 0.021922121114943082, 0.021922121114943082, 0.010961060557471541, 0.12057166613218695, 0.010961060557471541, 0.10506129733035983, 0.3677145406562594, 0.5253064866517991, 0.0658033341390776, 0.0329016670695388, 0.5264266731126208, 0.0329016670695388, 0.0658033341390776, 0.2632133365563104, 0.14337399125838404, 0.07168699562919202, 0.21506098688757608, 0.46596547158974816, 0.07168699562919202, 0.3489989164009851, 0.08546912238391473, 0.09971397611456718, 0.035612134326631135, 0.11395882984521964, 0.14957096417185078, 0.12108125671054587, 0.042734561191957364, 0.007122426865326228, 0.15297089383917303, 0.35693208562473705, 0.35693208562473705, 0.025495148973195502, 0.050990297946391004, 0.050990297946391004, 0.06627278682467977, 0.8085279992610932, 0.07952734418961573, 0.02650911472987191, 0.013254557364935955, 0.33771274603558593, 0.5306914580559208, 0.0482446780050837, 0.0482446780050837, 0.2214450972221756, 0.05714712186378725, 0.5607561332884125, 0.02500186581540692, 0.014286780465946813, 0.07143390232973407, 0.02143017069892022, 0.02143017069892022, 0.0035716951164867033, 0.0035716951164867033, 0.055304858397063374, 0.027652429198531687, 0.16591457519119013, 0.7466155883603556, 0.3335445623498536, 0.06387023534358899, 0.04258015689572599, 0.04967684971168032, 0.04258015689572599, 0.3832214120615339, 0.04258015689572599, 0.028386771263817327, 0.007096692815954332, 0.22853712700657047, 0.07716838054767314, 0.05342426345608141, 0.13356065864020353, 0.1276246293673056, 0.08607242445702004, 0.09497646836636695, 0.11278455618506075, 0.03858419027383657, 0.044520219546734505, 0.690591860557656, 0.15936735243638214, 0.10624490162425476, 0.5155417231664503, 0.007694652584573886, 0.08464117843031274, 0.007694652584573886, 0.09233583101488663, 0.007694652584573886, 0.1615877042760516, 0.07694652584573886, 0.03847326292286943, 0.007694652584573886, 0.16744953440784646, 0.2679192550525543, 0.1841944878486311, 0.3348990688156929, 0.016744953440784645, 0.7398883144158447, 0.17074345717288725, 0.05691448572429575, 0.06874814458936565, 0.034374072294682825, 0.6531073735989736, 0.034374072294682825, 0.20624443376809695, 0.6428260046265425, 0.08571013395020566, 0.17142026790041132, 0.08571013395020566, 0.005662539031550415, 0.1132507806310083, 0.01132507806310083, 0.2774644125459703, 0.005662539031550415, 0.005662539031550415, 0.5549288250919406, 0.028312695157752074, 0.14420966569509838, 0.036052416423774596, 0.14420966569509838, 0.036052416423774596, 0.5407862463566189, 0.7744608131039261, 0.15489216262078523, 0.03872304065519631, 0.011666610426560213, 0.046666441706240853, 0.03499983127968064, 0.3383317023702462, 0.4783310274889687, 0.06999966255936128, 0.011666610426560213, 0.11488694544206485, 0.04595477817682594, 0.09190955635365188, 0.09190955635365188, 0.04595477817682594, 0.48252517085667235, 0.04595477817682594, 0.0689321672652389, 0.08225727833906159, 0.16451455667812317, 0.18801663620356934, 0.03525311928816925, 0.12926143738995394, 0.047004159050892336, 0.011751039762723084, 0.282024954305354, 0.0705062385763385, 0.1629537655666167, 0.48886129669985007, 0.1629537655666167, 0.08147688278330835, 0.040738441391654175, 0.7806069850186794, 0.039030349250933974, 0.07806069850186795, 0.039030349250933974, 0.07537276679713169, 0.07537276679713169, 0.4522366007827901, 0.22611830039139505, 0.15074553359426338, 0.12712412826718136, 0.2088467821532265, 0.09080294876227239, 0.39953297455399855, 0.00908029487622724, 0.00908029487622724, 0.03632117950490896, 0.09080294876227239, 0.027240884628681718, 0.00908029487622724, 0.16893415779120322, 0.12066725556514517, 0.07240035333908709, 0.43440212003452255, 0.07240035333908709, 0.04826690222605806, 0.04826690222605806, 0.04826690222605806, 0.04250289630397769, 0.1487601370639219, 0.08500579260795538, 0.021251448151988844, 0.21251448151988844, 0.11688296483593864, 0.0956315166839498, 0.25501737782386613, 0.04250289630397769, 0.05582346804721498, 0.11164693609442997, 0.5024112124249348, 0.05582346804721498, 0.16747040414164494, 0.11164693609442997, 0.04557343855412511, 0.04557343855412511, 0.41016094698712596, 0.45573438554125106, 0.4375181844816017, 0.0416683985220573, 0.0833367970441146, 0.0833367970441146, 0.02083419926102865, 0.13542229519668622, 0.010417099630514326, 0.17709069371874353, 0.6506175384227026, 0.09294536263181466, 0.09294536263181466, 0.09294536263181466, 0.12423099752769869, 0.053241856083299434, 0.03549457072219962, 0.7808805558883917, 0.6394062450619662, 0.34101666403304864, 0.2146145477082673, 0.030659221101181043, 0.030659221101181043, 0.030659221101181043, 0.15329610550590522, 0.4905475376188967, 0.030659221101181043, 0.030659221101181043, 0.5870991095038823, 0.05870991095038824, 0.019569970316796078, 0.019569970316796078, 0.039139940633592156, 0.11741982190077647, 0.0978498515839804, 0.05870991095038824, 0.17950241545622303, 0.11966827697081535, 0.5385072463686691, 0.059834138485407674, 0.059834138485407674, 0.2050833652593377, 0.1253287232140397, 0.1253287232140397, 0.07975464204529799, 0.011393520292185428, 0.09114816233748342, 0.11393520292185427, 0.07975464204529799, 0.15950928409059598, 0.011393520292185428, 0.48099454048089996, 0.007757976459369354, 0.003878988229684677, 0.023273929378108064, 0.03491089406716209, 0.04266887052653145, 0.11249065866085564, 0.28316614076698143, 0.003878988229684677, 0.13780549240014425, 0.09187032826676284, 0.04593516413338142, 0.551221969600577, 0.09187032826676284, 0.04593516413338142, 0.16982482547077002, 0.6226910267261567, 0.05660827515692334, 0.05660827515692334, 0.05660827515692334, 0.2312980537625118, 0.10445718557016662, 0.23875928130323798, 0.059689820325809495, 0.059689820325809495, 0.11937964065161899, 0.06715104786653568, 0.05222859278508331, 0.029844910162904748, 0.037306137703630934, 0.6597141926873854, 0.21990473089579515, 0.027068596701162292, 0.7308521109313819, 0.10827438680464917, 0.027068596701162292, 0.08120579010348687, 0.027068596701162292, 0.08869905610622494, 0.161745337605469, 0.1147870137845264, 0.3913193651745218, 0.04174073228528233, 0.0521759153566029, 0.06782868996358378, 0.0573935068922632, 0.020870366142641164, 0.2608062352393, 0.24946683370715655, 0.18143042451429567, 0.13040311761965, 0.017009102298215218, 0.04535760612857392, 0.05102730689464566, 0.04535760612857392, 0.017009102298215218, 0.17095995814651813, 0.3496908234815143, 0.25643993721977715, 0.050510896725107626, 0.0077709071884780965, 0.06605271110206382, 0.03496908234815143, 0.023312721565434288, 0.027198175159673335, 0.0038854535942390482, 0.02808714126701513, 0.22469713013612105, 0.0842614238010454, 0.11234856506806053, 0.1966099888691059, 0.0842614238010454, 0.2527842714031362, 0.030802039534918713, 0.030802039534918713, 0.4928326325586994, 0.06160407906983743, 0.1848122372095123, 0.030802039534918713, 0.030802039534918713, 0.06160407906983743, 0.09240611860475614, 0.7995875219541716, 0.15991750439083433, 0.14705227866474943, 0.17973056281247154, 0.3104436994033599, 0.08169571036930524, 0.01633914207386105, 0.01633914207386105, 0.04901742622158315, 0.0326782841477221, 0.1633914207386105, 0.6402446916576311, 0.25609787666305245, 0.04268297944384207, 0.04268297944384207, 0.07498263130943189, 0.8248089444037509, 0.07498263130943189, 0.06493303529004976, 0.06493303529004976, 0.06493303529004976, 0.09739955293507466, 0.03246651764502488, 0.19479910587014931, 0.03246651764502488, 0.45453124703034836, 0.3897918222528369, 0.05197224296704492, 0.34648161978029945, 0.034648161978029945, 0.008662040494507486, 0.12126856692310481, 0.034648161978029945, 0.008662040494507486, 0.07316405440371487, 0.2469286836125377, 0.16461912240835846, 0.045727534002321796, 0.18291013600928718, 0.21034665641068026, 0.07316405440371487, 0.16344909708483876, 0.21793212944645168, 0.05448303236161292, 0.49034729125451626, 0.05448303236161292, 0.24762177465391175, 0.0990487098615647, 0.04952435493078235, 0.4457191943770411, 0.0990487098615647, 0.07428653239617353, 0.055618320663317754, 0.16685496198995325, 0.5561832066331776, 0.11123664132663551, 0.11123664132663551, 0.04547248296295979, 0.07275597274073566, 0.8275991899258681, 0.018188993185183914, 0.018188993185183914, 0.009094496592591957, 0.14518328196515315, 0.029036656393030626, 0.029036656393030626, 0.08710996917909189, 0.6097697842536431, 0.05807331278606125, 0.029036656393030626, 0.18243544301637318, 0.06081181433879106, 0.24324725735516425, 0.18243544301637318, 0.06081181433879106, 0.24324725735516425, 0.6172814155037527, 0.1763661187153579, 0.06613729451825921, 0.044091529678839475, 0.044091529678839475, 0.022045764839419738, 0.022045764839419738, 0.2479071083793692, 0.019069777567643786, 0.019069777567643786, 0.3432559962175881, 0.20976755324408164, 0.13348844297350648, 0.0476285353848296, 0.0357214015386222, 0.0238142676924148, 0.6310780938489922, 0.1666998738469036, 0.0119071338462074, 0.059535669231037, 0.0357214015386222, 0.528286820337225, 0.17609560677907501, 0.24213145932122812, 0.022011950847384377, 0.10783517355797768, 0.017972528926329615, 0.32350552067393307, 0.3414780496002627, 0.10783517355797768, 0.017972528926329615, 0.08986264463164807, 0.017677670496308594, 0.654073808363418, 0.22980971645201173, 0.08838835248154298, 0.2815497668010718, 0.022523981344085744, 0.06757194403225723, 0.05630995336021436, 0.18019185075268596, 0.06757194403225723, 0.25902578545698607, 0.03378597201612862, 0.03378597201612862, 0.30182440783125586, 0.12072976313250233, 0.1810946446987535, 0.362189289397507, 0.21904888296158323, 0.5841303545642219, 0.07301629432052774, 0.07301629432052774, 0.061659598768243506, 0.13212771164623607, 0.11451068342673794, 0.14093622575598516, 0.14093622575598516, 0.2202128527437268, 0.09689365520723979, 0.03523405643899629, 0.017617028219498145, 0.061659598768243506, 0.7493242753460951, 0.07887623951011527, 0.07887623951011527, 0.039438119755057635, 0.215444213709292, 0.215444213709292, 0.161583160281969, 0.053861053427323, 0.053861053427323, 0.269305267136615, 0.06716646011912204, 0.06716646011912204, 0.13433292023824409, 0.5373316809529763, 0.13433292023824409, 0.0752078601761989, 0.2256235805285967, 0.5264550212333924, 0.1504157203523978, 0.1877979850949786, 0.7136323433609187, 0.03755959701899572, 0.03755959701899572, 0.03755959701899572, 0.049709476005837125, 0.4225305460496156, 0.031068422503648205, 0.018641053502188924, 0.018641053502188924, 0.03728210700437785, 0.36039370104231916, 0.049709476005837125, 0.012427369001459281, 0.030522660430863956, 0.09156798129259186, 0.12209064172345582, 0.24418128344691165, 0.36627192517036744, 0.12209064172345582, 0.582916874149942, 0.10286768367351919, 0.10286768367351919, 0.10286768367351919, 0.06857845578234611, 0.034491935470384955, 0.034491935470384955, 0.034491935470384955, 0.034491935470384955, 0.758822580348469, 0.034491935470384955, 0.034491935470384955, 0.43250982828567724, 0.048056647587297475, 0.5045947996666235, 0.2617933854890244, 0.34905784731869927, 0.08726446182967482, 0.2617933854890244, 0.25918773988846805, 0.08823412421735082, 0.09099144059914303, 0.07720485869018197, 0.10753533888989632, 0.09650607336272746, 0.2095560450162082, 0.04963169487225984, 0.01654389829075328, 0.00827194914537664, 0.2073101753477316, 0.0691033917825772, 0.0691033917825772, 0.2073101753477316, 0.2764135671303088, 0.04338001216462838, 0.08676002432925677, 0.7374602067986825, 0.04338001216462838, 0.019428266531118333, 0.08418915496817944, 0.038856533062236666, 0.09714133265559166, 0.11656959918670999, 0.08418915496817944, 0.22666310952971389, 0.012952177687412221, 0.3238044421853055, 0.055829014121470975, 0.33497408472882584, 0.5582901412147098, 0.05104934013385246, 0.765740102007787, 0.10209868026770492, 0.05104934013385246, 0.2012777438517439, 0.6038332315552317, 0.16102219508139512, 0.11747736178833015, 0.783182411922201, 0.03915912059611005, 0.18916431678720108, 0.2837464751808016, 0.09458215839360054, 0.2837464751808016, 0.09458215839360054, 0.032553823621002176, 0.74873794328305, 0.19532294172601303, 0.15071959167178842, 0.18086351000614612, 0.20497864467363225, 0.1145468896705592, 0.07234540400245844, 0.06631662033558691, 0.07234540400245844, 0.06028783666871537, 0.030143918334357686, 0.04823026933497229, 0.08700180663542877, 0.10875225829428595, 0.07250150552952397, 0.13775286050609553, 0.1885039143767623, 0.12325255940019074, 0.10150210774133356, 0.10150210774133356, 0.02175045165885719, 0.058001204423619175, 0.5642939350702261, 0.09813807566438715, 0.032712691888129045, 0.049069037832193574, 0.1063162486364194, 0.13085076755251618, 0.008178172972032261, 0.34480360973976215, 0.2068821658438573, 0.028733634144980178, 0.19538871218586523, 0.005746726828996036, 0.15516162438289297, 0.045973814631968285, 0.005746726828996036, 0.011493453657992071, 0.005746726828996036, 0.14398284409522075, 0.07199142204761037, 0.21597426614283113, 0.21597426614283113, 0.2879656881904415, 0.1668854858019123, 0.04908396641232714, 0.18651907236684312, 0.04908396641232714, 0.08835113954218884, 0.274870211909032, 0.019633586564930857, 0.068717552977258, 0.029450379847396284, 0.07853434625972343, 0.0924046726703489, 0.22441134791370448, 0.5940300385951001, 0.026401335048671114, 0.013200667524335557, 0.026401335048671114, 0.028236145554852, 0.56472291109704, 0.112944582219408, 0.112944582219408, 0.14118072777426, 0.028236145554852, 0.03706758702442006, 0.11120276107326019, 0.7413517404884012, 0.07413517404884012, 0.06007086488058397, 0.20023621626861324, 0.12414645408654021, 0.5126047136476499, 0.00800944865074453, 0.024028345952233587, 0.004004724325372265, 0.0680803135313285, 0.31658236678557794, 0.1194650440700294, 0.0597325220350147, 0.2389300881400588, 0.01194650440700294, 0.05375926983151323, 0.08959878305252206, 0.06570577423851617, 0.04778601762801176, 0.0638957850241176, 0.8306452053135287, 0.0319478925120588, 0.0638957850241176, 0.59394877251284, 0.16969964928938283, 0.08484982464469142, 0.11313309952625522, 0.028283274881563805, 0.1168926316303039, 0.0166989473757577, 0.0834947368787885, 0.6846568424060657, 0.0500968421272731, 0.0333978947515154, 0.223427288334076, 0.055856822083519, 0.111713644167038, 0.502711398751671, 0.055856822083519, 0.8308330531531292, 0.05934521808236637, 0.05934521808236637, 0.17274737215856228, 0.23032982954474973, 0.05758245738618743, 0.46065965908949946, 0.03655675627191628, 0.09748468339177674, 0.024371170847944185, 0.08529909796780465, 0.2802684647513581, 0.1705981959356093, 0.024371170847944185, 0.06092792711986046, 0.012185585423972092, 0.20715495220752556, 0.14475962502718062, 0.7237981251359031, 0.07237981251359031, 0.11924542729708049, 0.6094766284073003, 0.1722433949846718, 0.0397484757656935, 0.013249491921897833, 0.026498983843795666, 0.013249491921897833, 0.06748672365004946, 0.5736371510254203, 0.16871680912512363, 0.16871680912512363, 0.3463298336474337, 0.12593812132633952, 0.44078342464218834, 0.03148453033158488, 0.03148453033158488, 0.1920676695541478, 0.06402255651804928, 0.12804511303609856, 0.1920676695541478, 0.3841353391082956, 0.9281349358671745, 0.026518141024776416, 0.20430314248070128, 0.749111522429238, 0.13063792941105, 0.10451034352884, 0.54867930352641, 0.05225517176442, 0.13063792941105, 0.02612758588221, 0.12778294677559054, 0.5750232604901574, 0.12778294677559054, 0.06389147338779527, 0.031945736693897636, 0.06389147338779527, 0.043101039682701694, 0.5243959828062039, 0.05746805291026893, 0.10775259920675423, 0.12930311904810507, 0.021550519841350847, 0.043101039682701694, 0.05028454629648531, 0.007183506613783616, 0.014367013227567232, 0.02962023979637941, 0.2962023979637941, 0.08886071938913823, 0.5924047959275882, 0.1916604797872148, 0.03709557673300932, 0.2782168254975699, 0.06182596122168219, 0.0680085573438504, 0.18547788366504658, 0.04327817285517754, 0.0680085573438504, 0.055643365099513974, 0.006182596122168219, 0.5875949860043799, 0.1678842817155371, 0.08394214085776855, 0.08394214085776855, 0.6862365673263747, 0.029836372492451076, 0.029836372492451076, 0.029836372492451076, 0.08950911747735323, 0.05967274498490215, 0.05967274498490215, 0.17958613724715777, 0.19954015249684198, 0.10475858006084204, 0.05986204574905259, 0.17958613724715777, 0.05487354193663154, 0.14466661056021043, 0.049885038124210496, 0.024942519062105248, 0.00498850381242105, 0.06517044086421132, 0.1448232019204696, 0.1882701624966105, 0.0724116009602348, 0.02172348028807044, 0.13034088172842265, 0.05792928076818784, 0.1882701624966105, 0.05792928076818784, 0.07965276105625828, 0.13178307921176385, 0.1757107722823518, 0.3514215445647036, 0.04392769307058795, 0.04392769307058795, 0.21963846535293974, 0.0613262498669548, 0.0613262498669548, 0.1226524997339096, 0.18397874960086438, 0.4906099989356384, 0.0613262498669548, 0.27388860307727037, 0.03912694329675291, 0.07825388659350582, 0.03912694329675291, 0.5477772061545407, 0.04182285691907894, 0.4600514261098684, 0.3764057122717105, 0.12546857075723683, 0.06274462577367104, 0.25097850309468417, 0.5019570061893683, 0.06274462577367104, 0.2803238505899935, 0.04459697623022624, 0.057338969438862304, 0.057338969438862304, 0.03822597962590821, 0.12104893548204265, 0.31217883361158366, 0.04459697623022624, 0.03822597962590821, 0.6622628311226537, 0.0339621964678284, 0.0169810982339142, 0.084905491169571, 0.1188676876373994, 0.050943294701742595, 0.035619750917673554, 0.641155516518124, 0.21371850550604132, 0.10685925275302066, 0.2092126087818745, 0.0944831136434272, 0.13497587663346744, 0.3914300422370555, 0.006748793831673371, 0.006748793831673371, 0.04049276299004023, 0.10798070130677394, 0.013497587663346742, 0.8432119132483906, 0.08432119132483906, 0.08432119132483906, 0.7218534081937823, 0.044195106624109116, 0.029463404416072744, 0.17678042649643647, 0.466244235674303, 0.015541474522476768, 0.07770737261238383, 0.2124001518071825, 0.033673194798699665, 0.04921466932117643, 0.07770737261238383, 0.05957565233616094, 0.0025902457537461277, 0.17892528911850014, 0.4771341043160004, 0.05964176303950005, 0.17892528911850014, 0.300945500521963, 0.013475171665162523, 0.03593379110710006, 0.004491723888387507, 0.013475171665162523, 0.022458619441937538, 0.6063827249323135, 0.004491723888387507, 0.2431858938528831, 0.16212392923525543, 0.567433752323394, 0.044356700140811736, 0.26614020084487044, 0.08871340028162347, 0.08871340028162347, 0.13307010042243522, 0.08871340028162347, 0.31049690098568217, 0.08213296681493985, 0.3285318672597594, 0.13688827802489975, 0.4106648340746993, 0.018614523489864372, 0.08376535570438967, 0.018614523489864372, 0.7166591543597783, 0.037229046979728744, 0.009307261744932186, 0.08376535570438967, 0.018614523489864372, 0.018614523489864372, 0.05038502693338362, 0.20154010773353448, 0.03359001795558908, 0.01679500897779454, 0.06718003591117816, 0.0839750448889727, 0.5542352962672198, 0.11615485288845773, 0.03318710082527364, 0.48121296196646773, 0.13274840330109455, 0.08296775206318409, 0.04978065123791045, 0.0995613024758209, 0.0713174786894614, 0.5705398295156912, 0.26149742186135844, 0.023772492896487134, 0.023772492896487134, 0.023772492896487134, 0.023772492896487134, 0.12455486920811437, 0.29062802815226685, 0.041518289736038126, 0.4982194768324575, 0.6066506929591481, 0.1213301385918296, 0.2426602771836592, 0.1435271846336708, 0.07828755525472954, 0.11743133288209431, 0.013047925875788256, 0.11090736994420018, 0.16309907344735322, 0.20224285107471798, 0.0913354811305178, 0.019571888813682384, 0.06523962937894129, 0.7328373937487795, 0.07328373937487795, 0.1465674787497559, 0.17321124610782887, 0.1443427050898574, 0.4907651973055151, 0.08660562305391444, 0.05773708203594295, 0.028868541017971476, 0.13666271564841276, 0.03904649018526078, 0.09273541418999436, 0.18059001710683112, 0.11713947055578235, 0.04880811273157598, 0.029284867638945587, 0.21475569601893432, 0.07321216909736397, 0.06345054655104877, 0.0879615514998287, 0.21990387874957176, 0.6597116362487153, 0.03174425590698376, 0.7301178858606265, 0.04761638386047564, 0.04761638386047564, 0.14284915158142691, 0.21433238256251153, 0.07144412752083718, 0.6429971476875346, 0.17496702151157786, 0.08748351075578893, 0.6998680860463115, 0.7884251587552566, 0.1892220381012616, 0.0185291690146657, 0.555875070439971, 0.2223500281759884, 0.0370583380293314, 0.0185291690146657, 0.0185291690146657, 0.1297041831026599, 0.0185291690146657, 0.27787460469703423, 0.4168119070455513, 0.06946865117425856, 0.13893730234851712, 0.13573999823725122, 0.1561009979728389, 0.09501799876607585, 0.13573999823725122, 0.013573999823725121, 0.09501799876607585, 0.07465699903048817, 0.21718399717960193, 0.06786999911862561, 0.0067869999118625604, 0.2257649871998242, 0.17695093591337574, 0.18915444873498785, 0.2135614743782121, 0.0305087820540303, 0.04881405128644848, 0.01220351282161212, 0.01220351282161212, 0.0915263461620909, 0.22134183034365595, 0.14105116639546703, 0.10199084339364539, 0.058590484502732465, 0.15190125611819527, 0.15190125611819527, 0.08680071778182587, 0.04123034094636729, 0.02604021533454776, 0.017360143556365174, 0.727908391357228, 0.15324387186467955, 0.03831096796616989, 0.03831096796616989, 0.10006633875242633, 0.04002653550097053, 0.09339524950226458, 0.03335544625080877, 0.16677723125404387, 0.06671089250161755, 0.2068037667550144, 0.22681703450549967, 0.03335544625080877, 0.03335544625080877, 0.05134982431612452, 0.3080989458967471, 0.05134982431612452, 0.5134982431612451, 0.05134982431612452, 0.046690246560531494, 0.46690246560531495, 0.23345123280265748, 0.18676098624212598, 0.10373096089524503, 0.03457698696508168, 0.8298476871619602, 0.03457698696508168, 0.07859127360558009, 0.15718254721116018, 0.4715476416334805, 0.23577382081674025, 0.05342175075064249, 0.26710875375321247, 0.10684350150128498, 0.05342175075064249, 0.10684350150128498, 0.16026525225192748, 0.21368700300256996, 0.17250294887494405, 0.06468860582810403, 0.6037603210623042, 0.04312573721873601, 0.04312573721873601, 0.08625147443747203, 0.7844308740821277, 0.14941540458707195, 0.03735385114676799, 0.023856192299350095, 0.023856192299350095, 0.09542476919740038, 0.8349667304772533, 0.023856192299350095, 0.3106300269545918, 0.07765750673864795, 0.1553150134772959, 0.038828753369323975, 0.038828753369323975, 0.07765750673864795, 0.038828753369323975, 0.23297252021594383, 0.16838667894934495, 0.08419333947467247, 0.12629000921200872, 0.14032223245778747, 0.12629000921200872, 0.04209666973733624, 0.16137056732645558, 0.1333061208348981, 0.014032223245778746, 0.007016111622889373, 0.5939459469406283, 0.1272741314872775, 0.04242471049575917, 0.16969884198303667, 0.05329982712276395, 0.8527972339642232, 0.05329982712276395, 0.6418829564052285, 0.15103128386005377, 0.1887891048250672, 0.4752509969295429, 0.07920849948825716, 0.07920849948825716, 0.3960424974412858, 0.03072938538809258, 0.06145877077618516, 0.5531289369856665, 0.24583508310474064, 0.06145877077618516, 0.03072938538809258, 0.036624442627551705, 0.7691132951785858, 0.10987332788265512, 0.07324888525510341, 0.17839643633021213, 0.3822780778504546, 0.07645561557009091, 0.14441616274350505, 0.04247534198338384, 0.025485205190030304, 0.04247534198338384, 0.09344575236344445, 0.008495068396676768, 0.09886376059030712, 0.5931825635418427, 0.09886376059030712, 0.09886376059030712, 0.09886376059030712, 0.3912504128969887, 0.08694453619933083, 0.3912504128969887, 0.13041680429899624, 0.04742553671066747, 0.8536596607920145, 0.04742553671066747, 0.08955085135214873, 0.08955085135214873, 0.6268559594650411, 0.029850283784049577, 0.059700567568099154, 0.08955085135214873, 0.007679873719579217, 0.061438989756633734, 0.007679873719579217, 0.07679873719579217, 0.007679873719579217, 0.7372678770796048, 0.09983835835452982, 0.007623148719115622, 0.2439407590116999, 0.29730280004550924, 0.015246297438231244, 0.022869446157346863, 0.030492594876462487, 0.12959352822496556, 0.22869446157346865, 0.022869446157346863, 0.045906044401578305, 0.13771813320473492, 0.09181208880315661, 0.09181208880315661, 0.5508725328189397, 0.27552908512457713, 0.2479761766121194, 0.036737211349943615, 0.018368605674971807, 0.4041093248493798, 0.009184302837485904, 0.1715312599549577, 0.1715312599549577, 0.11435417330330512, 0.11435417330330512, 0.3430625199099154, 0.05717708665165256, 0.04880295332248892, 0.04880295332248892, 0.04880295332248892, 0.34162067325742246, 0.5368324865473781, 0.11069605319979697, 0.036898684399932324, 0.012299561466644108, 0.38128640546596737, 0.06149780733322054, 0.15374451833305136, 0.04919824586657643, 0.06149780733322054, 0.12914539539976314, 0.006149780733322054, 0.1166087382145085, 0.4081305837507797, 0.233217476429017, 0.05830436910725425, 0.1166087382145085, 0.1522286623785557, 0.038057165594638925, 0.6469718151088617, 0.1522286623785557, 0.12025575042652836, 0.1288454468855661, 0.02576908937711322, 0.3349981619024719, 0.008589696459037741, 0.0429484822951887, 0.09448666104941515, 0.24051150085305673, 0.09543068092727255, 0.01192883511590907, 0.7038012718386352, 0.17893252673863605, 0.2107139434382955, 0.15493672311639375, 0.31607091515744323, 0.06817215817121325, 0.061974689246557496, 0.10535697171914775, 0.06817215817121325, 0.00619746892465575, 0.15717289474688922, 0.23575934212033384, 0.07858644737344461, 0.39293223686722306, 0.5236329367669558, 0.11454470491777156, 0.2945435269314126, 0.032727058547934736, 0.0983647619008615, 0.7377357142564613, 0.14754714285129225, 0.05027792299027545, 0.15083376897082634, 0.8044467678444072, 0.15583076752476016, 0.3116615350495203, 0.07791538376238008, 0.15583076752476016, 0.23374615128714024, 0.21105107471048043, 0.12446601841900128, 0.0811734902732617, 0.25434360285622, 0.14611228249187105, 0.04870409416395702, 0.04329252814573958, 0.059527226200391914, 0.03788096212752213, 0.2764527764055128, 0.009873313443054029, 0.019746626886108058, 0.0691131941013782, 0.009873313443054029, 0.05923988065832417, 0.5529055528110256, 0.009873313443054029, 0.12562869100710122, 0.041876230335700405, 0.08375246067140081, 0.5025147640284049, 0.041876230335700405, 0.08375246067140081, 0.041876230335700405, 0.12553026864527353, 0.6904164775490044, 0.12553026864527353, 0.0454901820751516, 0.1819607283006064, 0.0454901820751516, 0.5458821849018192, 0.1364705462254548, 0.47401321893367226, 0.036462555302590176, 0.07292511060518035, 0.36462555302590177, 0.16260658403352757, 0.03534925739859295, 0.16260658403352757, 0.12018747515521602, 0.04241910887831154, 0.10604777219577885, 0.22623524735099487, 0.09897792071606026, 0.00706985147971859, 0.03534925739859295, 0.44590838501641794, 0.039704171268585164, 0.04581250530990596, 0.07940834253717033, 0.15881668507434066, 0.11300417976443469, 0.07330000849584953, 0.018325002123962382, 0.02137916914462278, 0.009162501061981191, 0.3094007936286222, 0.03395862369094634, 0.011319541230315446, 0.2150712833759935, 0.0037731804101051487, 0.3094007936286222, 0.04905134533136694, 0.06414406697178753, 0.0037731804101051487, 0.0037731804101051487, 0.5980806975512925, 0.023923227902051696, 0.011961613951025848, 0.10167371858371971, 0.05382726277961632, 0.10765452555923263, 0.04784645580410339, 0.023923227902051696, 0.02990403487756462, 0.011961613951025848, 0.018528613377925926, 0.500272561204, 0.33351504080266664, 0.09264306688962963, 0.018528613377925926, 0.018528613377925926, 0.06770721170828872, 0.8801937522077534, 0.03371010460226088, 0.011236701534086959, 0.011236701534086959, 0.022473403068173917, 0.1123670153408696, 0.46070476289756535, 0.25844413528400006, 0.044946806136347835, 0.044946806136347835, 0.011007462875838678, 0.022014925751677357, 0.9356343444462877, 0.022014925751677357, 0.1469512551193791, 0.07347562755968955, 0.25716469645891343, 0.07347562755968955, 0.44085376535813725, 0.6500637675263775, 0.09750956512895663, 0.1300127535052755, 0.032503188376318874, 0.06500637675263775, 0.08167616076229567, 0.33577977202277104, 0.43560619073224355, 0.054450773841530443, 0.04537564486794204, 0.03630051589435363, 0.35080891077524995, 0.10108053361320761, 0.10108053361320761, 0.19621515348446184, 0.017837741225860168, 0.08918870612930084, 0.07135096490344067, 0.053513223677580504, 0.017837741225860168, 0.9752132572243529, 0.1662514018397937, 0.10579634662532328, 0.12091011042894088, 0.03022752760723522, 0.3022752760723522, 0.22670645705426415, 0.03022752760723522, 0.08312706457385813, 0.027709021524619376, 0.08312706457385813, 0.08312706457385813, 0.15239961838540658, 0.027709021524619376, 0.3186537475331228, 0.09698157533616782, 0.06927255381154844, 0.06927255381154844, 0.8447010320778746, 0.07039175267315621, 0.04692783511543747, 0.046624272120041874, 0.74598835392067, 0.1864970884801675, 0.5898933281469506, 0.16854095089912877, 0.08427047544956438, 0.08427047544956438, 0.04209413629865188, 0.5472237718824744, 0.08418827259730376, 0.08418827259730376, 0.12628240889595563, 0.08418827259730376, 0.06043357800001839, 0.5439022020001655, 0.06043357800001839, 0.06043357800001839, 0.18130073400005517, 0.06043357800001839, 0.644145034429992, 0.23005179801071143, 0.04601035960214229, 0.04601035960214229, 0.5849084526340118, 0.03773602920219431, 0.018868014601097154, 0.018868014601097154, 0.018868014601097154, 0.07547205840438861, 0.09434007300548576, 0.05660404380329146, 0.05660404380329146, 0.018868014601097154, 0.6646396957085459, 0.3127716215099039, 0.14329488878315774, 0.191059851710877, 0.6209445180603502, 0.7959038950173412, 0.08843376611303791, 0.08843376611303791, 0.11019184645391783, 0.11019184645391783, 0.055095923226958915, 0.38567146258871243, 0.22038369290783566, 0.0248531464557813, 0.554225165963923, 0.18391328377278163, 0.03976503432925008, 0.09444195653196895, 0.02236783181020317, 0.0248531464557813, 0.02236783181020317, 0.00745594393673439, 0.027338461101359433, 0.43736904814840516, 0.39251068423574825, 0.10093131880347811, 0.02242918195632847, 0.03364377293449271, 0.3678831555170938, 0.07357663110341875, 0.07357663110341875, 0.4414597866205125, 0.07258863393083473, 0.08710636071700167, 0.07258863393083473, 0.02903545357233389, 0.5952267982328447, 0.014517726786166946, 0.07258863393083473, 0.07258863393083473, 0.07508017576844132, 0.1433348810124789, 0.1092075283904601, 0.15016035153688265, 0.1911131746833052, 0.07508017576844132, 0.06142923471963381, 0.1092075283904601, 0.013650941048807513, 0.07508017576844132, 0.30250023495654216, 0.12100009398261687, 0.06050004699130843, 0.12100009398261687, 0.06050004699130843, 0.3630002819478506, 0.06898738816172192, 0.08869807049364248, 0.0394213646638411, 0.20696216448516577, 0.08869807049364248, 0.01971068233192055, 0.22667284681708633, 0.16754079982132467, 0.09855341165960275, 0.19243621733691385, 0.038487243467382776, 0.038487243467382776, 0.6927703824128899, 0.07623193377850576, 0.15246386755701152, 0.15246386755701152, 0.03811596688925288, 0.07623193377850576, 0.49550756956028746, 0.08345580599149298, 0.04172790299574649, 0.08345580599149298, 0.16691161198298596, 0.4172790299574649, 0.04172790299574649, 0.08345580599149298, 0.08345580599149298, 0.03011145414593969, 0.17063157349365826, 0.05018575690989949, 0.020074302763959793, 0.5620804773908742, 0.010037151381979897, 0.010037151381979897, 0.10037151381979897, 0.05018575690989949, 0.08054753798292554, 0.2416426139487766, 0.40273768991462766, 0.08054753798292554, 0.08054753798292554, 0.1473276793282276, 0.09207979958014226, 0.09207979958014226, 0.09207979958014226, 0.1473276793282276, 0.4235670780686544, 0.29728565342082575, 0.011010579756326879, 0.05505289878163439, 0.0990952178069419, 0.08808463805061503, 0.2532433343955182, 0.07707405829428815, 0.022021159512653758, 0.0990952178069419, 0.16947105310495522, 0.033894210620991044, 0.40673052745189253, 0.033894210620991044, 0.3050478955889194, 0.2060308260189534, 0.1373538840126356, 0.2060308260189534, 0.4120616520379068, 0.15081335826343883, 0.05655500934878957, 0.08483251402318435, 0.028277504674394785, 0.2356458722866232, 0.21679420250369333, 0.19794253272076348, 0.03770333956585971, 0.072346435458608, 0.21703930637582397, 0.21703930637582397, 0.036173217729304, 0.36173217729303997, 0.28908032672363476, 0.5670421793425143, 0.022236948209510363, 0.055592370523775914, 0.04447389641902073, 0.022236948209510363, 0.02249369562614457, 0.5061081515882528, 0.2699243475137349, 0.03374054343921686, 0.06748108687843372, 0.02249369562614457, 0.06748108687843372, 0.011246847813072286, 0.2693711754884039, 0.6584628734160984, 0.05986026121964531, 0.3494976122272328, 0.0436872015284041, 0.0436872015284041, 0.5242464183408493, 0.15600873597069004, 0.07800436798534502, 0.11700655197801751, 0.46802620791207006, 0.15600873597069004, 0.03900218399267251, 0.16232046255234034, 0.08853843411945836, 0.35415373647783344, 0.14756405686576393, 0.05902562274630558, 0.19183327392549313, 0.014756405686576395, 0.5305957832323538, 0.408150602486426, 0.8580360811694667, 0.027239240672046562, 0.04085886100806984, 0.013619620336023281, 0.013619620336023281, 0.013619620336023281, 0.013619620336023281, 0.013619620336023281, 0.06412841696749344, 0.12825683393498688, 0.19238525090248035, 0.12825683393498688, 0.12825683393498688, 0.06412841696749344, 0.32064208483746726, 0.16459973249702156, 0.060219414328178615, 0.3934335069441003, 0.2970824440190145, 0.012043882865635723, 0.0040146276218785745, 0.05219015908442147, 0.008029255243757149, 0.008029255243757149, 0.06805715721080764, 0.04537143814053842, 0.4990858195459227, 0.09074287628107684, 0.04537143814053842, 0.06805715721080764, 0.11342859535134606, 0.02268571907026921, 0.06805715721080764, 0.05641183082191206, 0.1692354924657362, 0.1692354924657362, 0.5641183082191207, 0.1338366096303947, 0.06691830481519735, 0.06691830481519735, 0.5353464385215788, 0.1338366096303947, 0.3218337193961105, 0.10727790646537018, 0.05363895323268509, 0.10727790646537018, 0.3218337193961105, 0.05363895323268509, 0.12042966659270289, 0.08028644439513526, 0.3612889997781087, 0.1605728887902705, 0.24085933318540578, 0.06380893923047723, 0.0850785856406363, 0.06380893923047723, 0.04253929282031815, 0.021269646410159077, 0.6806286851250904, 0.563549424678358, 0.1475962778919509, 0.01341784344472281, 0.040253530334168425, 0.05367137377889124, 0.17443196478139653, 0.038903110037619905, 0.019451555018809952, 0.07132236840230316, 0.8558684208276379, 0.0064838516729366505, 0.0064838516729366505, 0.0064838516729366505, 0.935016845939826, 0.029099304233751375, 0.26916856416220025, 0.2837182162790759, 0.21096995569469748, 0.007274826058437844, 0.043648956350627065, 0.014549652116875688, 0.1454965211687569, 0.09878826276654198, 0.32600126712958855, 0.18769769925642976, 0.07903061021323358, 0.10866708904319619, 0.009878826276654198, 0.08890943648988779, 0.08890943648988779, 0.009878826276654198, 0.2946308142335033, 0.03535569770802039, 0.36534220964954406, 0.04714093027736052, 0.18856372110944208, 0.02357046513868026, 0.02357046513868026, 0.01178523256934013, 0.4449683225436433, 0.028402233353849574, 0.066271877825649, 0.19408192791797207, 0.09467411117949857, 0.09467411117949857, 0.0331359389128245, 0.04260335003077436, 0.034949517423191155, 0.034949517423191155, 0.06989903484638231, 0.13979806969276462, 0.20969710453914692, 0.48929324392467616, 0.15498187161942667, 0.07749093580971333, 0.5424365506679933, 0.23247280742914003, 0.058062014273726086, 0.029031007136863043, 0.058062014273726086, 0.058062014273726086, 0.029031007136863043, 0.7548061855584391, 0.31137165768624275, 0.10379055256208092, 0.20758110512416184, 0.05189527628104046, 0.31137165768624275, 0.23520385726827128, 0.7417967806153171, 0.5924276098179347, 0.32912644989885265, 0.021941763326590178, 0.043883526653180356, 0.045498355342104835, 0.1364950660263145, 0.818970396157887, 0.15914546251505696, 0.2197723053779358, 0.03031342143143942, 0.1515671071571971, 0.06062684286287884, 0.04547013214715913, 0.037891776789299274, 0.13641039644147737, 0.11367533036789781, 0.04547013214715913, 0.06937593430240353, 0.046250622868269024, 0.6706340315899009, 0.11562655717067256, 0.06937593430240353, 0.03345599455505719, 0.3345599455505719, 0.5687519074359723, 0.03345599455505719, 0.023466823667089375, 0.12906753016899156, 0.04693364733417875, 0.42240282600760876, 0.10560070650190219, 0.2581350603379831, 0.011733411833544687, 0.6519231445181091, 0.1862637555766026, 0.0310439592627671, 0.1241758370510684, 0.12413681878070507, 0.16847139691667115, 0.008866915627193219, 0.15073756566228472, 0.12413681878070507, 0.05763495157675592, 0.022167289067983046, 0.20393905942544402, 0.008866915627193219, 0.12857027659430167, 0.6056774777018484, 0.0672974975224276, 0.0672974975224276, 0.1345949950448552, 0.0672974975224276, 0.06742155526772972, 0.13484311053545944, 0.2215279673082548, 0.41416098235891113, 0.03852660301013127, 0.04815825376266408, 0.04815825376266408, 0.019263301505065635, 0.04985544721040701, 0.149566341631221, 0.7478317081561051, 0.04631542962382328, 0.6947314443573493, 0.18526171849529313, 0.3752043313741466, 0.022971693757600813, 0.03254323282326782, 0.06508646564653564, 0.04402907970206822, 0.22205970632347452, 0.12060139222740426, 0.10145831409607026, 0.005742923439400203, 0.009571539065667005, 0.018388657323309552, 0.036777314646619104, 0.2206638878797146, 0.4964937477293579, 0.05516597196992865, 0.07355462929323821, 0.018388657323309552, 0.036777314646619104, 0.036777314646619104, 0.35478431566669644, 0.0780022254302666, 0.05032401640662361, 0.1283262418368902, 0.04529161476596125, 0.1157452377352343, 0.12077763937589667, 0.060388819687948334, 0.030194409843974167, 0.017613405742318265, 0.11340527158718941, 0.037801757195729806, 0.018900878597864903, 0.24571142177224373, 0.07560351439145961, 0.018900878597864903, 0.13230615018505432, 0.07560351439145961, 0.2835131789679735, 0.24041170876787532, 0.09015439078795325, 0.09015439078795325, 0.09015439078795325, 0.06010292719196883, 0.15025731797992206, 0.24041170876787532, 0.04970498571685676, 0.02485249285842838, 0.07455747857528514, 0.7455747857528514, 0.04970498571685676, 0.04970498571685676, 0.05570456724656557, 0.44563653797252456, 0.47348882159580735, 0.2523932556597848, 0.0315491569574731, 0.0315491569574731, 0.6625322961069352, 0.0315491569574731, 0.05509935517602633, 0.27549677588013166, 0.2203974207041053, 0.4407948414082106, 0.2683827809369611, 0.03976041199066091, 0.16401169946147623, 0.10437108147548488, 0.12425128747081533, 0.16401169946147623, 0.06958072098365659, 0.04473046348949352, 0.01491015449649784, 0.004970051498832614, 0.6594261771472196, 0.01735332045124262, 0.3123597681223672, 0.11420645054511867, 0.09707548296335086, 0.2398335461447492, 0.1199167730723746, 0.1027858054906068, 0.07994451538158306, 0.04568258021804747, 0.13133741812688646, 0.02855161263627967, 0.03997225769079153, 0.09274360982656293, 0.5564616589593776, 0.1391154147398444, 0.18548721965312587, 0.10833608272502429, 0.21667216545004858, 0.07222405515001619, 0.3972323033250891, 0.10833608272502429, 0.036112027575008095, 0.036112027575008095, 0.18997995900315914, 0.6217525931012481, 0.06908362145569423, 0.017270905363923558, 0.06908362145569423, 0.034541810727847115, 0.09020361846305132, 0.7817646933464448, 0.030067872821017107, 0.060135745642034215, 0.6742550912071119, 0.14448323383009543, 0.14448323383009543, 0.10655001438672643, 0.12294232429237666, 0.03278461981130044, 0.22129618372627796, 0.073765394575426, 0.4343962124997308, 0.00819615495282511, 0.24092362588456567, 0.0741303464260202, 0.01853258660650505, 0.0370651732130101, 0.5930427714081616, 0.1386256865029413, 0.06931284325147065, 0.5545027460117652, 0.1386256865029413, 0.031843656995747344, 0.11676007565107359, 0.10614552331915782, 0.04245820932766312, 0.3502802269532208, 0.08491641865532625, 0.05307276165957891, 0.08491641865532625, 0.12737462798298937, 0.5928755201441025, 0.10779554911710953, 0.1616933236756643, 0.10779554911710953, 0.7858146211623426, 0.1096485517900943, 0.018274758631682386, 0.018274758631682386, 0.05482427589504715, 0.8674549441470158, 0.07228791201225132, 0.2540415416182621, 0.11456775406313782, 0.1494362009519189, 0.08468051387275403, 0.019924826793589187, 0.11954896076153511, 0.1295113741583297, 0.029887240190383777, 0.06475568707916485, 0.029887240190383777, 0.25266166497296544, 0.06617329320720523, 0.16242535605404923, 0.18047261783783247, 0.04812603142342199, 0.0360945235675665, 0.06617329320720523, 0.17445686390990472, 0.01804726178378325, 0.2732591001644528, 0.10365000351065452, 0.11307273110253221, 0.16018636906192063, 0.2355681897969421, 0.028268182775633054, 0.05653636555126611, 0.01884545518375537, 0.05212491139436451, 0.31274946836618706, 0.05212491139436451, 0.05212491139436451, 0.3648743797605516, 0.07818736709154676, 0.05212491139436451, 0.05212491139436451, 0.7922372072512099, 0.022006589090311387, 0.1540461236321797, 0.10128481292661513, 0.472662460324204, 0.16880802154435856, 0.06752320861774343, 0.13504641723548685, 0.15675580357013552, 0.6270232142805421, 0.15675580357013552, 0.07837790178506776, 0.9211764641811162, 0.046058823209055806, 0.1923343381095065, 0.1538674704876052, 0.0769337352438026, 0.5385361467066182, 0.17607039987521894, 0.09781688881956607, 0.5086478218617436, 0.1369436443473925, 0.07825351105565286, 0.03579984660651861, 0.008949961651629652, 0.026849884954888954, 0.026849884954888954, 0.017899923303259305, 0.8412963952531872, 0.017899923303259305, 0.026849884954888954, 0.04199222060544595, 0.04199222060544595, 0.29394554423812164, 0.4619144266599054, 0.04199222060544595, 0.04199222060544595, 0.04199222060544595, 0.11594046406319189, 0.057970232031595945, 0.6956427843791514, 0.11594046406319189, 0.018100822872294798, 0.11765534866991618, 0.2805627545205694, 0.1267057601060636, 0.1719578172868006, 0.0814537029253266, 0.0633528800530318, 0.036201645744589596, 0.09955452579762139, 0.06814127425598579, 0.6132714683038721, 0.27256509702394316, 0.10566039231255601, 0.29259800948092435, 0.1544267272260434, 0.05689405739906862, 0.016255444971162464, 0.11378811479813725, 0.04876633491348739, 0.11378811479813725, 0.06502177988464986, 0.03251088994232493, 0.24871795744228123, 0.09845085815423632, 0.13472222694790234, 0.07772436170071288, 0.06736111347395117, 0.16063034751480662, 0.015544872340142577, 0.13472222694790234, 0.04145299290704687, 0.025908120566904294, 0.019909941496480118, 0.17918947346832106, 0.6172081863908837, 0.019909941496480118, 0.019909941496480118, 0.019909941496480118, 0.019909941496480118, 0.09954970748240059, 0.7786961750130235, 0.05989970577023258, 0.11979941154046515], \"Term\": [\"%\", \"%\", \"%\", \"%\", \"%\", \"%\", \"%\", \"%\", \"%\", \"%\", \"-\", \"-\", \"-\", \"-\", \"-\", \"-\", \"-\", \"-\", \"-\", \"-\", \"academia\", \"academia\", \"academia\", \"academic\", \"academic\", \"academic\", \"academic\", \"academic\", \"access\", \"access\", \"access\", \"access\", \"access\", \"access\", \"access\", \"accident\", \"accident\", \"accident\", \"accident\", \"action\", \"action\", \"action\", \"action\", \"action\", \"action\", \"action\", \"action\", \"action\", \"activity\", \"activity\", \"activity\", \"activity\", \"activity\", \"activity\", \"activity\", \"activity\", \"activity\", \"activity\", \"actor\", \"actor\", \"actor\", \"adaptation\", \"adaptation\", \"adaptation\", \"adaptation\", \"adaptation\", \"additive\", \"additive\", \"additive\", \"additive\", \"affordable\", \"affordable\", \"affordable\", \"affordable\", \"age\", \"age\", \"age\", \"age\", \"age\", \"age\", \"agency\", \"agency\", \"agency\", \"agricultural\", \"agricultural\", \"agricultural\", \"agricultural\", \"agricultural\", \"agricultural\", \"agriculture\", \"agriculture\", \"agriculture\", \"agriculture\", \"air\", \"air\", \"air\", \"air\", \"air\", \"aircraft\", \"aircraft\", \"aircraft\", \"aircraft\", \"ambition\", \"ambition\", \"ambition\", \"ambition\", \"ambition\", \"ambition\", \"analysis\", \"analysis\", \"analysis\", \"analysis\", \"analysis\", \"analysis\", \"analysis\", \"analysis\", \"analysis\", \"analysis\", \"analytic\", \"analytic\", \"analytic\", \"analytic\", \"analytic\", \"analytic\", \"animal\", \"animal\", \"animal\", \"animal\", \"animal\", \"animal\", \"app\", \"app\", \"app\", \"applicable\", \"applicable\", \"applicable\", \"applicable\", \"application\", \"application\", \"application\", \"application\", \"application\", \"application\", \"application\", \"application\", \"application\", \"authority\", \"authority\", \"authority\", \"authority\", \"automation\", \"automation\", \"automation\", \"automation\", \"battery\", \"battery\", \"behavior\", \"behavior\", \"behavior\", \"behavior\", \"behavior\", \"behaviour\", \"behaviour\", \"behaviour\", \"behaviour\", \"behaviour\", \"behaviour\", \"behaviour\", \"beneficiary\", \"beneficiary\", \"benefit\", \"benefit\", \"benefit\", \"benefit\", \"benefit\", \"benefit\", \"benefit\", \"benefit\", \"benefit\", \"big\", \"big\", \"big\", \"big\", \"big\", \"big\", \"big\", \"biodiversity\", \"biodiversity\", \"biodiversity\", \"biodiversity\", \"biology\", \"biology\", \"biology\", \"biology\", \"biomarker\", \"biomarker\", \"biomarker\", \"biomarker\", \"biomarker\", \"block\", \"block\", \"block\", \"block\", \"blood\", \"blood\", \"blood\", \"blood\", \"brain\", \"brain\", \"brain\", \"brain\", \"budget\", \"budget\", \"budget\", \"budget\", \"budget\", \"budget\", \"building\", \"building\", \"building\", \"building\", \"building\", \"building\", \"building\", \"building\", \"business\", \"business\", \"business\", \"business\", \"business\", \"business\", \"business\", \"business\", \"business\", \"c\", \"c\", \"c\", \"c\", \"c\", \"c\", \"cancer\", \"cancer\", \"cancer\", \"cancer\", \"cancer\", \"candidate\", \"candidate\", \"candidate\", \"candidate\", \"capacity\", \"capacity\", \"capacity\", \"capacity\", \"capacity\", \"capacity\", \"capacity\", \"capacity\", \"car\", \"car\", \"carbon\", \"carbon\", \"carbon\", \"carbon\", \"carbon\", \"cardiovascular\", \"cardiovascular\", \"care\", \"care\", \"care\", \"care\", \"care\", \"care\", \"care\", \"case\", \"case\", \"case\", \"case\", \"case\", \"case\", \"case\", \"case\", \"case\", \"case\", \"cell\", \"cell\", \"cell\", \"cell\", \"cell\", \"cell\", \"cell\", \"cellular\", \"cellular\", \"cellular\", \"centre\", \"centre\", \"centre\", \"centre\", \"centre\", \"chain\", \"chain\", \"chain\", \"chain\", \"chain\", \"chain\", \"chain\", \"chain\", \"change\", \"change\", \"change\", \"change\", \"change\", \"change\", \"change\", \"change\", \"change\", \"change\", \"characteristic\", \"characteristic\", \"characteristic\", \"characteristic\", \"characteristic\", \"characteristic\", \"characteristic\", \"characterization\", \"characterization\", \"chemical\", \"chemical\", \"chemical\", \"chemical\", \"chemical\", \"chemical\", \"chemical\", \"child\", \"chronic\", \"chronic\", \"chronic\", \"chronic\", \"chronic\", \"circuit\", \"circuit\", \"circuit\", \"circuit\", \"citizen\", \"citizen\", \"citizen\", \"citizen\", \"citizen\", \"citizen\", \"citizen\", \"city\", \"city\", \"city\", \"city\", \"city\", \"class\", \"class\", \"class\", \"class\", \"class\", \"class\", \"clearly\", \"clearly\", \"clearly\", \"clearly\", \"clearly\", \"climate\", \"climate\", \"climate\", \"climate\", \"climate\", \"climate\", \"clinical\", \"clinical\", \"clinical\", \"clinical\", \"clinical\", \"clinical\", \"clinical\", \"co\", \"co\", \"co\", \"co\", \"co\", \"co\", \"co\", \"co\", \"co\", \"cognitive\", \"cognitive\", \"cognitive\", \"cognitive\", \"cognitive\", \"comfort\", \"comfort\", \"communication\", \"communication\", \"communication\", \"communication\", \"communication\", \"communication\", \"communication\", \"communication\", \"communication\", \"communication\", \"community\", \"community\", \"community\", \"community\", \"community\", \"community\", \"community\", \"community\", \"community\", \"company\", \"company\", \"company\", \"company\", \"company\", \"company\", \"company\", \"company\", \"company\", \"complex\", \"complex\", \"complex\", \"complex\", \"complex\", \"complex\", \"complex\", \"complex\", \"complex\", \"complex\", \"compliance\", \"compliance\", \"compliance\", \"compliance\", \"component\", \"component\", \"component\", \"component\", \"component\", \"component\", \"component\", \"component\", \"component\", \"composite\", \"composite\", \"composite\", \"composition\", \"composition\", \"computational\", \"computational\", \"computational\", \"computational\", \"computational\", \"computational\", \"concept\", \"concept\", \"concept\", \"concept\", \"concept\", \"concept\", \"concept\", \"concept\", \"concept\", \"condition\", \"condition\", \"condition\", \"condition\", \"condition\", \"condition\", \"condition\", \"condition\", \"condition\", \"condition\", \"configuration\", \"configuration\", \"configuration\", \"consumer\", \"consumer\", \"consumer\", \"consumption\", \"consumption\", \"consumption\", \"consumption\", \"consumption\", \"consumption\", \"consumption\", \"consumption\", \"consumption\", \"content\", \"content\", \"content\", \"content\", \"continuous\", \"continuous\", \"continuous\", \"continuous\", \"continuous\", \"continuous\", \"cooperation\", \"cooperation\", \"cooperation\", \"cooperation\", \"coordination\", \"coordination\", \"coordination\", \"cost\", \"cost\", \"cost\", \"cost\", \"cost\", \"cost\", \"cost\", \"cost\", \"cost\", \"cost\", \"country\", \"country\", \"country\", \"country\", \"country\", \"country\", \"country\", \"country\", \"crop\", \"crop\", \"crop\", \"cross\", \"cross\", \"cross\", \"cross\", \"cross\", \"cross\", \"culture\", \"culture\", \"culture\", \"culture\", \"culture\", \"current\", \"current\", \"current\", \"current\", \"current\", \"current\", \"current\", \"current\", \"current\", \"customer\", \"customer\", \"customer\", \"customer\", \"customer\", \"customer\", \"data\", \"data\", \"data\", \"data\", \"data\", \"database\", \"database\", \"database\", \"database\", \"datum\", \"datum\", \"datum\", \"datum\", \"datum\", \"datum\", \"datum\", \"datum\", \"datum\", \"datum\", \"death\", \"death\", \"death\", \"death\", \"design\", \"design\", \"design\", \"design\", \"design\", \"design\", \"design\", \"design\", \"design\", \"development\", \"development\", \"development\", \"development\", \"development\", \"development\", \"development\", \"development\", \"development\", \"development\", \"developmental\", \"developmental\", \"developmental\", \"device\", \"device\", \"device\", \"device\", \"device\", \"device\", \"device\", \"device\", \"device\", \"device\", \"diagnostic\", \"diagnostic\", \"diagnostic\", \"diagnostic\", \"diagnostic\", \"differentiation\", \"differentiation\", \"differentiation\", \"difficult\", \"difficult\", \"difficult\", \"difficult\", \"difficult\", \"disability\", \"disability\", \"disability\", \"disability\", \"disease\", \"disease\", \"disease\", \"disease\", \"disease\", \"disease\", \"disease\", \"disease\", \"disorder\", \"disorder\", \"disorder\", \"disorder\", \"disorder\", \"driver\", \"driver\", \"driver\", \"drug\", \"drug\", \"drug\", \"drug\", \"drug\", \"drug\", \"drug\", \"dynamic\", \"dynamic\", \"dynamic\", \"dynamic\", \"dynamic\", \"dynamic\", \"dynamic\", \"dynamic\", \"early\", \"early\", \"early\", \"early\", \"early\", \"early\", \"early\", \"early\", \"early\", \"earth\", \"earth\", \"earth\", \"earth\", \"earth\", \"eco\", \"eco\", \"eco\", \"eco\", \"ecological\", \"ecological\", \"ecological\", \"ecological\", \"ecological\", \"economic\", \"economic\", \"economic\", \"economic\", \"economic\", \"economic\", \"economic\", \"economic\", \"economic\", \"economic\", \"economy\", \"economy\", \"economy\", \"economy\", \"economy\", \"economy\", \"economy\", \"economy\", \"effect\", \"effect\", \"effect\", \"effect\", \"effect\", \"effect\", \"effect\", \"effect\", \"effect\", \"effectively\", \"effectively\", \"effectively\", \"effectively\", \"effectively\", \"effectively\", \"efficacy\", \"efficacy\", \"efficacy\", \"efficacy\", \"efficiency\", \"efficiency\", \"efficiency\", \"efficiency\", \"efficiency\", \"efficiency\", \"efficiency\", \"efficiency\", \"electric\", \"electric\", \"electric\", \"electric\", \"electrical\", \"electrical\", \"electrical\", \"electrical\", \"electricity\", \"electricity\", \"electronic\", \"electronic\", \"electronic\", \"electronic\", \"electronic\", \"electronic\", \"electronic\", \"electronic\", \"emission\", \"emission\", \"emission\", \"emission\", \"emission\", \"emission\", \"emission\", \"emission\", \"employment\", \"employment\", \"employment\", \"employment\", \"employment\", \"end\", \"end\", \"end\", \"end\", \"end\", \"end\", \"end\", \"end\", \"end\", \"end\", \"energy\", \"energy\", \"energy\", \"energy\", \"energy\", \"energy\", \"energy\", \"energy\", \"energy\", \"enterprise\", \"enterprise\", \"enterprise\", \"enterprise\", \"enterprise\", \"enterprise\", \"entity\", \"entity\", \"entity\", \"entity\", \"entity\", \"environment\", \"environment\", \"environment\", \"environment\", \"environment\", \"environment\", \"environment\", \"environment\", \"environment\", \"environment\", \"environmentally\", \"environmentally\", \"era\", \"era\", \"era\", \"era\", \"era\", \"era\", \"eu\", \"eu\", \"eu\", \"eu\", \"eu\", \"eu\", \"eu\", \"eu\", \"eu\", \"europe\", \"europe\", \"europe\", \"europe\", \"europe\", \"europe\", \"europe\", \"europe\", \"europe\", \"european\", \"european\", \"european\", \"european\", \"european\", \"european\", \"european\", \"european\", \"european\", \"european\", \"evidence\", \"evidence\", \"evidence\", \"evidence\", \"evidence\", \"evidence\", \"evidence\", \"evolution\", \"evolution\", \"evolution\", \"evolution\", \"evolution\", \"evolution\", \"evolution\", \"evolution\", \"evolution\", \"excellence\", \"excellence\", \"experience\", \"experience\", \"experience\", \"experience\", \"experience\", \"experience\", \"experience\", \"experience\", \"experience\", \"exposure\", \"exposure\", \"exposure\", \"exposure\", \"expression\", \"expression\", \"expression\", \"family\", \"family\", \"family\", \"family\", \"family\", \"family\", \"family\", \"family\", \"feasibility\", \"feasibility\", \"feasibility\", \"feasibility\", \"feasibility\", \"feasibility\", \"feasibility\", \"feasibility\", \"field\", \"field\", \"field\", \"field\", \"field\", \"field\", \"field\", \"film\", \"film\", \"film\", \"film\", \"film\", \"final\", \"final\", \"final\", \"final\", \"final\", \"final\", \"fluid\", \"fluid\", \"fluid\", \"fluid\", \"fluid\", \"food\", \"food\", \"food\", \"food\", \"food\", \"food\", \"formation\", \"formation\", \"formation\", \"formation\", \"formation\", \"formation\", \"formation\", \"foundation\", \"foundation\", \"foundation\", \"foundation\", \"foundation\", \"foundation\", \"free\", \"free\", \"free\", \"free\", \"free\", \"free\", \"free\", \"fuel\", \"fuel\", \"fuel\", \"fuel\", \"fuel\", \"fuel\", \"function\", \"function\", \"function\", \"function\", \"function\", \"function\", \"function\", \"function\", \"functional\", \"functional\", \"functional\", \"functional\", \"fundamental\", \"fundamental\", \"fundamental\", \"fundamental\", \"fundamental\", \"fundamental\", \"fundamental\", \"gene\", \"gene\", \"gene\", \"gene\", \"generation\", \"generation\", \"generation\", \"generation\", \"generation\", \"generation\", \"generation\", \"generation\", \"generation\", \"geometry\", \"geometry\", \"geometry\", \"geometry\", \"germany\", \"germany\", \"germany\", \"germany\", \"goal\", \"goal\", \"goal\", \"goal\", \"goal\", \"goal\", \"goal\", \"goal\", \"goal\", \"goal\", \"government\", \"government\", \"government\", \"government\", \"green\", \"green\", \"green\", \"green\", \"green\", \"green\", \"h2020\", \"h2020\", \"h2020\", \"h2020\", \"h2020\", \"half\", \"half\", \"half\", \"half\", \"hardware\", \"hardware\", \"hardware\", \"hardware\", \"hardware\", \"health\", \"health\", \"health\", \"health\", \"health\", \"health\", \"health\", \"health\", \"health\", \"healthcare\", \"healthcare\", \"healthcare\", \"healthcare\", \"healthcare\", \"healthcare\", \"healthy\", \"healthy\", \"healthy\", \"healthy\", \"healthy\", \"heart\", \"heart\", \"heart\", \"heart\", \"heart\", \"heart\", \"heart\", \"heat\", \"heat\", \"heat\", \"heavy\", \"heavy\", \"heavy\", \"heavy\", \"high\", \"high\", \"high\", \"high\", \"high\", \"high\", \"high\", \"high\", \"high\", \"high\", \"holistic\", \"holistic\", \"holistic\", \"holistic\", \"holistic\", \"hospital\", \"hospital\", \"hospital\", \"hospital\", \"human\", \"human\", \"human\", \"human\", \"human\", \"human\", \"human\", \"human\", \"human\", \"hybrid\", \"hybrid\", \"hybrid\", \"hypothesis\", \"hypothesis\", \"hypothesis\", \"hypothesis\", \"ict\", \"ict\", \"ict\", \"imaging\", \"imaging\", \"imaging\", \"immediate\", \"immediate\", \"immediate\", \"immediate\", \"immediate\", \"immune\", \"immune\", \"immune\", \"impact\", \"impact\", \"impact\", \"impact\", \"impact\", \"impact\", \"impact\", \"impact\", \"impact\", \"impact\", \"important\", \"important\", \"important\", \"important\", \"important\", \"important\", \"important\", \"important\", \"important\", \"important\", \"industrial\", \"industrial\", \"industrial\", \"industrial\", \"industrial\", \"industrial\", \"industrial\", \"industry\", \"industry\", \"industry\", \"industry\", \"industry\", \"industry\", \"industry\", \"industry\", \"industry\", \"industry\", \"influence\", \"influence\", \"influence\", \"influence\", \"influence\", \"information\", \"information\", \"information\", \"information\", \"information\", \"information\", \"information\", \"information\", \"information\", \"information\", \"infrastructure\", \"infrastructure\", \"infrastructure\", \"infrastructure\", \"infrastructure\", \"infrastructure\", \"initiative\", \"initiative\", \"initiative\", \"initiative\", \"initiative\", \"initiative\", \"injury\", \"injury\", \"injury\", \"injury\", \"innovation\", \"innovation\", \"innovation\", \"innovation\", \"innovation\", \"innovation\", \"innovation\", \"innovation\", \"innovative\", \"innovative\", \"innovative\", \"innovative\", \"innovative\", \"innovative\", \"innovative\", \"innovative\", \"innovative\", \"institute\", \"institute\", \"institute\", \"institute\", \"institution\", \"institution\", \"institution\", \"institution\", \"institution\", \"instrument\", \"instrument\", \"instrument\", \"instrument\", \"instrument\", \"instrument\", \"intelligence\", \"intelligence\", \"intelligence\", \"intelligence\", \"intelligence\", \"intelligent\", \"intelligent\", \"intelligent\", \"inter\", \"inter\", \"inter\", \"inter\", \"interaction\", \"interaction\", \"interaction\", \"interaction\", \"interaction\", \"interaction\", \"interaction\", \"interaction\", \"interaction\", \"interaction\", \"interactive\", \"interactive\", \"interactive\", \"international\", \"international\", \"international\", \"international\", \"international\", \"international\", \"international\", \"internet\", \"internet\", \"internet\", \"internet\", \"intervention\", \"intervention\", \"intervention\", \"intervention\", \"intervention\", \"investigation\", \"investigation\", \"investigation\", \"investigation\", \"investigation\", \"iot\", \"iot\", \"italy\", \"italy\", \"job\", \"job\", \"job\", \"job\", \"job\", \"job\", \"joint\", \"joint\", \"joint\", \"joint\", \"joint\", \"joint\", \"knowledge\", \"knowledge\", \"knowledge\", \"knowledge\", \"knowledge\", \"knowledge\", \"knowledge\", \"knowledge\", \"knowledge\", \"knowledge\", \"language\", \"language\", \"language\", \"language\", \"large\", \"large\", \"large\", \"large\", \"large\", \"large\", \"large\", \"large\", \"large\", \"large\", \"launch\", \"launch\", \"launch\", \"launch\", \"learning\", \"learning\", \"learning\", \"learning\", \"learning\", \"learning\", \"learning\", \"level\", \"level\", \"level\", \"level\", \"level\", \"level\", \"level\", \"level\", \"level\", \"level\", \"life\", \"life\", \"life\", \"life\", \"life\", \"life\", \"life\", \"life\", \"life\", \"life\", \"likely\", \"likely\", \"likely\", \"likely\", \"likely\", \"likely\", \"limit\", \"limit\", \"limit\", \"limit\", \"limit\", \"limit\", \"link\", \"link\", \"link\", \"link\", \"link\", \"liquid\", \"liquid\", \"liquid\", \"liquid\", \"location\", \"location\", \"location\", \"location\", \"low\", \"low\", \"low\", \"low\", \"low\", \"low\", \"low\", \"low\", \"low\", \"machine\", \"machine\", \"machine\", \"machine\", \"machine\", \"machine\", \"magnetic\", \"magnetic\", \"magnetic\", \"magnetic\", \"management\", \"management\", \"management\", \"management\", \"management\", \"management\", \"management\", \"management\", \"management\", \"manufacturer\", \"manufacturer\", \"manufacturer\", \"manufacturing\", \"manufacturing\", \"manufacturing\", \"manufacturing\", \"market\", \"market\", \"market\", \"market\", \"market\", \"market\", \"market\", \"market\", \"market\", \"marketing\", \"marketing\", \"marketing\", \"marketing\", \"material\", \"material\", \"material\", \"material\", \"material\", \"material\", \"material\", \"material\", \"matter\", \"matter\", \"matter\", \"measure\", \"measure\", \"measure\", \"measure\", \"measure\", \"measure\", \"measure\", \"mechanical\", \"mechanical\", \"mechanical\", \"mechanical\", \"mechanism\", \"mechanism\", \"mechanism\", \"mechanism\", \"mechanism\", \"mechanism\", \"mechanism\", \"mechanism\", \"mechanism\", \"medical\", \"medical\", \"medical\", \"medical\", \"medical\", \"medical\", \"medical\", \"medium\", \"medium\", \"medium\", \"medium\", \"medium\", \"medium\", \"medium\", \"member\", \"member\", \"member\", \"member\", \"member\", \"member\", \"member\", \"memory\", \"memory\", \"memory\", \"memory\", \"metal\", \"metal\", \"metal\", \"method\", \"method\", \"method\", \"method\", \"method\", \"method\", \"method\", \"method\", \"method\", \"method\", \"microscopy\", \"microscopy\", \"microscopy\", \"mobile\", \"mobile\", \"mobile\", \"mobile\", \"mobile\", \"mobile\", \"model\", \"model\", \"model\", \"model\", \"model\", \"model\", \"model\", \"model\", \"model\", \"model\", \"modelling\", \"modelling\", \"modelling\", \"molecular\", \"molecular\", \"molecular\", \"molecular\", \"molecular\", \"mortality\", \"mortality\", \"mortality\", \"motor\", \"motor\", \"motor\", \"mouse\", \"mouse\", \"national\", \"national\", \"national\", \"national\", \"national\", \"national\", \"national\", \"national\", \"near\", \"near\", \"near\", \"near\", \"need\", \"need\", \"need\", \"need\", \"need\", \"need\", \"need\", \"need\", \"need\", \"need\", \"network\", \"network\", \"network\", \"network\", \"network\", \"network\", \"network\", \"network\", \"network\", \"new\", \"new\", \"new\", \"new\", \"new\", \"new\", \"new\", \"new\", \"new\", \"new\", \"noise\", \"noise\", \"noise\", \"noise\", \"novel\", \"novel\", \"novel\", \"novel\", \"novel\", \"novel\", \"novel\", \"novel\", \"novel\", \"novel\", \"object\", \"object\", \"object\", \"object\", \"object\", \"observation\", \"observation\", \"observation\", \"observation\", \"oil\", \"oil\", \"oil\", \"oil\", \"one\", \"one\", \"one\", \"one\", \"online\", \"online\", \"online\", \"online\", \"online\", \"online\", \"online\", \"open\", \"open\", \"open\", \"open\", \"open\", \"open\", \"operator\", \"operator\", \"operator\", \"optical\", \"optical\", \"optical\", \"optical\", \"optical\", \"optimal\", \"optimal\", \"optimal\", \"optimal\", \"optimal\", \"optimal\", \"optimal\", \"optimal\", \"order\", \"order\", \"order\", \"order\", \"order\", \"order\", \"order\", \"order\", \"order\", \"order\", \"organic\", \"organic\", \"organic\", \"organic\", \"organism\", \"organism\", \"organism\", \"organization\", \"organization\", \"organization\", \"owner\", \"owner\", \"owner\", \"owner\", \"package\", \"package\", \"package\", \"package\", \"package\", \"package\", \"participation\", \"participation\", \"participation\", \"participation\", \"partner\", \"partner\", \"partner\", \"partner\", \"partner\", \"partner\", \"partner\", \"partner\", \"partner\", \"partnership\", \"partnership\", \"partnership\", \"partnership\", \"partnership\", \"party\", \"party\", \"party\", \"party\", \"pathology\", \"pathology\", \"pathology\", \"pathway\", \"pathway\", \"pathway\", \"pathway\", \"pathway\", \"pathway\", \"patient\", \"patient\", \"patient\", \"patient\", \"patient\", \"patient\", \"patient\", \"people\", \"people\", \"people\", \"people\", \"people\", \"people\", \"people\", \"people\", \"people\", \"perception\", \"perception\", \"perception\", \"perception\", \"perception\", \"performance\", \"performance\", \"performance\", \"performance\", \"performance\", \"performance\", \"person\", \"person\", \"person\", \"person\", \"person\", \"person\", \"pharmaceutical\", \"pharmaceutical\", \"pharmaceutical\", \"pharmaceutical\", \"pharmaceutical\", \"phase\", \"phase\", \"phase\", \"phase\", \"phase\", \"phase\", \"phase\", \"phase\", \"phase\", \"phase\", \"phenomenon\", \"phenomenon\", \"phenomenon\", \"phenomenon\", \"phenomenon\", \"physics\", \"physics\", \"physics\", \"physics\", \"plan\", \"plan\", \"plan\", \"plan\", \"plan\", \"plan\", \"plan\", \"plan\", \"plant\", \"plant\", \"plant\", \"plant\", \"platform\", \"platform\", \"platform\", \"platform\", \"platform\", \"platform\", \"platform\", \"platform\", \"player\", \"player\", \"player\", \"player\", \"policy\", \"policy\", \"policy\", \"policy\", \"political\", \"political\", \"political\", \"polymer\", \"polymer\", \"polymer\", \"poorly\", \"poorly\", \"poorly\", \"poorly\", \"poorly\", \"potential\", \"potential\", \"potential\", \"potential\", \"potential\", \"potential\", \"potential\", \"potential\", \"potential\", \"power\", \"power\", \"power\", \"power\", \"power\", \"power\", \"power\", \"power\", \"practical\", \"practical\", \"practical\", \"practical\", \"practical\", \"practical\", \"practical\", \"prediction\", \"prediction\", \"prediction\", \"prevention\", \"prevention\", \"prevention\", \"prevention\", \"prevention\", \"privacy\", \"privacy\", \"privacy\", \"privacy\", \"problem\", \"problem\", \"problem\", \"problem\", \"problem\", \"problem\", \"problem\", \"problem\", \"problem\", \"problem\", \"process\", \"process\", \"process\", \"process\", \"process\", \"process\", \"process\", \"process\", \"process\", \"process\", \"product\", \"product\", \"product\", \"product\", \"product\", \"product\", \"product\", \"product\", \"product\", \"product\", \"production\", \"production\", \"production\", \"production\", \"production\", \"production\", \"production\", \"production\", \"production\", \"production\", \"programme\", \"programme\", \"programme\", \"programme\", \"programme\", \"programme\", \"progression\", \"progression\", \"property\", \"property\", \"property\", \"property\", \"property\", \"property\", \"property\", \"property\", \"property\", \"protein\", \"protein\", \"protein\", \"protein\", \"protocol\", \"protocol\", \"protocol\", \"protocol\", \"protocol\", \"prototype\", \"prototype\", \"prototype\", \"prototype\", \"prototype\", \"public\", \"public\", \"public\", \"public\", \"public\", \"public\", \"quality\", \"quality\", \"quality\", \"quality\", \"quality\", \"quality\", \"quality\", \"quality\", \"quality\", \"quantum\", \"range\", \"range\", \"range\", \"range\", \"range\", \"range\", \"range\", \"rate\", \"rate\", \"rate\", \"rate\", \"rate\", \"rate\", \"rate\", \"rate\", \"rate\", \"rate\", \"raw\", \"raw\", \"raw\", \"reaction\", \"reaction\", \"reaction\", \"realistic\", \"realistic\", \"realistic\", \"realistic\", \"recognition\", \"recognition\", \"recognition\", \"recognition\", \"recognition\", \"recognition\", \"record\", \"record\", \"record\", \"record\", \"record\", \"record\", \"recovery\", \"recovery\", \"recovery\", \"recovery\", \"reduction\", \"reduction\", \"reduction\", \"reduction\", \"reduction\", \"reduction\", \"reduction\", \"reduction\", \"reduction\", \"reduction\", \"regional\", \"regional\", \"reliability\", \"reliability\", \"reliability\", \"renewable\", \"renewable\", \"renewable\", \"report\", \"report\", \"report\", \"report\", \"report\", \"research\", \"research\", \"research\", \"research\", \"research\", \"research\", \"research\", \"research\", \"research\", \"research\", \"researcher\", \"researcher\", \"researcher\", \"researcher\", \"researcher\", \"residential\", \"residential\", \"residential\", \"residential\", \"response\", \"response\", \"response\", \"response\", \"response\", \"response\", \"response\", \"response\", \"result\", \"result\", \"result\", \"result\", \"result\", \"result\", \"result\", \"result\", \"result\", \"result\", \"revenue\", \"revenue\", \"revenue\", \"revenue\", \"revenue\", \"revenue\", \"risk\", \"risk\", \"risk\", \"risk\", \"risk\", \"risk\", \"risk\", \"risk\", \"risk\", \"road\", \"road\", \"road\", \"road\", \"roadmap\", \"roadmap\", \"roadmap\", \"roadmap\", \"roadmap\", \"roadmap\", \"robust\", \"robust\", \"robust\", \"robust\", \"robust\", \"robust\", \"robust\", \"robust\", \"role\", \"role\", \"role\", \"role\", \"role\", \"role\", \"role\", \"role\", \"role\", \"rule\", \"rule\", \"rule\", \"rule\", \"rule\", \"safe\", \"safe\", \"safe\", \"safe\", \"safe\", \"safe\", \"safety\", \"safety\", \"safety\", \"safety\", \"safety\", \"safety\", \"safety\", \"safety\", \"safety\", \"sale\", \"sale\", \"sale\", \"sale\", \"sale\", \"saving\", \"saving\", \"saving\", \"saving\", \"scale\", \"scale\", \"scale\", \"scale\", \"scale\", \"scale\", \"scale\", \"scale\", \"school\", \"school\", \"school\", \"school\", \"school\", \"science\", \"science\", \"science\", \"science\", \"science\", \"science\", \"scientific\", \"scientific\", \"scientific\", \"scientific\", \"scientific\", \"scientific\", \"scientific\", \"scientific\", \"scientist\", \"scientist\", \"scientist\", \"screening\", \"screening\", \"screening\", \"screening\", \"secure\", \"secure\", \"secure\", \"secure\", \"secure\", \"secure\", \"security\", \"security\", \"security\", \"security\", \"security\", \"security\", \"security\", \"segment\", \"segment\", \"sensor\", \"sensor\", \"sensor\", \"sensor\", \"sensor\", \"sensor\", \"sensor\", \"sensor\", \"series\", \"series\", \"series\", \"series\", \"series\", \"series\", \"series\", \"service\", \"service\", \"service\", \"service\", \"service\", \"service\", \"service\", \"service\", \"service\", \"set\", \"set\", \"set\", \"set\", \"set\", \"set\", \"set\", \"set\", \"set\", \"setting\", \"setting\", \"setting\", \"setting\", \"severe\", \"severe\", \"severe\", \"severe\", \"severe\", \"sharing\", \"sharing\", \"sharing\", \"sharing\", \"sharing\", \"sharing\", \"signal\", \"signal\", \"signal\", \"signal\", \"signal\", \"simulation\", \"simulation\", \"simulation\", \"simulation\", \"simulation\", \"simulation\", \"smart\", \"smart\", \"smart\", \"smart\", \"smart\", \"smart\", \"sme\", \"sme\", \"sme\", \"sme\", \"sme\", \"sme\", \"sme\", \"smes\", \"social\", \"social\", \"social\", \"social\", \"social\", \"social\", \"social\", \"social\", \"society\", \"society\", \"society\", \"society\", \"society\", \"society\", \"society\", \"society\", \"society\", \"software\", \"software\", \"software\", \"software\", \"software\", \"software\", \"software\", \"software\", \"solution\", \"solution\", \"solution\", \"solution\", \"solution\", \"solution\", \"solution\", \"solution\", \"specie\", \"specie\", \"specie\", \"specie\", \"specie\", \"specie\", \"spectrum\", \"spectrum\", \"spectrum\", \"spectrum\", \"speed\", \"speed\", \"speed\", \"speed\", \"speed\", \"speed\", \"staff\", \"staff\", \"staff\", \"staff\", \"staff\", \"stem\", \"stem\", \"storage\", \"storage\", \"storage\", \"storage\", \"strain\", \"strain\", \"strain\", \"strategy\", \"strategy\", \"strategy\", \"strategy\", \"strategy\", \"strategy\", \"strategy\", \"strategy\", \"strategy\", \"strategy\", \"stress\", \"stress\", \"stress\", \"stress\", \"stress\", \"structural\", \"structural\", \"structural\", \"structural\", \"structure\", \"structure\", \"structure\", \"structure\", \"structure\", \"structure\", \"structure\", \"student\", \"student\", \"student\", \"student\", \"study\", \"study\", \"study\", \"study\", \"study\", \"study\", \"study\", \"study\", \"study\", \"study\", \"supplier\", \"supplier\", \"supplier\", \"supplier\", \"supplier\", \"support\", \"support\", \"support\", \"support\", \"support\", \"support\", \"support\", \"support\", \"symptom\", \"symptom\", \"symptom\", \"synthesis\", \"synthesis\", \"synthesis\", \"system\", \"system\", \"system\", \"system\", \"system\", \"system\", \"system\", \"system\", \"system\", \"system\", \"task\", \"task\", \"task\", \"task\", \"task\", \"task\", \"task\", \"task\", \"task\", \"technology\", \"technology\", \"technology\", \"technology\", \"technology\", \"technology\", \"technology\", \"technology\", \"technology\", \"technology\", \"test\", \"test\", \"test\", \"test\", \"test\", \"test\", \"test\", \"test\", \"test\", \"testing\", \"testing\", \"testing\", \"testing\", \"testing\", \"testing\", \"testing\", \"theory\", \"theory\", \"theory\", \"theory\", \"theory\", \"theory\", \"therapy\", \"therapy\", \"therapy\", \"thermal\", \"thermal\", \"thermal\", \"thermal\", \"thermal\", \"threat\", \"threat\", \"threat\", \"threat\", \"time\", \"time\", \"time\", \"time\", \"time\", \"time\", \"time\", \"time\", \"time\", \"time\", \"tissue\", \"tissue\", \"tissue\", \"tool\", \"tool\", \"tool\", \"tool\", \"tool\", \"tool\", \"tool\", \"tool\", \"tool\", \"tool\", \"trade\", \"trade\", \"trade\", \"trade\", \"traditional\", \"traditional\", \"traditional\", \"traditional\", \"traditional\", \"traditional\", \"traditional\", \"training\", \"training\", \"training\", \"training\", \"training\", \"training\", \"transfer\", \"transfer\", \"transfer\", \"transfer\", \"transportation\", \"transportation\", \"transportation\", \"treatment\", \"treatment\", \"treatment\", \"treatment\", \"treatment\", \"treatment\", \"treatment\", \"trial\", \"trial\", \"trial\", \"trial\", \"trial\", \"typical\", \"typical\", \"typical\", \"typical\", \"understanding\", \"understanding\", \"understanding\", \"understanding\", \"understanding\", \"understanding\", \"understanding\", \"understanding\", \"understanding\", \"union\", \"union\", \"union\", \"union\", \"university\", \"university\", \"university\", \"university\", \"university\", \"unknown\", \"unknown\", \"use\", \"use\", \"use\", \"use\", \"use\", \"use\", \"use\", \"use\", \"use\", \"use\", \"user\", \"user\", \"user\", \"user\", \"user\", \"user\", \"user\", \"user\", \"user\", \"value\", \"value\", \"value\", \"value\", \"value\", \"value\", \"value\", \"value\", \"variety\", \"variety\", \"variety\", \"variety\", \"variety\", \"variety\", \"variety\", \"variety\", \"vehicle\", \"vehicle\", \"vehicle\", \"viability\", \"viability\", \"viability\", \"viability\", \"viability\", \"visit\", \"visit\", \"visit\", \"visit\", \"vivo\", \"vivo\", \"volume\", \"volume\", \"volume\", \"volume\", \"waste\", \"waste\", \"waste\", \"waste\", \"waste\", \"water\", \"water\", \"water\", \"water\", \"water\", \"water\", \"water\", \"water\", \"web\", \"web\", \"web\", \"web\", \"web\", \"web\", \"web\", \"weight\", \"weight\", \"weight\", \"weight\", \"work\", \"work\", \"work\", \"work\", \"work\", \"work\", \"work\", \"work\", \"work\", \"workshop\", \"workshop\", \"workshop\", \"world\", \"world\", \"world\", \"world\", \"world\", \"world\", \"world\", \"world\", \"world\", \"world\", \"year\", \"year\", \"year\", \"year\", \"year\", \"year\", \"year\", \"year\", \"year\", \"year\", \"young\", \"young\", \"young\", \"young\", \"young\", \"young\", \"young\", \"young\", \"\\u20ac\", \"\\u20ac\", \"\\u20ac\"]}, \"R\": 30, \"lambda.step\": 0.01, \"plot.opts\": {\"xlab\": \"PC1\", \"ylab\": \"PC2\"}, \"topic.order\": [6, 9, 1, 5, 7, 8, 10, 3, 4, 2]};\n",
              "\n",
              "function LDAvis_load_lib(url, callback){\n",
              "  var s = document.createElement('script');\n",
              "  s.src = url;\n",
              "  s.async = true;\n",
              "  s.onreadystatechange = s.onload = callback;\n",
              "  s.onerror = function(){console.warn(\"failed to load library \" + url);};\n",
              "  document.getElementsByTagName(\"head\")[0].appendChild(s);\n",
              "}\n",
              "\n",
              "if(typeof(LDAvis) !== \"undefined\"){\n",
              "   // already loaded: just create the visualization\n",
              "   !function(LDAvis){\n",
              "       new LDAvis(\"#\" + \"ldavis_el6101400659292796724257863570\", ldavis_el6101400659292796724257863570_data);\n",
              "   }(LDAvis);\n",
              "}else if(typeof define === \"function\" && define.amd){\n",
              "   // require.js is available: use it to load d3/LDAvis\n",
              "   require.config({paths: {d3: \"https://cdnjs.cloudflare.com/ajax/libs/d3/3.5.5/d3.min\"}});\n",
              "   require([\"d3\"], function(d3){\n",
              "      window.d3 = d3;\n",
              "      LDAvis_load_lib(\"https://cdn.rawgit.com/bmabey/pyLDAvis/files/ldavis.v1.0.0.js\", function(){\n",
              "        new LDAvis(\"#\" + \"ldavis_el6101400659292796724257863570\", ldavis_el6101400659292796724257863570_data);\n",
              "      });\n",
              "    });\n",
              "}else{\n",
              "    // require.js not available: dynamically load d3 & LDAvis\n",
              "    LDAvis_load_lib(\"https://cdnjs.cloudflare.com/ajax/libs/d3/3.5.5/d3.min.js\", function(){\n",
              "         LDAvis_load_lib(\"https://cdn.rawgit.com/bmabey/pyLDAvis/files/ldavis.v1.0.0.js\", function(){\n",
              "                 new LDAvis(\"#\" + \"ldavis_el6101400659292796724257863570\", ldavis_el6101400659292796724257863570_data);\n",
              "            })\n",
              "         });\n",
              "}\n",
              "</script>"
            ],
            "text/plain": [
              "<IPython.core.display.HTML object>"
            ]
          },
          "metadata": {
            "tags": []
          },
          "execution_count": 37
        }
      ]
    },
    {
      "cell_type": "code",
      "metadata": {
        "id": "BA3LS0RQETxM"
      },
      "source": [
        "# In case you run a website and want to publish it...or embed it in a blogpost...\n",
        "pyLDAvis.save_html(lda_display, 'lda.html')"
      ],
      "execution_count": null,
      "outputs": []
    },
    {
      "cell_type": "code",
      "metadata": {
        "id": "cYOPWeMLpMcz",
        "outputId": "f1c34a84-cb02-4eab-a94b-dd748297cdb5",
        "colab": {
          "base_uri": "https://localhost:8080/",
          "height": 51
        }
      },
      "source": [
        "# And that's how you get the topic-number that's ranked highest\n",
        "\n",
        "print(sorted([(2, 0.121567), (9, 0.8610384)], key=lambda x: -x[1]))\n",
        "print(sorted([(2, 0.121567), (9, 0.8610384)], key=lambda x: -x[1])[0][0])"
      ],
      "execution_count": null,
      "outputs": [
        {
          "output_type": "stream",
          "text": [
            "[(9, 0.8610384), (2, 0.121567)]\n",
            "9\n"
          ],
          "name": "stdout"
        }
      ]
    },
    {
      "cell_type": "markdown",
      "metadata": {
        "id": "-A6aJYDXoorZ"
      },
      "source": [
        "From here, you can assign topics to texts...do some EDA, explore how topics evolve over time etc.\n",
        "\n",
        "Finally, let's try out LSA (an older topic-moddeling approach similar to NMF) - thus unsupervised ML\n",
        "\n",
        "More on LDA: https://www.machinelearningplus.com/nlp/topic-modeling-gensim-python/\n"
      ]
    },
    {
      "cell_type": "markdown",
      "metadata": {
        "id": "76xo7pFWI4AB"
      },
      "source": [
        "### Your Turn:\n",
        "\n",
        "![alt text](https://media.giphy.com/media/1zjRp3fs05jhjTuwr3/giphy.gif)\n",
        "\n",
        "Perform an LDA analysis of the #OKBoomer dataset\n",
        "\n",
        "- Filter the corpus using `tweet-preprocessor` - try to figure out how to use it using it's documentation\n",
        "- Clean up further with SpaCy (keep only ADV, ADJ, NOUN)\n",
        "- Use Gensim to build a Dictionary (Filter extremes) and Corpus\n",
        "- Use Gensim to run LDA\n",
        "- Identify 10 topics\n",
        "- Plot topic-counts by day"
      ]
    },
    {
      "cell_type": "code",
      "metadata": {
        "id": "vIc4Nd0SqZ7a"
      },
      "source": [
        "# Import the TfidfModel from Gensim\n",
        "from gensim.models.tfidfmodel import TfidfModel"
      ],
      "execution_count": null,
      "outputs": []
    },
    {
      "cell_type": "code",
      "metadata": {
        "id": "5ABvkfSjd4ly"
      },
      "source": [
        "# Create and fit a new TfidfModel using the corpus: tfidf\n",
        "tfidf = TfidfModel(corpus)"
      ],
      "execution_count": null,
      "outputs": []
    },
    {
      "cell_type": "code",
      "metadata": {
        "id": "s_geBUz3eJ8O"
      },
      "source": [
        "# Now we can transform the whole corpus\n",
        "tfidf_corpus = tfidf[corpus]"
      ],
      "execution_count": null,
      "outputs": []
    },
    {
      "cell_type": "code",
      "metadata": {
        "id": "k36xISjteOkw"
      },
      "source": [
        "# Just like before, we import the model\n",
        "from gensim.models.lsimodel import LsiModel\n",
        "\n",
        "# And we fir it on the tfidf_corpus pointing to the dictionary as reference and the number of topics.\n",
        "# In more serious settings one would pick between 300-400\n",
        "lsi = LsiModel(tfidf_corpus, id2word=dictionary, num_topics=100)"
      ],
      "execution_count": null,
      "outputs": []
    },
    {
      "cell_type": "code",
      "metadata": {
        "id": "tDMZkYbCeTda",
        "outputId": "80ccff64-932d-4e57-bbbd-0a841ed31f37",
        "colab": {
          "base_uri": "https://localhost:8080/",
          "height": 357
        }
      },
      "source": [
        "lsi.show_topics(num_topics=10)"
      ],
      "execution_count": null,
      "outputs": [
        {
          "output_type": "execute_result",
          "data": {
            "text/plain": [
              "[(0,\n",
              "  '0.124*\"market\" + 0.115*\"product\" + 0.111*\"system\" + 0.108*\"energy\" + 0.107*\"research\" + 0.101*\"material\" + 0.100*\"datum\" + 0.099*\"cell\" + 0.097*\"technology\" + 0.097*\"innovation\"'),\n",
              " (1,\n",
              "  '-0.547*\"cell\" + -0.247*\"disease\" + -0.184*\"cancer\" + -0.173*\"protein\" + -0.147*\"stem\" + -0.128*\"patient\" + -0.127*\"drug\" + -0.125*\"mechanism\" + -0.121*\"tissue\" + -0.110*\"gene\"'),\n",
              " (2,\n",
              "  '-0.238*\"sme\" + -0.230*\"innovation\" + 0.229*\"water\" + 0.188*\"energy\" + -0.180*\"research\" + 0.167*\"material\" + 0.157*\"cell\" + -0.136*\"social\" + -0.117*\"service\" + -0.108*\"people\"'),\n",
              " (3,\n",
              "  '0.228*\"sme\" + 0.198*\"feasibility\" + 0.183*\"market\" + -0.162*\"research\" + -0.155*\"science\" + -0.153*\"material\" + -0.147*\"quantum\" + 0.137*\"patient\" + 0.132*\"business\" + 0.131*\"plan\"'),\n",
              " (4,\n",
              "  '0.401*\"cell\" + 0.367*\"sme\" + 0.196*\"innovation\" + -0.193*\"water\" + -0.182*\"health\" + -0.177*\"disease\" + -0.165*\"treatment\" + -0.157*\"patient\" + 0.136*\"stem\" + 0.132*\"instrument\"'),\n",
              " (5,\n",
              "  '-0.247*\"food\" + 0.236*\"datum\" + -0.210*\"water\" + -0.172*\"energy\" + -0.155*\"innovation\" + -0.142*\"research\" + 0.141*\"software\" + -0.141*\"plant\" + 0.138*\"data\" + -0.133*\"sme\"'),\n",
              " (6,\n",
              "  '0.301*\"material\" + -0.299*\"cell\" + -0.222*\"water\" + -0.159*\"energy\" + 0.149*\"drug\" + 0.147*\"quantum\" + -0.147*\"city\" + 0.133*\"composite\" + 0.125*\"diagnostic\" + -0.116*\"people\"'),\n",
              " (7,\n",
              "  '-0.528*\"water\" + 0.250*\"energy\" + 0.180*\"building\" + -0.177*\"sme\" + -0.176*\"plant\" + -0.144*\"food\" + 0.138*\"cell\" + 0.125*\"market\" + -0.121*\"datum\" + -0.114*\"treatment\"'),\n",
              " (8,\n",
              "  '-0.414*\"food\" + 0.226*\"sme\" + 0.225*\"energy\" + -0.223*\"product\" + 0.173*\"air\" + 0.165*\"quantum\" + 0.162*\"water\" + -0.146*\"plant\" + 0.139*\"innovation\" + 0.135*\"building\"'),\n",
              " (9,\n",
              "  '-0.244*\"quantum\" + -0.243*\"protein\" + 0.204*\"drug\" + 0.202*\"cancer\" + 0.201*\"water\" + 0.200*\"material\" + -0.190*\"food\" + 0.157*\"cell\" + -0.150*\"feasibility\" + -0.134*\"plant\"')]"
            ]
          },
          "metadata": {
            "tags": []
          },
          "execution_count": 44
        }
      ]
    },
    {
      "cell_type": "code",
      "metadata": {
        "id": "lj_nxOcveWuN"
      },
      "source": [
        "# And just as before, we can use the trained model to transform the corpus\n",
        "lsi_corpus = lsi[tfidf_corpus]"
      ],
      "execution_count": null,
      "outputs": []
    },
    {
      "cell_type": "code",
      "metadata": {
        "id": "zpyEfcy9eeXk"
      },
      "source": [
        "# Load the MatrixSimilarity\n",
        "from gensim.similarities import MatrixSimilarity\n",
        "\n",
        "# Create the document-topic-matrix\n",
        "document_topic_matrix = MatrixSimilarity(lsi_corpus)\n",
        "document_topic_matrix_ix = document_topic_matrix.index"
      ],
      "execution_count": null,
      "outputs": []
    },
    {
      "cell_type": "code",
      "metadata": {
        "id": "QI8K24W2lTcP",
        "outputId": "4200eec9-e094-46c2-9ae3-d293c0d7cb11",
        "colab": {
          "base_uri": "https://localhost:8080/",
          "height": 54
        }
      },
      "source": [
        "# this now allows us to perform similarity-queries\n",
        "\n",
        "sims = document_topic_matrix[lsi_corpus[0]]\n",
        "sims = sorted(enumerate(sims), key=lambda item: -item[1])\n",
        "print(sims)"
      ],
      "execution_count": null,
      "outputs": [
        {
          "output_type": "stream",
          "text": [
            "[(0, 1.0), (475, 0.66321707), (146, 0.58479154), (103, 0.5585234), (20, 0.52586937), (60, 0.45380157), (418, 0.44865164), (162, 0.43601996), (220, 0.42094985), (118, 0.41939396), (133, 0.4139856), (396, 0.39859667), (275, 0.38971195), (450, 0.38541448), (171, 0.37900043), (364, 0.373286), (154, 0.36948442), (50, 0.36807922), (13, 0.3674369), (301, 0.36440226), (358, 0.35976624), (268, 0.35946536), (199, 0.35654908), (128, 0.35433745), (264, 0.34794855), (62, 0.34623113), (85, 0.3435998), (348, 0.33460397), (344, 0.33337533), (178, 0.33159113), (420, 0.33036238), (289, 0.33028334), (24, 0.32883576), (474, 0.3267151), (270, 0.3250921), (67, 0.32296586), (230, 0.31759572), (472, 0.30672774), (391, 0.29933885), (484, 0.299115), (399, 0.29893756), (76, 0.2960518), (257, 0.2833495), (277, 0.2815896), (323, 0.27994886), (198, 0.27837765), (494, 0.27813885), (167, 0.27611914), (387, 0.27344057), (104, 0.27341443), (8, 0.2729878), (406, 0.2691489), (297, 0.26211712), (245, 0.26143193), (102, 0.2599184), (339, 0.2590009), (428, 0.2584351), (328, 0.2580204), (481, 0.25713032), (398, 0.25136188), (322, 0.24493733), (375, 0.24405009), (31, 0.24101034), (4, 0.2375198), (386, 0.23692355), (479, 0.23587735), (113, 0.23579657), (305, 0.23338065), (99, 0.23200971), (80, 0.22911638), (192, 0.22866811), (356, 0.22841978), (390, 0.22799999), (366, 0.22519499), (54, 0.22481582), (188, 0.22426088), (141, 0.22221453), (231, 0.21999821), (497, 0.2191782), (467, 0.21841446), (299, 0.21606441), (47, 0.2156133), (168, 0.21460205), (3, 0.21230319), (12, 0.21165437), (241, 0.21095908), (173, 0.20956737), (64, 0.20875415), (397, 0.20769188), (330, 0.20764261), (246, 0.2065307), (45, 0.20463777), (30, 0.20441066), (163, 0.20327704), (359, 0.2024933), (332, 0.20193088), (221, 0.20006016), (463, 0.19901101), (457, 0.19826609), (233, 0.19821101), (83, 0.19688478), (370, 0.19652815), (335, 0.1951921), (65, 0.19442649), (43, 0.19439737), (10, 0.19375494), (144, 0.19326723), (355, 0.19198596), (235, 0.19005248), (382, 0.18859506), (242, 0.1883706), (385, 0.18457328), (317, 0.18131417), (223, 0.18086287), (123, 0.18016496), (161, 0.17879589), (280, 0.17763007), (114, 0.17533383), (215, 0.17387417), (411, 0.17329305), (200, 0.17286074), (405, 0.17107436), (466, 0.17089424), (253, 0.16895825), (251, 0.16569063), (165, 0.1643975), (127, 0.16393082), (89, 0.16371033), (6, 0.16314483), (363, 0.16220169), (111, 0.16187054), (372, 0.16113451), (452, 0.16038811), (180, 0.16019157), (261, 0.15948407), (404, 0.15870415), (41, 0.15865353), (369, 0.15747935), (409, 0.15696532), (439, 0.15632899), (73, 0.15562686), (147, 0.15465005), (229, 0.15361409), (267, 0.15347241), (278, 0.15264189), (130, 0.15235455), (143, 0.15195563), (109, 0.15187016), (294, 0.15153268), (42, 0.15144537), (228, 0.15104322), (319, 0.15029778), (204, 0.14999866), (238, 0.14776249), (368, 0.14762458), (1, 0.14744881), (392, 0.1466991), (459, 0.14659733), (495, 0.14600553), (187, 0.14575063), (476, 0.1452905), (239, 0.14461672), (151, 0.1445911), (90, 0.14430302), (256, 0.14405563), (393, 0.14309964), (434, 0.14271969), (326, 0.14269719), (172, 0.14107908), (14, 0.14052755), (315, 0.14013393), (321, 0.13875829), (263, 0.13866095), (49, 0.13713488), (82, 0.13657911), (59, 0.13514858), (340, 0.13432226), (269, 0.13404723), (338, 0.13337992), (189, 0.13337964), (120, 0.13084649), (311, 0.12953354), (212, 0.12871215), (482, 0.12851766), (131, 0.12808353), (441, 0.12637074), (158, 0.12562442), (422, 0.12488905), (116, 0.12467098), (55, 0.124171734), (119, 0.12408247), (265, 0.122481376), (75, 0.122242615), (349, 0.12224194), (195, 0.12087096), (5, 0.11972526), (69, 0.119673334), (205, 0.119370244), (97, 0.11915438), (374, 0.11856927), (343, 0.11856489), (11, 0.11854181), (436, 0.118184045), (365, 0.117449895), (384, 0.11594088), (419, 0.11572009), (191, 0.11519411), (361, 0.114959255), (273, 0.11452286), (440, 0.11368195), (464, 0.11342931), (427, 0.11326393), (442, 0.11295119), (222, 0.11270716), (334, 0.11174406), (258, 0.111565076), (48, 0.11155608), (283, 0.11129222), (412, 0.11117867), (227, 0.11110645), (488, 0.11058526), (249, 0.110414006), (78, 0.11023384), (53, 0.1101794), (288, 0.11015716), (477, 0.109942384), (354, 0.10916597), (202, 0.108167544), (149, 0.10780957), (174, 0.106663264), (107, 0.10640484), (284, 0.10628171), (63, 0.106152534), (350, 0.10609721), (371, 0.105971396), (182, 0.105946995), (240, 0.105877414), (166, 0.10566456), (137, 0.10554737), (96, 0.10538477), (16, 0.105155855), (485, 0.10495713), (34, 0.10459231), (79, 0.10363421), (285, 0.10363387), (318, 0.10342592), (401, 0.10312882), (298, 0.102038905), (145, 0.10104212), (88, 0.10050972), (19, 0.10004374), (286, 0.09992169), (186, 0.099913776), (438, 0.09990108), (51, 0.09911391), (395, 0.09871653), (329, 0.098336935), (403, 0.09828837), (435, 0.09791075), (483, 0.097749785), (105, 0.09767168), (453, 0.09731546), (444, 0.09715358), (219, 0.096587256), (360, 0.095939055), (39, 0.09569532), (209, 0.0955973), (134, 0.09434589), (302, 0.09411679), (279, 0.093669236), (416, 0.093182385), (98, 0.09279403), (498, 0.09259884), (125, 0.09243575), (77, 0.091372535), (304, 0.09134161), (316, 0.09114831), (433, 0.089065835), (493, 0.0890497), (27, 0.088827126), (94, 0.088114545), (410, 0.087967984), (95, 0.08793999), (432, 0.08765432), (312, 0.086639345), (248, 0.08632035), (458, 0.0859448), (124, 0.08585514), (262, 0.08565284), (337, 0.08552113), (156, 0.084358424), (254, 0.08423387), (207, 0.08412736), (313, 0.08317072), (394, 0.08316577), (9, 0.08283), (2, 0.08208337), (376, 0.08188955), (460, 0.0808747), (35, 0.080555454), (266, 0.07964608), (139, 0.07944094), (150, 0.07940975), (152, 0.07891104), (437, 0.07853698), (491, 0.0779142), (181, 0.077668875), (92, 0.07719168), (100, 0.07695709), (38, 0.076198295), (455, 0.07543574), (293, 0.07488986), (478, 0.074623436), (175, 0.07369509), (383, 0.073154286), (470, 0.07278813), (291, 0.07259494), (33, 0.0725483), (157, 0.07245318), (468, 0.072213516), (224, 0.07205793), (424, 0.07194362), (341, 0.07163159), (44, 0.07064285), (66, 0.07062402), (408, 0.070429996), (217, 0.06941448), (400, 0.06887543), (281, 0.06883663), (185, 0.06807343), (17, 0.06771936), (164, 0.0653038), (153, 0.06488896), (142, 0.06423372), (454, 0.06392243), (201, 0.06341463), (193, 0.06331544), (381, 0.062478416), (378, 0.06247042), (91, 0.06243634), (160, 0.062309027), (421, 0.06082295), (216, 0.060726732), (272, 0.060680654), (325, 0.06003665), (324, 0.05970323), (155, 0.05967629), (471, 0.05953677), (346, 0.05914568), (135, 0.059055805), (56, 0.058932062), (110, 0.05861187), (211, 0.058206715), (487, 0.058032222), (32, 0.05778724), (490, 0.057535965), (244, 0.05726946), (308, 0.056319915), (413, 0.05575431), (362, 0.055607993), (415, 0.05560104), (232, 0.055522904), (61, 0.05436887), (380, 0.053449776), (87, 0.053334177), (309, 0.05317106), (112, 0.053040463), (126, 0.052377716), (336, 0.05221736), (184, 0.052193634), (70, 0.05182685), (306, 0.051795438), (367, 0.051646877), (196, 0.05159873), (352, 0.05101534), (307, 0.050342172), (29, 0.0495846), (18, 0.04945919), (417, 0.04944435), (197, 0.04934057), (74, 0.048925497), (101, 0.048682228), (28, 0.04864358), (236, 0.04859917), (170, 0.048147164), (449, 0.047573328), (23, 0.04656338), (443, 0.046545006), (331, 0.046315655), (132, 0.045700096), (292, 0.04528843), (320, 0.04426393), (159, 0.043785173), (68, 0.042711295), (226, 0.042706802), (357, 0.041871905), (247, 0.04186459), (22, 0.041774932), (140, 0.041312113), (489, 0.04116542), (351, 0.041073933), (93, 0.040232353), (177, 0.040052786), (176, 0.039527375), (86, 0.039035603), (255, 0.038852572), (314, 0.0382403), (183, 0.037988655), (446, 0.03723204), (342, 0.037097316), (106, 0.036925063), (300, 0.03683112), (492, 0.035663806), (71, 0.035507508), (260, 0.034604028), (469, 0.034478717), (327, 0.033797022), (407, 0.033666298), (58, 0.033210315), (429, 0.033092886), (473, 0.033027664), (138, 0.031744912), (122, 0.03112865), (169, 0.030550286), (480, 0.02935014), (423, 0.029105622), (121, 0.028925322), (447, 0.028797945), (496, 0.028459147), (296, 0.028209314), (414, 0.0279015), (276, 0.027836323), (353, 0.02753447), (303, 0.026970834), (117, 0.026282333), (25, 0.025857309), (115, 0.025523514), (389, 0.025407787), (274, 0.024843588), (15, 0.024311153), (243, 0.023221083), (194, 0.022895398), (451, 0.022260176), (203, 0.022239253), (373, 0.021695666), (72, 0.021623202), (136, 0.021610528), (208, 0.020410143), (465, 0.020288177), (379, 0.019786365), (46, 0.019765005), (388, 0.018673241), (402, 0.01838136), (425, 0.017855762), (206, 0.017376006), (234, 0.017194003), (486, 0.016993634), (499, 0.0154323), (271, 0.014680535), (57, 0.0136097185), (347, 0.013163697), (81, 0.013108671), (377, 0.009227406), (295, 0.008732144), (250, 0.0075918958), (52, 0.0073588267), (129, 0.007351229), (214, 0.0072341487), (21, 0.005438283), (237, 0.005146086), (148, 0.0044915676), (282, 0.0037650988), (26, 0.0023334697), (426, -0.00039365515), (462, -0.002421081), (210, -0.0025627017), (179, -0.006721817), (108, -0.0070604384), (84, -0.009097053), (259, -0.009364553), (310, -0.010756779), (430, -0.011053927), (40, -0.015196685), (456, -0.015670195), (190, -0.016675204), (287, -0.017114578), (7, -0.020703077), (37, -0.021136303), (225, -0.021141514), (431, -0.023310065), (36, -0.024852842), (448, -0.024998605), (252, -0.027615085), (218, -0.031192116), (445, -0.039575703), (290, -0.042437404), (333, -0.043302014), (461, -0.04623029), (213, -0.056718946), (345, -0.06437758)]\n"
          ],
          "name": "stdout"
        }
      ]
    },
    {
      "cell_type": "markdown",
      "metadata": {
        "id": "pvNB5tGWrtEi"
      },
      "source": [
        "We will go deeper into how that works next time\n",
        "The last bit is a bit of a quick bonus and should be super familiar from M1.\n",
        "\n",
        "Since we now have a matrix with observations and features - why not trying to apply unsupervisd ML that we know from M1?"
      ]
    },
    {
      "cell_type": "code",
      "metadata": {
        "id": "XBn8C2lIefgC"
      },
      "source": [
        "# dimensionali lity reduction for plotting\n",
        "import umap\n",
        "embeddings = umap.UMAP(n_neighbors=15, metric='cosine').fit_transform(document_topic_matrix_ix)\n",
        "\n",
        "#------------------------------\n",
        "# we could use that too\n",
        "\n",
        "#from sklearn.decomposition import PCA\n",
        "\n",
        "#reduced = PCA(n_components = 10).fit_transform(document_topic_matrix_ix)"
      ],
      "execution_count": null,
      "outputs": []
    },
    {
      "cell_type": "code",
      "metadata": {
        "id": "fYlDGWflf5ng",
        "outputId": "6620927f-b2a1-45b5-bcb9-428a3a3a1c93",
        "colab": {
          "base_uri": "https://localhost:8080/",
          "height": 68
        }
      },
      "source": [
        "# Nothing new here\n",
        "from sklearn.cluster import KMeans\n",
        "clusterer = KMeans(n_clusters = 10)\n",
        "clusterer.fit(document_topic_matrix_ix)"
      ],
      "execution_count": null,
      "outputs": [
        {
          "output_type": "execute_result",
          "data": {
            "text/plain": [
              "KMeans(algorithm='auto', copy_x=True, init='k-means++', max_iter=300,\n",
              "       n_clusters=10, n_init=10, n_jobs=None, precompute_distances='auto',\n",
              "       random_state=None, tol=0.0001, verbose=0)"
            ]
          },
          "metadata": {
            "tags": []
          },
          "execution_count": 50
        }
      ]
    },
    {
      "cell_type": "code",
      "metadata": {
        "id": "JCRVRPcygpnG"
      },
      "source": [
        "import seaborn as sns\n",
        "import matplotlib.pyplot as plt"
      ],
      "execution_count": null,
      "outputs": []
    },
    {
      "cell_type": "code",
      "metadata": {
        "id": "k9y77tBVe3VL",
        "outputId": "7d7425ef-8512-4fab-ef86-21654afbdfdd",
        "colab": {
          "base_uri": "https://localhost:8080/",
          "height": 757
        }
      },
      "source": [
        "# Plotting things\n",
        "sns.set_style(\"darkgrid\")\n",
        "\n",
        "plt.rcParams.update({'font.size': 12})\n",
        "plt.figure(figsize=(12,12))\n",
        "g = sns.scatterplot(*embeddings.T,\n",
        "                    #reduced[:,0],reduced[:,1],\n",
        "                   hue=clusterer.labels_,\n",
        "                    palette=\"Paired\",\n",
        "                   legend='full')"
      ],
      "execution_count": null,
      "outputs": [
        {
          "output_type": "stream",
          "text": [
            "/usr/local/lib/python3.6/dist-packages/seaborn/_decorators.py:43: FutureWarning: Pass the following variables as keyword args: x, y. From version 0.12, the only valid positional argument will be `data`, and passing other arguments without an explicit keyword will result in an error or misinterpretation.\n",
            "  FutureWarning\n"
          ],
          "name": "stderr"
        },
        {
          "output_type": "display_data",
          "data": {
            "image/png": "[encoded data removed]",
            "text/plain": [
              "<Figure size 864x864 with 1 Axes>"
            ]
          },
          "metadata": {
            "tags": []
          }
        }
      ]
    },
    {
      "cell_type": "code",
      "metadata": {
        "id": "oQYukJYIgYwY"
      },
      "source": [
        "# Let's explore the clusters ... that should actually correlate with topics found by LDA\n",
        "reports['cluster'] = clusterer.labels_"
      ],
      "execution_count": null,
      "outputs": []
    },
    {
      "cell_type": "code",
      "metadata": {
        "id": "F3chqB3Sg-8_",
        "outputId": "10b0d499-0444-4731-bd2f-d994ce8bb6a1",
        "colab": {
          "base_uri": "https://localhost:8080/",
          "height": 221
        }
      },
      "source": [
        "reports[reports['cluster'] == 2]['teaser']"
      ],
      "execution_count": null,
      "outputs": [
        {
          "output_type": "execute_result",
          "data": {
            "text/plain": [
              "1      Problem/issue: Increasing digitalisation enabl...\n",
              "8      While access to 3D-printing technology becomes...\n",
              "16     Most healthcare software applications are inco...\n",
              "43     With the promise of offering ultra-reliable, l...\n",
              "49     NFFA-Europe research infrastructure (RI) (www....\n",
              "                             ...                        \n",
              "464    The SSIX project is a Big data and Open Data I...\n",
              "479    Many prospect customers, in the market segment...\n",
              "484    Currently, over 40 years of television records...\n",
              "488    The Drone Critical Communications (DroC2om) pr...\n",
              "495    HEMAV, a technology-based SME leader in civil ...\n",
              "Name: teaser, Length: 72, dtype: object"
            ]
          },
          "metadata": {
            "tags": []
          },
          "execution_count": 54
        }
      ]
    },
    {
      "cell_type": "code",
      "metadata": {
        "id": "_hnaBLL0gtCf"
      },
      "source": [
        "from gensim.matutils import corpus2dense"
      ],
      "execution_count": null,
      "outputs": []
    },
    {
      "cell_type": "code",
      "metadata": {
        "id": "7o_i5_NGj8gS"
      },
      "source": [
        "# Let's check out the topics by getting \"top-tfidf\" for the different clusters (and we need to transponse)\n",
        "tfidf_matrix = corpus2dense(tfidf_corpus, len(dictionary)).T"
      ],
      "execution_count": null,
      "outputs": []
    },
    {
      "cell_type": "code",
      "metadata": {
        "id": "jkyGeh87khvL"
      },
      "source": [
        "# write cluster-numbers into our data\n",
        "reports['cluster'] = clusterer.labels_"
      ],
      "execution_count": null,
      "outputs": []
    },
    {
      "cell_type": "code",
      "metadata": {
        "id": "RgCiVflWkpAF"
      },
      "source": [
        "# Get indices to subset the matrix\n",
        "cluster_index = reports[reports['cluster'] == 2].index"
      ],
      "execution_count": null,
      "outputs": []
    },
    {
      "cell_type": "code",
      "metadata": {
        "id": "mffPu-f_zF0o",
        "outputId": "a04fabf3-d285-428b-ed43-5d7313204190",
        "colab": {
          "base_uri": "https://localhost:8080/",
          "height": 34
        }
      },
      "source": [
        "tfidf_matrix[cluster_index,:].shape"
      ],
      "execution_count": null,
      "outputs": [
        {
          "output_type": "execute_result",
          "data": {
            "text/plain": [
              "(72, 1000)"
            ]
          },
          "metadata": {
            "tags": []
          },
          "execution_count": 59
        }
      ]
    },
    {
      "cell_type": "code",
      "metadata": {
        "id": "UquKhoAvk8Ju"
      },
      "source": [
        "# Use numpy to sum up columns for tfidf, get the indices of the sorted values, and flip (descending), and only top 10\n",
        "topk = np.flip(np.argsort(np.sum(tfidf_matrix[cluster_index,:], axis=0)))[:10]"
      ],
      "execution_count": null,
      "outputs": []
    },
    {
      "cell_type": "code",
      "metadata": {
        "id": "DNOoxP9jlIEn",
        "outputId": "f0f56814-466d-41ad-8711-b6da60db2de5",
        "colab": {
          "base_uri": "https://localhost:8080/",
          "height": 187
        }
      },
      "source": [
        "# Use dictionary to get the words from indices\n",
        "[dictionary[x] for x in topk]"
      ],
      "execution_count": null,
      "outputs": [
        {
          "output_type": "execute_result",
          "data": {
            "text/plain": [
              "['datum',\n",
              " 'service',\n",
              " 'data',\n",
              " 'infrastructure',\n",
              " 'network',\n",
              " 'software',\n",
              " 'cloud',\n",
              " 'platform',\n",
              " 'user',\n",
              " 'system']"
            ]
          },
          "metadata": {
            "tags": []
          },
          "execution_count": 61
        }
      ]
    },
    {
      "cell_type": "code",
      "metadata": {
        "id": "KBnWPpnSlT2Z",
        "outputId": "ba38db35-eff9-4095-ee18-1e58609e0c6b",
        "colab": {
          "base_uri": "https://localhost:8080/",
          "height": 187
        }
      },
      "source": [
        "# Let's loop it\n",
        "\n",
        "for i in set(clusterer.labels_):\n",
        "  cluster_index = reports[reports['cluster'] == i].index\n",
        "  topk = np.flip(np.argsort(np.sum(tfidf_matrix[cluster_index,:], axis=0)))[:10]\n",
        "\n",
        "  print(str(i) + str([dictionary[x] for x in topk]))"
      ],
      "execution_count": null,
      "outputs": [
        {
          "output_type": "stream",
          "text": [
            "0['feasibility', 'market', 'business', 'study', 'phase', 'plan', 'product', 'commercial', 'technical', 'strategy']\n",
            "1['people', 'citizen', 'transport', 'digital', 'user', 'road', 'care', 'vehicle', 'safety', 'mobility']\n",
            "2['datum', 'service', 'data', 'infrastructure', 'network', 'software', 'cloud', 'platform', 'user', 'system']\n",
            "3['disease', 'patient', 'drug', 'treatment', 'clinical', 'brain', 'protein', 'diagnostic', 'death', 'health']\n",
            "4['material', 'aircraft', 'process', 'manufacturing', 'composite', 'power', 'metal', 'operation', 'design', 'electrical']\n",
            "5['water', 'energy', '%', 'building', 'fuel', 'air', 'consumption', 'emission', 'system', 'cost']\n",
            "6['food', 'sme', 'innovation', 'management', 'instrument', 'carbon', 'waste', 'consumer', 'gas', 'package']\n",
            "7['cell', 'cancer', 'stem', 'gene', 'plant', 'tissue', 'protein', 'mechanism', 'cellular', 'mouse']\n",
            "8['research', 'science', 'researcher', 'social', 'country', 'community', 'public', 'european', 'innovation', 'activity']\n",
            "9['quantum', 'theory', 'property', 'optical', 'scale', 'physics', 'magnetic', 'problem', 'solid', 'method']\n"
          ],
          "name": "stdout"
        }
      ]
    }
  ]
}